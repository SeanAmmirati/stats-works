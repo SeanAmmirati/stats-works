{
 "cells": [
  {
   "cell_type": "code",
   "execution_count": null,
   "metadata": {
    "autoscroll": false,
    "collapsed": true
   },
   "outputs": [],
   "source": [
    "test_equality_means <- function(norm_vec1, norm_vec2){\n",
    "  sx <- var(norm_vec1)\n",
    "  sy <- var(norm_vec2)\n",
    "  xbar <- mean(norm_vec1)\n",
    "  ybar <- mean(norm_vec2)\n",
    "  n = length(norm_vec1)\n",
    "  m = length(norm_vec2)\n",
    "\n",
    "  tstat <- (xbar - ybar)/(sqrt((1/n + 1/m)*((n - 1)*sx + (m - 1)*sy)/(n + m - 2)))\n",
    "  p_tstat <- pt(tstat,n + m - 2)\n",
    "\n",
    "  return(list(tstat = tstat, prob = p_tstat))\n",
    "}\n",
    "\n",
    "\n",
    "simulatepostprob <- function(vec, prior_params=c(n = 0,S = 0,k = -1,B = 0)){\n",
    "  nnew = prior_params['n']\n",
    "  Snew = prior_params['S']\n",
    "  knew = prior_params['k']\n",
    "  Bnew = prior_params['B']\n",
    "\n",
    "  lst <- list()\n",
    "  for (i in 1:length(vec)) {\n",
    "\n",
    "    obs <- vec[i]\n",
    "\n",
    "    ninit = nnew\n",
    "    Binit = Bnew\n",
    "    Sinit = Snew\n",
    "    kinit = knew\n",
    "\n",
    "    knew = kinit + 1\n",
    "    nnew = ninit + 1\n",
    "    Bnew <- (ninit*Binit + obs)/nnew\n",
    "    Snew <- Sinit + ninit*Binit^2 + obs^2 - nnew*Bnew^2\n",
    "\n",
    "    if (knew == 0) {\n",
    "      sampchi <- 0\n",
    "      sigma <- 0\n",
    "    }else{\n",
    "      ## We randomly sample a value for sigma|x first\n",
    "      sampchi <- sum(rnorm(knew,0,1)^2)\n",
    "      sigma <- sqrt(Snew/sampchi)\n",
    "    }\n",
    "    ## Using sigma, we sample for mu|x, sigma.\n",
    "    mu <- rnorm(1,obs + Bnew, sigma / sqrt(nnew))\n",
    "    lst[[i]] <- mu\n",
    "  }\n",
    "  return(unlist(lst))\n",
    "}\n",
    "\n",
    "rpost <- function(n,vec, prior_params=c(n = 0,S = 0,k = -1,B = 0)){\n",
    "  replicate(n,expr = simulatepostprob(vec)[length(vec)])\n",
    "}\n",
    "\n",
    "\n"
   ]
  }
 ],
 "metadata": {
  "kernelspec": {
   "display_name": "R",
   "language": "R",
   "name": "ir"
  },
  "language_info": {
   "codemirror_mode": "r",
   "file_extension": ".r",
   "mimetype": "text/x-r-source",
   "name": "R",
   "pygments_lexer": "r",
   "version": "3.4.3"
  },
  "latex_envs": {
   "LaTeX_envs_menu_present": true,
   "autoclose": false,
   "autocomplete": true,
   "bibliofile": "biblio.bib",
   "cite_by": "apalike",
   "current_citInitial": 1,
   "eqLabelWithNumbers": true,
   "eqNumInitial": 1,
   "hotkeys": {
    "equation": "Ctrl-E",
    "itemize": "Ctrl-I"
   },
   "labels_anchors": false,
   "latex_user_defs": false,
   "report_style_numbering": false,
   "user_envs_cfg": false
  },
  "toc": {
   "base_numbering": 1,
   "nav_menu": {},
   "number_sections": true,
   "sideBar": true,
   "skip_h1_title": false,
   "title_cell": "Table of Contents",
   "title_sidebar": "Contents",
   "toc_cell": false,
   "toc_position": {},
   "toc_section_display": true,
   "toc_window_display": false
  },
  "varInspector": {
   "cols": {
    "lenName": 16,
    "lenType": 16,
    "lenVar": 40
   },
   "kernels_config": {
    "python": {
     "delete_cmd_postfix": "",
     "delete_cmd_prefix": "del ",
     "library": "var_list.py",
     "varRefreshCmd": "print(var_dic_list())"
    },
    "r": {
     "delete_cmd_postfix": ") ",
     "delete_cmd_prefix": "rm(",
     "library": "var_list.r",
     "varRefreshCmd": "cat(var_dic_list()) "
    }
   },
   "types_to_exclude": [
    "module",
    "function",
    "builtin_function_or_method",
    "instance",
    "_Feature"
   ],
   "window_display": false
  }
 },
 "nbformat": 4,
 "nbformat_minor": 1
}
