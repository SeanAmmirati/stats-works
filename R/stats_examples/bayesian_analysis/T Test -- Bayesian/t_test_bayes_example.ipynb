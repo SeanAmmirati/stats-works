{
 "cells": [
  {
   "cell_type": "code",
   "execution_count": 1,
   "metadata": {
    "ExecuteTime": {
     "end_time": "2019-01-08T02:34:55.425871Z",
     "start_time": "2019-01-08T02:34:55.384Z"
    },
    "autoscroll": false
   },
   "outputs": [],
   "source": [
    "test_equality_means <- function(norm_vec1, norm_vec2){\n",
    "  sx <- var(norm_vec1)\n",
    "  sy <- var(norm_vec2)\n",
    "  xbar <- mean(norm_vec1)\n",
    "  ybar <- mean(norm_vec2)\n",
    "  n = length(norm_vec1)\n",
    "  m = length(norm_vec2)\n",
    "\n",
    "  tstat <- (xbar - ybar)/(sqrt((1/n + 1/m)*((n - 1)*sx + (m - 1)*sy)/(n + m - 2)))\n",
    "  p_tstat <- pt(tstat,n + m - 2)\n",
    "\n",
    "  return(list(tstat = tstat, prob = p_tstat))\n",
    "}\n",
    "\n",
    "\n",
    "simulatepostprob <- function(vec, prior_params=c(n = 0,S = 0,k = -1,B = 0)){\n",
    "  nnew = prior_params['n']\n",
    "  Snew = prior_params['S']\n",
    "  knew = prior_params['k']\n",
    "  Bnew = prior_params['B']\n",
    "\n",
    "  lst <- list()\n",
    "  for (i in 1:length(vec)) {\n",
    "\n",
    "    obs <- vec[i]\n",
    "\n",
    "    ninit = nnew\n",
    "    Binit = Bnew\n",
    "    Sinit = Snew\n",
    "    kinit = knew\n",
    "\n",
    "    knew = kinit + 1\n",
    "    nnew = ninit + 1\n",
    "    Bnew <- (ninit*Binit + obs)/nnew\n",
    "    Snew <- Sinit + ninit*Binit^2 + obs^2 - nnew*Bnew^2\n",
    "\n",
    "    if (knew == 0) {\n",
    "      sampchi <- 0\n",
    "      sigma <- 0\n",
    "    }else{\n",
    "      ## We randomly sample a value for sigma|x first\n",
    "      sampchi <- sum(rnorm(knew,0,1)^2)\n",
    "      sigma <- sqrt(Snew/sampchi)\n",
    "    }\n",
    "    ## Using sigma, we sample for mu|x, sigma.\n",
    "    mu <- rnorm(1,obs + Bnew, sigma / sqrt(nnew))\n",
    "    lst[[i]] <- mu\n",
    "  }\n",
    "  return(unlist(lst))\n",
    "}\n",
    "\n",
    "rpost <- function(n,vec, prior_params=c(n = 0,S = 0,k = -1,B = 0)){\n",
    "  replicate(n,expr = simulatepostprob(vec)[length(vec)])\n",
    "}\n"
   ]
  },
  {
   "cell_type": "markdown",
   "metadata": {},
   "source": [
    "\n",
    "# Standard T-Test\n",
    "Consider the t-test of equality of means. Using the standard procedure for a t-test:\n"
   ]
  },
  {
   "cell_type": "code",
   "execution_count": 2,
   "metadata": {
    "ExecuteTime": {
     "end_time": "2019-01-08T02:34:56.562088Z",
     "start_time": "2019-01-08T02:34:56.406Z"
    },
    "autoscroll": false
   },
   "outputs": [
    {
     "data": {
      "text/html": [
       "<dl>\n",
       "\t<dt>$tstat</dt>\n",
       "\t\t<dd>3.48432421316996</dd>\n",
       "\t<dt>$prob</dt>\n",
       "\t\t<dd>0.998676366290831</dd>\n",
       "</dl>\n"
      ],
      "text/latex": [
       "\\begin{description}\n",
       "\\item[\\$tstat] 3.48432421316996\n",
       "\\item[\\$prob] 0.998676366290831\n",
       "\\end{description}\n"
      ],
      "text/markdown": [
       "$tstat\n",
       ":   3.48432421316996\n",
       "$prob\n",
       ":   0.998676366290831\n",
       "\n",
       "\n"
      ],
      "text/plain": [
       "$tstat\n",
       "[1] 3.484324\n",
       "\n",
       "$prob\n",
       "[1] 0.9986764\n"
      ]
     },
     "metadata": {},
     "output_type": "display_data"
    }
   ],
   "source": [
    "vec1 <- c(120,107,110,116,114,111,113,117,114,112)\n",
    "vec2 <- c(110,111,107,108,110,105,107,106,111,111)\n",
    "\n",
    "t_test_res = test_equality_means(vec1, vec2)\n",
    "t_test_res"
   ]
  },
  {
   "cell_type": "markdown",
   "metadata": {},
   "source": [
    "\n",
    "We can see that the t-test gives us a significant result -- the two means would have a difference smaller than the observed difference\n",
    "with probability `r t_test_res$prob`. We then would reject the null hypothesis with 95% confidence (or even 99% confidence.)\n",
    "\n",
    "# Bayesian Approach\n",
    "\n",
    "Now let's try to solve this problem with our Bayesian hats! Assuming that we have a prior distribution of $\\mu$ and $\\sigma^2$ such that\n",
    "$x \\mid \\mu, \\sigma^2 \\sim N(\\mu, \\sigma^2)$ , we want the posterior $f(\\mu \\mid x_1, x_2, ..., x_n, \\sigma^2)$ . Assuming a prior of $\\mu \\mid \\sigma^2 \\sim N(\\beta, \\frac{\\sigma}{\\sqrt{n}})$ and\n",
    "$\\frac{S}{\\sigma^2} \\sim \\chi^2(k)$, we start with prior parameters $\\beta_0, n, S_0, k$  and update for each value of x.\n",
    "\n",
    "\n"
   ]
  },
  {
   "cell_type": "code",
   "execution_count": 3,
   "metadata": {
    "ExecuteTime": {
     "end_time": "2019-01-08T02:34:57.286385Z",
     "start_time": "2019-01-08T02:34:57.202Z"
    },
    "autoscroll": false
   },
   "outputs": [
    {
     "data": {
      "text/html": [
       "<ol class=list-inline>\n",
       "\t<li>20</li>\n",
       "\t<li>-0.503416712324565</li>\n",
       "\t<li>1.45988251782074</li>\n",
       "\t<li>17.6073011837844</li>\n",
       "\t<li>7.22926620488519</li>\n",
       "\t<li>9.24411515038176</li>\n",
       "\t<li>8.35747543643981</li>\n",
       "\t<li>15.4506594648444</li>\n",
       "\t<li>8.61721035342939</li>\n",
       "\t<li>6.22213384120991</li>\n",
       "</ol>\n"
      ],
      "text/latex": [
       "\\begin{enumerate*}\n",
       "\\item 20\n",
       "\\item -0.503416712324565\n",
       "\\item 1.45988251782074\n",
       "\\item 17.6073011837844\n",
       "\\item 7.22926620488519\n",
       "\\item 9.24411515038176\n",
       "\\item 8.35747543643981\n",
       "\\item 15.4506594648444\n",
       "\\item 8.61721035342939\n",
       "\\item 6.22213384120991\n",
       "\\end{enumerate*}\n"
      ],
      "text/markdown": [
       "1. 20\n",
       "2. -0.503416712324565\n",
       "3. 1.45988251782074\n",
       "4. 17.6073011837844\n",
       "5. 7.22926620488519\n",
       "6. 9.24411515038176\n",
       "7. 8.35747543643981\n",
       "8. 15.4506594648444\n",
       "9. 8.61721035342939\n",
       "10. 6.22213384120991\n",
       "\n",
       "\n"
      ],
      "text/plain": [
       " [1] 20.0000000 -0.5034167  1.4598825 17.6073012  7.2292662  9.2441152\n",
       " [7]  8.3574754 15.4506595  8.6172104  6.2221338"
      ]
     },
     "metadata": {},
     "output_type": "display_data"
    }
   ],
   "source": [
    "simulatepostprob(vec = vec1) - simulatepostprob(vec = vec2)"
   ]
  },
  {
   "cell_type": "markdown",
   "metadata": {},
   "source": [
    "By iterating for each observation, we arrive at a posterior distribution for $\\mu \\mid \\sigma^2$ and $\\frac{S}{\\sigma^2}$. We then sample randomly from these theoretical distributions to\n",
    "sample from the posterior distributions. If we replicate this many times, we will be able to estimate the differences between the posterior distributions of the two vectors.\n",
    "\n",
    "Using uninformative prior gives similar results to frequentist t-test method\n"
   ]
  },
  {
   "cell_type": "code",
   "execution_count": 4,
   "metadata": {
    "ExecuteTime": {
     "end_time": "2019-01-08T02:34:59.030704Z",
     "start_time": "2019-01-08T02:34:58.511Z"
    },
    "autoscroll": false
   },
   "outputs": [
    {
     "data": {
      "text/html": [
       "0.999"
      ],
      "text/latex": [
       "0.999"
      ],
      "text/markdown": [
       "0.999"
      ],
      "text/plain": [
       "[1] 0.999"
      ]
     },
     "metadata": {},
     "output_type": "display_data"
    }
   ],
   "source": [
    "sum(rpost(1000,vec1) > rpost(1000,vec2))/1000"
   ]
  },
  {
   "cell_type": "markdown",
   "metadata": {},
   "source": [
    "\n",
    "We can then use our prior information about the sample to produce a mixed, updated result. For instance, with prior parameters:\n",
    "\n"
   ]
  },
  {
   "cell_type": "code",
   "execution_count": 5,
   "metadata": {
    "ExecuteTime": {
     "end_time": "2019-01-08T02:35:01.992814Z",
     "start_time": "2019-01-08T02:35:01.951Z"
    },
    "autoscroll": false
   },
   "outputs": [],
   "source": [
    "prior_params = c(n=10, S=2, k=9, B=30)"
   ]
  },
  {
   "cell_type": "markdown",
   "metadata": {},
   "source": [
    "We can see our posterior:\n",
    "\n"
   ]
  },
  {
   "cell_type": "code",
   "execution_count": 6,
   "metadata": {
    "ExecuteTime": {
     "end_time": "2019-01-08T02:35:03.218170Z",
     "start_time": "2019-01-08T02:35:02.801Z"
    },
    "autoscroll": false
   },
   "outputs": [
    {
     "data": {
      "text/html": [
       "0.999"
      ],
      "text/latex": [
       "0.999"
      ],
      "text/markdown": [
       "0.999"
      ],
      "text/plain": [
       "[1] 0.999"
      ]
     },
     "metadata": {},
     "output_type": "display_data"
    }
   ],
   "source": [
    "sum(rpost(1000, vec1, prior_params) > rpost(1000, vec2, prior_params))/1000"
   ]
  }
 ],
 "metadata": {
  "Rmd_header": {
   "author": "Sean Ammirati",
   "date": "July 29, 2018",
   "output": "html_document",
   "title": "t_test_bayes_example"
  },
  "kernelspec": {
   "display_name": "R",
   "language": "R",
   "name": "ir"
  },
  "language_info": {
   "codemirror_mode": "r",
   "file_extension": ".r",
   "mimetype": "text/x-r-source",
   "name": "R",
   "pygments_lexer": "r",
   "version": "3.4.3"
  },
  "latex_envs": {
   "LaTeX_envs_menu_present": true,
   "autoclose": false,
   "autocomplete": true,
   "bibliofile": "biblio.bib",
   "cite_by": "apalike",
   "current_citInitial": 1,
   "eqLabelWithNumbers": true,
   "eqNumInitial": 1,
   "hotkeys": {
    "equation": "Ctrl-E",
    "itemize": "Ctrl-I"
   },
   "labels_anchors": false,
   "latex_user_defs": false,
   "report_style_numbering": false,
   "user_envs_cfg": false
  },
  "toc": {
   "base_numbering": 1,
   "nav_menu": {},
   "number_sections": true,
   "sideBar": true,
   "skip_h1_title": false,
   "title_cell": "Table of Contents",
   "title_sidebar": "Contents",
   "toc_cell": false,
   "toc_position": {},
   "toc_section_display": true,
   "toc_window_display": false
  },
  "varInspector": {
   "cols": {
    "lenName": 16,
    "lenType": 16,
    "lenVar": 40
   },
   "kernels_config": {
    "python": {
     "delete_cmd_postfix": "",
     "delete_cmd_prefix": "del ",
     "library": "var_list.py",
     "varRefreshCmd": "print(var_dic_list())"
    },
    "r": {
     "delete_cmd_postfix": ") ",
     "delete_cmd_prefix": "rm(",
     "library": "var_list.r",
     "varRefreshCmd": "cat(var_dic_list()) "
    }
   },
   "types_to_exclude": [
    "module",
    "function",
    "builtin_function_or_method",
    "instance",
    "_Feature"
   ],
   "window_display": false
  }
 },
 "nbformat": 4,
 "nbformat_minor": 1
}
