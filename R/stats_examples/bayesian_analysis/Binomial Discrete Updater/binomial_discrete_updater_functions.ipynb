{
 "cells": [
  {
   "cell_type": "code",
   "execution_count": null,
   "metadata": {
    "autoscroll": false,
    "collapsed": true
   },
   "outputs": [],
   "source": [
    "## Finds posterior distribution of observed values assuming that k follows a binomial distribution. p is discrete in this case.\n",
    "\n",
    "numerator <- function(k, n, posprobs, probsofprobs){\n",
    "  ## finds the numerator -- ie P(k|p)P(p)\n",
    "  ## k (integer) : the total number of observed successes.\n",
    "  ## n (integer) : the total number of observed trials.\n",
    "  ## posprobs (vector): possible p values associated with the random variable k.\n",
    "  ## probsofprobs (vector): this is our prior, mapping a probability to each possible probability\n",
    "\n",
    "  function(p){\n",
    "    ## For a particular p, this will find the posterior probability of p given observed values. This is a function generator -- given\n",
    "    ## values of k and n, we can then find the probability of any particular p.\n",
    "    x <- posprobs[p]\n",
    "    px <- probsofprobs[p]\n",
    "\n",
    "    res <- (x^k)*((1 - x)^(n-k))*px\n",
    "    return(res)\n",
    "  }\n",
    "}\n",
    "\n",
    "denominator <- function(k,n, posprobs, probsofprobs){\n",
    "  ## Finds the denominator, the multiplicative constant. Same for all values of p. P(k)\n",
    "  sum(sapply(X = 1:length(posprobs),FUN= numerator(k,n, posprobs, probsofprobs)))\n",
    "}\n",
    "\n",
    "probabilityfinder <- function(k,n,p, posprobs, probsofprobs){\n",
    "  ## Finds the posterior probability of a particular p value.\n",
    "  numerator(k,n, posprobs, probsofprobs)(p)/denominator(k,n, posprobs, probsofprobs)\n",
    "}\n",
    "\n",
    "posterior <- function(k,n, posprobs, probsofprobs){\n",
    "  ## Finds the posterior probability mass function of the p values.\n",
    "  sapply(X = 1:length(posprobs),FUN=function(p) probabilityfinder(k,n,p, posprobs, probsofprobs))\n",
    "}\n",
    "\n",
    "log_transf_numerator <- function(k,n){\n",
    "  ## finds the numerator -- ie P(k|p)P(p), using log transform to avoid machine zeros\n",
    "  ## k (integer) : the total number of observed successes.\n",
    "  ## n (integer) : the total number of observed trials.\n",
    "  ## posprobs (vector): possible p values associated with the random variable k.\n",
    "  ## probsofprobs (vector): this is our prior, mapping a probability to each possible probability\n",
    "  function(p){\n",
    "    ## For a particular p, this will find the posterior probability of p given observed values. This is a function generator -- given\n",
    "    ## values of k and n, we can then find the probability of any particular p.\n",
    "\n",
    "    x <- posprobs[p]\n",
    "    px <- probsofprobs[p]\n",
    "\n",
    "    mx <- max(sapply(posprobs, function(pr) k*log(pr) + (n - k)*log(1 - pr)))\n",
    "\n",
    "    res <- exp(k*log(x) + (n - k)*log(1 - x) - mx) * probsofprobs[p]\n",
    "    return(res)\n",
    "  }\n",
    "}\n",
    "\n",
    "log_transf_denominator <- function(k,n){\n",
    "  ## Finds the denominator, the multiplicative constant, using log transform for machine zeros. Same for all values of p. P(k)\n",
    "\n",
    "  sum(sapply(X = 1:length(posprobs),FUN= log_transf_numerator(k,n)))\n",
    "}\n",
    "\n",
    "log_transf_probabilitydist <- function(k,n,p){\n",
    "  ## Finds the posterior probability of a particular p value using log transform.\n",
    "  log_transf_numerator(k,n)(p)/log_transf_denominator(k,n)\n",
    "}\n",
    "\n",
    "log_transf_posterior <- function(k,n){\n",
    "  ## Finds the posterior probability mass function of the p values using log transform\n",
    "\n",
    "  sapply(X = 1:length(posprobs),FUN=function(x) log_transf_probabilitydist(k,n,x))\n",
    "}\n"
   ]
  }
 ],
 "metadata": {
  "kernelspec": {
   "display_name": "R",
   "language": "R",
   "name": "ir"
  },
  "language_info": {
   "codemirror_mode": "r",
   "file_extension": ".r",
   "mimetype": "text/x-r-source",
   "name": "R",
   "pygments_lexer": "r",
   "version": "3.4.3"
  },
  "latex_envs": {
   "LaTeX_envs_menu_present": true,
   "autoclose": false,
   "autocomplete": true,
   "bibliofile": "biblio.bib",
   "cite_by": "apalike",
   "current_citInitial": 1,
   "eqLabelWithNumbers": true,
   "eqNumInitial": 1,
   "hotkeys": {
    "equation": "Ctrl-E",
    "itemize": "Ctrl-I"
   },
   "labels_anchors": false,
   "latex_user_defs": false,
   "report_style_numbering": false,
   "user_envs_cfg": false
  },
  "toc": {
   "base_numbering": 1,
   "nav_menu": {},
   "number_sections": true,
   "sideBar": true,
   "skip_h1_title": false,
   "title_cell": "Table of Contents",
   "title_sidebar": "Contents",
   "toc_cell": false,
   "toc_position": {},
   "toc_section_display": true,
   "toc_window_display": false
  },
  "varInspector": {
   "cols": {
    "lenName": 16,
    "lenType": 16,
    "lenVar": 40
   },
   "kernels_config": {
    "python": {
     "delete_cmd_postfix": "",
     "delete_cmd_prefix": "del ",
     "library": "var_list.py",
     "varRefreshCmd": "print(var_dic_list())"
    },
    "r": {
     "delete_cmd_postfix": ") ",
     "delete_cmd_prefix": "rm(",
     "library": "var_list.r",
     "varRefreshCmd": "cat(var_dic_list()) "
    }
   },
   "types_to_exclude": [
    "module",
    "function",
    "builtin_function_or_method",
    "instance",
    "_Feature"
   ],
   "window_display": false
  }
 },
 "nbformat": 4,
 "nbformat_minor": 1
}
