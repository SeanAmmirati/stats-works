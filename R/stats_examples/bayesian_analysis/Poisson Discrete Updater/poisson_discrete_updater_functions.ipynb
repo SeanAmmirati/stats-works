{
 "cells": [
  {
   "cell_type": "code",
   "execution_count": null,
   "metadata": {
    "autoscroll": false,
    "collapsed": true
   },
   "outputs": [],
   "source": [
    "## Poisson Discrete Updater\n",
    "\n",
    "## Basic Bayesian analysis on discrete random variables.\n",
    "\n",
    "## Given our data follows a Poisson distribution, finds the probability of various\n",
    "## lambdas given an observed value using discrete probabilities for discrete lambda values.\n",
    "\n",
    "## In this case I have generalized this to where lambda_new = lambda * t where t is the number of days.\n",
    "\n",
    "## Consider that the number of events, k, in t days follows a Poisson distribution with lambda = t*l.\n",
    "## For example, consider that the number of accidents in t days is distributed Poisson(t*l)\n",
    "\n",
    "## Given prior beliefs about various l values (can be seen as the daily rate), we find the posterior distribution\n",
    "## of these lambdas given new information.\n",
    "\n",
    "# Variables:\n",
    "\n",
    "## pos_lambda (vector): a vector of hypothesized lambdas to check in posterior distribution.\n",
    "## prior_probs (vector): a vector of prior probabilities for the hypothesized lambdas\n",
    "## X (dataframe): a dataframe of new observed values, where the first column is the total number of events and t is the\n",
    "## total number of days. For instance k=4, t=2 means there were two accidents per day, or 4 accidents in two days. k is the first column and t\n",
    "## the second.\n",
    "\n",
    "ManualPoisson <- function(k,t,l){\n",
    "  # Same as dpois(x=k,lambda = l*t), or explictly\n",
    "  return(((t*l)^k)*exp(-t*l)/factorial(k))\n",
    "}\n",
    "\n",
    "PosteriorFinder <- function(k,t,plam,pp){\n",
    "  # Finds the posterior and multiplicative constant for given probabilities and values.\n",
    "  const <- sum(mapply(function(l,p) ManualPoisson(k,t,l)*p,plam,pp))\n",
    "  post <- mapply(function(l,p) ManualPoisson(k,t,l)*p/const, plam,pp)\n",
    "  return(list(const = const, post = post))\n",
    "}\n",
    "\n",
    "find_posterior <- function(pos_lambda, prior_probs, X){\n",
    "  ## sanity checks\n",
    "  if (sum(pos_lambda > 0) != length(pos_lambda)) {\n",
    "    stop(\"Lambdas must all be greater than zero.\")\n",
    "  }\n",
    "  if (sum(prior_probs) != 1) {\n",
    "    stop('Priors must sum to 1, as they are probabilities.')\n",
    "  }\n",
    "  if (ncol(X) != 2) {\n",
    "    stop(\"X can only have two columns (number of incidents and time)\")\n",
    "  }\n",
    "  if (length(pos_lambda) != length(prior_probs)) {\n",
    "    stop(\"The lambda vector and probability vector must be the same length.\")\n",
    "  }\n",
    "\n",
    "  ## Initialize probabilities as prior probabilities.\n",
    "  probs <- prior_probs\n",
    "  # Updates the posteriors for each observed value\n",
    "  for (i in nrow(X)) {\n",
    "    k <- X[i,1]\n",
    "    t <- X[i,2]\n",
    "    probs <- PosteriorFinder(k,t, pos_lambda, probs)$post\n",
    "  }\n",
    "\n",
    "  posterior = probs\n",
    "  return(posterior)\n",
    "}\n"
   ]
  }
 ],
 "metadata": {
  "kernelspec": {
   "display_name": "R",
   "language": "R",
   "name": "ir"
  },
  "language_info": {
   "codemirror_mode": "r",
   "file_extension": ".r",
   "mimetype": "text/x-r-source",
   "name": "R",
   "pygments_lexer": "r",
   "version": "3.4.3"
  },
  "latex_envs": {
   "LaTeX_envs_menu_present": true,
   "autoclose": false,
   "autocomplete": true,
   "bibliofile": "biblio.bib",
   "cite_by": "apalike",
   "current_citInitial": 1,
   "eqLabelWithNumbers": true,
   "eqNumInitial": 1,
   "hotkeys": {
    "equation": "Ctrl-E",
    "itemize": "Ctrl-I"
   },
   "labels_anchors": false,
   "latex_user_defs": false,
   "report_style_numbering": false,
   "user_envs_cfg": false
  },
  "toc": {
   "base_numbering": 1,
   "nav_menu": {},
   "number_sections": true,
   "sideBar": true,
   "skip_h1_title": false,
   "title_cell": "Table of Contents",
   "title_sidebar": "Contents",
   "toc_cell": false,
   "toc_position": {},
   "toc_section_display": true,
   "toc_window_display": false
  },
  "varInspector": {
   "cols": {
    "lenName": 16,
    "lenType": 16,
    "lenVar": 40
   },
   "kernels_config": {
    "python": {
     "delete_cmd_postfix": "",
     "delete_cmd_prefix": "del ",
     "library": "var_list.py",
     "varRefreshCmd": "print(var_dic_list())"
    },
    "r": {
     "delete_cmd_postfix": ") ",
     "delete_cmd_prefix": "rm(",
     "library": "var_list.r",
     "varRefreshCmd": "cat(var_dic_list()) "
    }
   },
   "types_to_exclude": [
    "module",
    "function",
    "builtin_function_or_method",
    "instance",
    "_Feature"
   ],
   "window_display": false
  }
 },
 "nbformat": 4,
 "nbformat_minor": 1
}
