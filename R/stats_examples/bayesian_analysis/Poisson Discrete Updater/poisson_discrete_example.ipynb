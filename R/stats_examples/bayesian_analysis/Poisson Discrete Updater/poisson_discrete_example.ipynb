{
 "cells": [
  {
   "cell_type": "code",
   "execution_count": 4,
   "metadata": {
    "ExecuteTime": {
     "end_time": "2019-01-08T02:26:58.550410Z",
     "start_time": "2019-01-08T02:26:58.499Z"
    },
    "autoscroll": false
   },
   "outputs": [],
   "source": [
    "## Poisson Discrete Updater\n",
    "\n",
    "## Basic Bayesian analysis on discrete random variables.\n",
    "\n",
    "## Given our data follows a Poisson distribution, finds the probability of various\n",
    "## lambdas given an observed value using discrete probabilities for discrete lambda values.\n",
    "\n",
    "## In this case I have generalized this to where lambda_new = lambda * t where t is the number of days.\n",
    "\n",
    "## Consider that the number of events, k, in t days follows a Poisson distribution with lambda = t*l.\n",
    "## For example, consider that the number of accidents in t days is distributed Poisson(t*l)\n",
    "\n",
    "## Given prior beliefs about various l values (can be seen as the daily rate), we find the posterior distribution\n",
    "## of these lambdas given new information.\n",
    "\n",
    "# Variables:\n",
    "\n",
    "## pos_lambda (vector): a vector of hypothesized lambdas to check in posterior distribution.\n",
    "## prior_probs (vector): a vector of prior probabilities for the hypothesized lambdas\n",
    "## X (dataframe): a dataframe of new observed values, where the first column is the total number of events and t is the\n",
    "## total number of days. For instance k=4, t=2 means there were two accidents per day, or 4 accidents in two days. k is the first column and t\n",
    "## the second.\n",
    "\n",
    "ManualPoisson <- function(k,t,l){\n",
    "  # Same as dpois(x=k,lambda = l*t), or explictly\n",
    "  return(((t*l)^k)*exp(-t*l)/factorial(k))\n",
    "}\n",
    "\n",
    "PosteriorFinder <- function(k,t,plam,pp){\n",
    "  # Finds the posterior and multiplicative constant for given probabilities and values.\n",
    "  const <- sum(mapply(function(l,p) ManualPoisson(k,t,l)*p,plam,pp))\n",
    "  post <- mapply(function(l,p) ManualPoisson(k,t,l)*p/const, plam,pp)\n",
    "  return(list(const = const, post = post))\n",
    "}\n",
    "\n",
    "find_posterior <- function(pos_lambda, prior_probs, X){\n",
    "  ## sanity checks\n",
    "  if (sum(pos_lambda > 0) != length(pos_lambda)) {\n",
    "    stop(\"Lambdas must all be greater than zero.\")\n",
    "  }\n",
    "  if (sum(prior_probs) != 1) {\n",
    "    stop('Priors must sum to 1, as they are probabilities.')\n",
    "  }\n",
    "  if (ncol(X) != 2) {\n",
    "    stop(\"X can only have two columns (number of incidents and time)\")\n",
    "  }\n",
    "  if (length(pos_lambda) != length(prior_probs)) {\n",
    "    stop(\"The lambda vector and probability vector must be the same length.\")\n",
    "  }\n",
    "\n",
    "  ## Initialize probabilities as prior probabilities.\n",
    "  probs <- prior_probs\n",
    "  # Updates the posteriors for each observed value\n",
    "  for (i in nrow(X)) {\n",
    "    k <- X[i,1]\n",
    "    t <- X[i,2]\n",
    "    probs <- PosteriorFinder(k,t, pos_lambda, probs)$post\n",
    "  }\n",
    "\n",
    "  posterior = probs\n",
    "  return(posterior)\n",
    "}\n"
   ]
  },
  {
   "cell_type": "markdown",
   "metadata": {},
   "source": [
    "# Example : Allergic Reactions\n",
    "\n",
    "Example: Consider that we believe that people in most counties will have a severe allergic reaction around 1.5 times per day.\n",
    "We have an expert who has just moved to XYZ county who thinks that this is not the case in the county. He wants to test this hypothesis on\n",
    "stretches of the last two weeks, where he believes we have seen a lower number of alergic reactions.\n",
    "(There was 12 incidents in the first 6 days, and zero in the last seven)\n",
    "\n",
    "Suppose that we know (by some empirical estimation) that counties in the US approximately have probabilities .1,.2,.3,.2,.15,.05 of their rates\n",
    "being .5,1,1.5,2,2.5,4 respectively.\n",
    "We believe that the distribution of the number of severe alergic reactions follows a Poisson distribution with rate lambda. That is, the rate is constant in\n",
    "a given county, and each event occurs independently of one another (i.e., one person having an alergic reaction does not effect the probability of another\n",
    "having one). Given these assumptions, we want to check the probability of the rates given our new data.\n",
    "\n"
   ]
  },
  {
   "cell_type": "code",
   "execution_count": 5,
   "metadata": {
    "ExecuteTime": {
     "end_time": "2019-01-08T02:27:00.846833Z",
     "start_time": "2019-01-08T02:27:00.773Z"
    },
    "autoscroll": false
   },
   "outputs": [
    {
     "data": {
      "text/html": [
       "<ol class=list-inline>\n",
       "\t<li>0.14075345211024</li>\n",
       "\t<li>0.544049403057648</li>\n",
       "\t<li>0.280702619102117</li>\n",
       "\t<li>0.031750965697214</li>\n",
       "\t<li>0.00274313760334297</li>\n",
       "\t<li>4.22429437384091e-07</li>\n",
       "</ol>\n"
      ],
      "text/latex": [
       "\\begin{enumerate*}\n",
       "\\item 0.14075345211024\n",
       "\\item 0.544049403057648\n",
       "\\item 0.280702619102117\n",
       "\\item 0.031750965697214\n",
       "\\item 0.00274313760334297\n",
       "\\item 4.22429437384091e-07\n",
       "\\end{enumerate*}\n"
      ],
      "text/markdown": [
       "1. 0.14075345211024\n",
       "2. 0.544049403057648\n",
       "3. 0.280702619102117\n",
       "4. 0.031750965697214\n",
       "5. 0.00274313760334297\n",
       "6. 4.22429437384091e-07\n",
       "\n",
       "\n"
      ],
      "text/plain": [
       "[1] 1.407535e-01 5.440494e-01 2.807026e-01 3.175097e-02 2.743138e-03\n",
       "[6] 4.224294e-07"
      ]
     },
     "metadata": {},
     "output_type": "display_data"
    }
   ],
   "source": [
    "poslam_example <- c(.5,1,1.5,2,2.5,4)\n",
    "probs_example <- c(.1,.2,.3,.2,.15,.05)\n",
    "X_example <- data.frame(k = c(12, 6), t = c(0, 7))\n",
    "\n",
    "find_posterior(poslam_example, probs_example, X_example)"
   ]
  },
  {
   "cell_type": "markdown",
   "metadata": {},
   "source": [
    "What is the conclusion? The expert seems to be on to something -- there appears to be more evidence at the current time that lambda is actually 1 rather than\n",
    "1.5. More trials would find tune this result further.\n"
   ]
  }
 ],
 "metadata": {
  "Rmd_header": {
   "author": "Sean Ammirati",
   "date": "July 29, 2018",
   "output": "html_document",
   "title": "poisson_discrete_example"
  },
  "kernelspec": {
   "display_name": "R",
   "language": "R",
   "name": "ir"
  },
  "latex_envs": {
   "LaTeX_envs_menu_present": true,
   "autoclose": false,
   "autocomplete": true,
   "bibliofile": "biblio.bib",
   "cite_by": "apalike",
   "current_citInitial": 1,
   "eqLabelWithNumbers": true,
   "eqNumInitial": 1,
   "hotkeys": {
    "equation": "Ctrl-E",
    "itemize": "Ctrl-I"
   },
   "labels_anchors": false,
   "latex_user_defs": false,
   "report_style_numbering": false,
   "user_envs_cfg": false
  },
  "toc": {
   "base_numbering": 1,
   "nav_menu": {},
   "number_sections": true,
   "sideBar": true,
   "skip_h1_title": false,
   "title_cell": "Table of Contents",
   "title_sidebar": "Contents",
   "toc_cell": false,
   "toc_position": {},
   "toc_section_display": true,
   "toc_window_display": false
  },
  "varInspector": {
   "cols": {
    "lenName": 16,
    "lenType": 16,
    "lenVar": 40
   },
   "kernels_config": {
    "python": {
     "delete_cmd_postfix": "",
     "delete_cmd_prefix": "del ",
     "library": "var_list.py",
     "varRefreshCmd": "print(var_dic_list())"
    },
    "r": {
     "delete_cmd_postfix": ") ",
     "delete_cmd_prefix": "rm(",
     "library": "var_list.r",
     "varRefreshCmd": "cat(var_dic_list()) "
    }
   },
   "types_to_exclude": [
    "module",
    "function",
    "builtin_function_or_method",
    "instance",
    "_Feature"
   ],
   "window_display": false
  }
 },
 "nbformat": 4,
 "nbformat_minor": 1
}
