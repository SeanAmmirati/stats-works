{
 "cells": [
  {
   "cell_type": "markdown",
   "metadata": {},
   "source": [
    "# Chi-Squared Test\n",
    "\n",
    "Here we will be investigating a few ways of dealing with contingency tables.\n",
    "\n",
    "The first two are standard procedures in frequentist statistics, the chi-squared test and the Fischer's Exact test.\n",
    "\n",
    "Consider a contingency table that looks like this:\n",
    "\n"
   ]
  },
  {
   "cell_type": "code",
   "execution_count": 1,
   "metadata": {
    "ExecuteTime": {
     "end_time": "2019-01-08T02:23:10.552262Z",
     "start_time": "2019-01-08T02:23:10.354Z"
    },
    "autoscroll": false
   },
   "outputs": [
    {
     "data": {
      "text/html": [
       "<table>\n",
       "<thead><tr><th></th><th scope=col>Non-Artist</th><th scope=col>Artist</th></tr></thead>\n",
       "<tbody>\n",
       "\t<tr><th scope=row>Has traveled outside US</th><td> 5</td><td>30</td></tr>\n",
       "\t<tr><th scope=row>Has not traveled outside US</th><td>15</td><td>20</td></tr>\n",
       "</tbody>\n",
       "</table>\n"
      ],
      "text/latex": [
       "\\begin{tabular}{r|ll}\n",
       "  & Non-Artist & Artist\\\\\n",
       "\\hline\n",
       "\tHas traveled outside US &  5 & 30\\\\\n",
       "\tHas not traveled outside US & 15 & 20\\\\\n",
       "\\end{tabular}\n"
      ],
      "text/markdown": [
       "\n",
       "| <!--/--> | Non-Artist | Artist | \n",
       "|---|---|\n",
       "| Has traveled outside US |  5 | 30 | \n",
       "| Has not traveled outside US | 15 | 20 | \n",
       "\n",
       "\n"
      ],
      "text/plain": [
       "                            Non-Artist Artist\n",
       "Has traveled outside US      5         30    \n",
       "Has not traveled outside US 15         20    "
      ]
     },
     "metadata": {},
     "output_type": "display_data"
    }
   ],
   "source": [
    "row_names = c('Has traveled outside US','Has not traveled outside US')\n",
    "column_names = c('Non-Artist','Artist')\n",
    "\n",
    "cont_table <- matrix(c(5, 15, 30, 20), \n",
    "                     nrow = 2,\n",
    "                     dimnames = list(row_names, column_names))\n",
    "cont_table\n"
   ]
  },
  {
   "cell_type": "markdown",
   "metadata": {},
   "source": [
    "Consider if we ask the question -- are artists and non-artists equally likely to travel outside of the US...?\n",
    "\n",
    "The first approach we can take is the chi-squared test, which is an asymptotically accurate. If each was equally likely to travel, we would expect a cont_table like this :\n",
    "\n"
   ]
  },
  {
   "cell_type": "code",
   "execution_count": 2,
   "metadata": {
    "ExecuteTime": {
     "end_time": "2019-01-08T02:23:12.655325Z",
     "start_time": "2019-01-08T02:23:12.602Z"
    },
    "autoscroll": false
   },
   "outputs": [
    {
     "data": {
      "text/html": [
       "<table>\n",
       "<thead><tr><th></th><th scope=col>Non-Artist</th><th scope=col>Artist</th></tr></thead>\n",
       "<tbody>\n",
       "\t<tr><th scope=row>Has traveled outside US</th><td>10</td><td>25</td></tr>\n",
       "\t<tr><th scope=row>Has not traveled outside US</th><td>10</td><td>25</td></tr>\n",
       "</tbody>\n",
       "</table>\n"
      ],
      "text/latex": [
       "\\begin{tabular}{r|ll}\n",
       "  & Non-Artist & Artist\\\\\n",
       "\\hline\n",
       "\tHas traveled outside US & 10 & 25\\\\\n",
       "\tHas not traveled outside US & 10 & 25\\\\\n",
       "\\end{tabular}\n"
      ],
      "text/markdown": [
       "\n",
       "| <!--/--> | Non-Artist | Artist | \n",
       "|---|---|\n",
       "| Has traveled outside US | 10 | 25 | \n",
       "| Has not traveled outside US | 10 | 25 | \n",
       "\n",
       "\n"
      ],
      "text/plain": [
       "                            Non-Artist Artist\n",
       "Has traveled outside US     10         25    \n",
       "Has not traveled outside US 10         25    "
      ]
     },
     "metadata": {},
     "output_type": "display_data"
    }
   ],
   "source": [
    "cont_table_exp <- matrix(c(10, 10, 25, 25), \n",
    "                         nrow = 2,\n",
    "                         dimnames = list(row_names, column_names))\n",
    "\n",
    "cont_table_exp"
   ]
  },
  {
   "cell_type": "markdown",
   "metadata": {},
   "source": [
    "If we assume that artistry and travel likelihood are independent, our sum of the differences from this expectation divided by the square root of the expectation\n",
    "should be roughly normally distributed and so the squared differences will be approximately $\\chi ^{2}\\left ( 1 \\right )$.\n",
    "\n",
    "Here, we assume that the observed counts are Poisson distributed, so that their expectation and variance are defined by $E_{i}$ and $\\frac{1}{\\sqrt{E_{i}}}$.\n",
    "As $n \\to \\infty$, this is asymptotically normal GIVEN the hypothesis of independence.\n",
    "\n",
    "Because we know the row and column totals, in this case we have a degree of freedom of 1 -- when one value is known on this contingency table,\n",
    "given the row and column totals we can deduce the others. In order to calculate an (approximate) probability of this example given independence\n",
    "(the null hypothesis), we perform the following calculation.\n",
    "\n"
   ]
  },
  {
   "cell_type": "code",
   "execution_count": 3,
   "metadata": {
    "ExecuteTime": {
     "end_time": "2019-01-08T02:23:14.452886Z",
     "start_time": "2019-01-08T02:23:14.355Z"
    },
    "autoscroll": false
   },
   "outputs": [
    {
     "data": {
      "text/html": [
       "0.00815097159350264"
      ],
      "text/latex": [
       "0.00815097159350264"
      ],
      "text/markdown": [
       "0.00815097159350264"
      ],
      "text/plain": [
       "[1] 0.008150972"
      ]
     },
     "metadata": {},
     "output_type": "display_data"
    }
   ],
   "source": [
    "zsq <- sum((cont_table - cont_table_exp)^2 / cont_table_exp)\n",
    "1 - pchisq(zsq,1)"
   ]
  },
  {
   "cell_type": "markdown",
   "metadata": {},
   "source": [
    "\n",
    "So we would reject the notion of independence based on these observations.\n",
    "\n",
    "More generally:\n"
   ]
  },
  {
   "cell_type": "code",
   "execution_count": 4,
   "metadata": {
    "ExecuteTime": {
     "end_time": "2019-01-08T02:23:15.140161Z",
     "start_time": "2019-01-08T02:23:15.099Z"
    },
    "autoscroll": false
   },
   "outputs": [],
   "source": [
    "chi_squared_test <- function(cont_table,\n",
    "                             cont_table_exp = NULL){\n",
    "  if(cont_table_exp == NULL) {\n",
    "    cont_table_exp = t(as.matrix(rep(apply(cont_table,2,mean))))\n",
    "}\n",
    "  cont_table_exp\n",
    "  df <- (nrow(cont_table) - 1)*(ncol(cont_table) - 1)\n",
    "  zsq <- sum((cont_table - cont_table_exp)^2 / cont_table_exp)\n",
    "  probability <- 1 - pchisq(zsq, df)\n",
    "  return(probability)\n",
    "}"
   ]
  },
  {
   "cell_type": "markdown",
   "metadata": {},
   "source": [
    "\n",
    "# Fischer Exact Test\n",
    "\n",
    "However, the chi-squared test is only asympotically accurate. If we consider the counts to be distributed as a hyper-geometric distribution,\n",
    "we can use Fisher's Exact Test to calculate the probability of independence.\n",
    "\n",
    "Given some values in the contingency table, the probability of any distribution of values given independence is as follows:\n",
    "\n"
   ]
  },
  {
   "cell_type": "code",
   "execution_count": 5,
   "metadata": {
    "ExecuteTime": {
     "end_time": "2019-01-08T02:23:15.506076Z",
     "start_time": "2019-01-08T02:23:15.468Z"
    },
    "autoscroll": false
   },
   "outputs": [],
   "source": [
    "probfun <- function(i, j, n, m){\n",
    "  # i: particular coordinate (for instance, non-artist, has not traveled)\n",
    "  # j: the column total for the particular coordinate (for instance, non-artists)\n",
    "  # n: the row total for particular coordinate (for instance, people who have traveled)\n",
    "  # m: the row total for the other coordinate (for instance, people who have not traveled)\n",
    "\n",
    "  choose(m,i)*choose(n,(j - i))/choose(m + n,j)\n",
    "}"
   ]
  },
  {
   "cell_type": "markdown",
   "metadata": {},
   "source": [
    "\n",
    "This will give us the exact probability of each coordinate. If we wanted to find the probability that non-artist, people who traveled is\n",
    "less than or equal to five, we would do the following in this case:\n"
   ]
  },
  {
   "cell_type": "code",
   "execution_count": 6,
   "metadata": {
    "ExecuteTime": {
     "end_time": "2019-01-08T02:23:15.858164Z",
     "start_time": "2019-01-08T02:23:15.798Z"
    },
    "autoscroll": false
   },
   "outputs": [
    {
     "data": {
      "text/html": [
       "0.008027370811152"
      ],
      "text/latex": [
       "0.008027370811152"
      ],
      "text/markdown": [
       "0.008027370811152"
      ],
      "text/plain": [
       "[1] 0.008027371"
      ]
     },
     "metadata": {},
     "output_type": "display_data"
    }
   ],
   "source": [
    "sum(sapply(0:5,function(x) probfun(x, 20, 35, 35)))"
   ]
  },
  {
   "cell_type": "markdown",
   "metadata": {},
   "source": [
    "This shows that the probability of what we have observed is quite small if the columns and rows are independent. We again reject independence with 1% significance.\n",
    "\n",
    "The results of this test and the chisquared test are also quite close, which is as expected. As n goes to infinity, the chisquared test converges to the Fischer's Exact test.\n",
    "\n",
    "This is the hyper geometric distribution, which is included in R. The results are the same:\n"
   ]
  },
  {
   "cell_type": "code",
   "execution_count": 7,
   "metadata": {
    "ExecuteTime": {
     "end_time": "2019-01-08T02:23:16.366285Z",
     "start_time": "2019-01-08T02:23:16.286Z"
    },
    "autoscroll": false
   },
   "outputs": [
    {
     "data": {
      "text/html": [
       "0.00802737081115199"
      ],
      "text/latex": [
       "0.00802737081115199"
      ],
      "text/markdown": [
       "0.00802737081115199"
      ],
      "text/plain": [
       "[1] 0.008027371"
      ]
     },
     "metadata": {},
     "output_type": "display_data"
    }
   ],
   "source": [
    "phyper(5,35,35,20)##same result"
   ]
  },
  {
   "cell_type": "markdown",
   "metadata": {},
   "source": [
    "These are well known tests we can make. However, we can add some bayesian analysis to the mix here!\n",
    "\n",
    "# Bayesian Approach -- using Beta distributions\n",
    "\n",
    "Let us assume that the probability of having traveled for artists and non-artists can be modeled using a Beta distribution. That is\n",
    "\\[P(travel \\mid nonartist) = p \\sim \\ {Beta}(\\alpha _{1}, \\beta _{1})\\]  and \\[P(travel \\mid artist) = q \\sim \\ {Beta}(\\alpha _{2}, \\beta _{2})\\]\n",
    "\n",
    "We can now make an approximation to determine the probability that $p < q$. That is, we want the posterior distribution of $p$ and $q$ given\n",
    "our contingency table. Because our likelihood is multinomial, we know that the posterior distribution is also Beta distributed. After doing some\n",
    "manipulations, we can write the posterior distribution of $p$ and $q$.\n",
    "\n",
    " If we assume uninformative priors, we set $\\alpha = \\beta = 1$ to get the following:\n"
   ]
  },
  {
   "cell_type": "code",
   "execution_count": 8,
   "metadata": {
    "ExecuteTime": {
     "end_time": "2019-01-08T02:23:17.557869Z",
     "start_time": "2019-01-08T02:23:17.529Z"
    },
    "autoscroll": false
   },
   "outputs": [],
   "source": [
    "posteriorb <- function(p,q, cont_table, num = FALSE){\n",
    "  if (num == TRUE) {\n",
    "    if (p >= q) {\n",
    "      return(0)\n",
    "    }\n",
    "  }\n",
    "\n",
    "  obs_row_totals = apply(cont_table, 1, sum)\n",
    "  obs_coordinates = c(cont_table)\n",
    "  obs_rows_w_prior = cont_table - 1\n",
    "\n",
    "  constant <- (prod(gamma(obs_row_totals)) / (prod(gamma(obs_coordinates))))\n",
    "  p_mat <- matrix(c(p, q, 1-p, 1-q), nrow=2)\n",
    "  ret <- constant*(prod(p_mat ^ obs_rows_w_prior))\n",
    "  return(ret)\n",
    "}"
   ]
  },
  {
   "cell_type": "markdown",
   "metadata": {},
   "source": [
    "Note that this will only work for 2x2 contingency tables and assuming an (invalid) prior of $\\alpha = \\beta = 1$  for each prior. If we wanted to include\n",
    "prior information, we could change these for each prior, which would result in a different number being added/subtracted above.\n",
    "\n",
    "This joint distribution is somewhat difficult to determine analytically. There are alternative\n",
    "here to estimate this probability (gtools, MCMCpack, etc), but I have included a numerical approximation.\n",
    "\n"
   ]
  },
  {
   "cell_type": "code",
   "execution_count": 9,
   "metadata": {
    "ExecuteTime": {
     "end_time": "2019-01-08T02:23:19.256002Z",
     "start_time": "2019-01-08T02:23:18.295Z"
    },
    "autoscroll": false
   },
   "outputs": [
    {
     "data": {
      "text/html": [
       "0.996557074981106"
      ],
      "text/latex": [
       "0.996557074981106"
      ],
      "text/markdown": [
       "0.996557074981106"
      ],
      "text/plain": [
       "[1] 0.9965571"
      ]
     },
     "metadata": {},
     "output_type": "display_data"
    }
   ],
   "source": [
    "approx <- function(f,num=FALSE, ...) {\n",
    "  sum(sapply(seq(0.01,0.99,0.01),function(p) sapply(seq(0.01,0.99,0.01), function(q) f(p,q,num,...))))\n",
    "}\n",
    "\n",
    "estim <- approx(posteriorb,TRUE, cont_table = cont_table)/\n",
    "         approx(posteriorb, cont_table = cont_table)\n",
    "estim"
   ]
  },
  {
   "cell_type": "markdown",
   "metadata": {},
   "source": [
    "We estimate ${P}(p< q) = .9966$. Here, we individual values of p,q and compare their pdf evaluations at each point.\n",
    "\n",
    "# Bayesian Approach -- Assuming Dependence Structure\n",
    "\n",
    "Let's use another formulation that allows $p$ and $q$ to depend on one another. That is, it is unlikely that $p$ and $q$ are distributed independently --\n",
    "there is an underlying 'willing to travel' factor that is prevalent in both groups. We saw this when we considered the earlier tests.\n",
    "If we assume then that $\\ln \\frac{p}{1-p} - \\ln \\frac{q}{1-q}$, the difference in their log odds ratios is normally distributed with mean 0 and some arbitrary variance,\n",
    "we are allowing for some dependencies based on the value of sigma squared that we select.\n",
    "Selecting a small value of sigmasquared introduces a higher dependency structure.\n",
    "We can then test, for a certain level of expected variance in their difference, whether they are independent or not.\n",
    "\n"
   ]
  },
  {
   "cell_type": "code",
   "execution_count": 10,
   "metadata": {
    "ExecuteTime": {
     "end_time": "2019-01-08T02:23:19.586818Z",
     "start_time": "2019-01-08T02:23:19.022Z"
    },
    "autoscroll": false
   },
   "outputs": [],
   "source": [
    "posteriorc <- function(p,q, cont_table, num = FALSE, sigmasq = 1){\n",
    "  if (num == TRUE) {\n",
    "    if (p >= q) {\n",
    "      return(0)\n",
    "    }\n",
    "  }\n",
    "\n",
    "  obs_rows_w_prior = cont_table - 1\n",
    "\n",
    "  logit1 <- log((p/(1 - p)))\n",
    "  logit2 <- log((q/(1 - q)))\n",
    "\n",
    "  expo <- exp((-(logit1 - logit2)^2)/(2*sigmasq))\n",
    "  p_mat <- matrix(c(p, q, 1-p, 1-q), nrow=2)\n",
    "  ret <- expo*prod((p_mat ^ obs_rows_w_prior))\n",
    "  return(ret)\n",
    "}"
   ]
  },
  {
   "cell_type": "markdown",
   "metadata": {},
   "source": [
    "We then approximate ${P}(p< q)$ given various assumed sigmas in the prior.\n"
   ]
  },
  {
   "cell_type": "code",
   "execution_count": 11,
   "metadata": {
    "ExecuteTime": {
     "end_time": "2019-01-08T02:23:21.107766Z",
     "start_time": "2019-01-08T02:23:20.098Z"
    },
    "autoscroll": false
   },
   "outputs": [
    {
     "data": {
      "text/html": [
       "0.990231766938391"
      ],
      "text/latex": [
       "0.990231766938391"
      ],
      "text/markdown": [
       "0.990231766938391"
      ],
      "text/plain": [
       "[1] 0.9902318"
      ]
     },
     "metadata": {},
     "output_type": "display_data"
    },
    {
     "data": {
      "text/html": [
       "0.961061419233541"
      ],
      "text/latex": [
       "0.961061419233541"
      ],
      "text/markdown": [
       "0.961061419233541"
      ],
      "text/plain": [
       "[1] 0.9610614"
      ]
     },
     "metadata": {},
     "output_type": "display_data"
    },
    {
     "data": {
      "text/html": [
       "0.995239851507228"
      ],
      "text/latex": [
       "0.995239851507228"
      ],
      "text/markdown": [
       "0.995239851507228"
      ],
      "text/plain": [
       "[1] 0.9952399"
      ]
     },
     "metadata": {},
     "output_type": "display_data"
    },
    {
     "data": {
      "text/html": [
       "0.996557062782334"
      ],
      "text/latex": [
       "0.996557062782334"
      ],
      "text/markdown": [
       "0.996557062782334"
      ],
      "text/plain": [
       "[1] 0.9965571"
      ]
     },
     "metadata": {},
     "output_type": "display_data"
    }
   ],
   "source": [
    "estimb1 <- approx(posteriorc, num = TRUE, \n",
    "                  cont_table = cont_table, sigmasq = 1)/\n",
    "           approx(posteriorc,  num = FALSE, \n",
    "                  cont_table = cont_table, sigmasq = 1)\n",
    "estimb2 <- approx(posteriorc, num = TRUE, \n",
    "                  cont_table = cont_table, sigmasq = 0.25)/\n",
    "           approx(posteriorc, num = FALSE, \n",
    "                  cont_table = cont_table, sigmasq = 0.25)\n",
    "estimb3 <- approx(posteriorc, num = TRUE, \n",
    "                  cont_table = cont_table, sigmasq = 4)/\n",
    "           approx(posteriorc, num = FALSE, \n",
    "                  cont_table = cont_table, sigmasq = 4)\n",
    "\n",
    "# sigmasq = 1\n",
    "estimb1\n",
    "# sigmasq = .25\n",
    "estimb2\n",
    "# sigma sq = 4\n",
    "estimb3\n",
    "\n",
    "# sigma sq = 400000 (close to complete independence)\n",
    "approx(posteriorc, num = TRUE, cont_table = cont_table, sigmasq = 4e+05)/approx(posteriorc, \n",
    "    num = FALSE, cont_table = cont_table, sigmasq = 4e+05)"
   ]
  },
  {
   "cell_type": "markdown",
   "metadata": {},
   "source": [
    "We see that the larger the variance, the higher ${P}(p< q)$ is. When we condsidered them to be independent, we got an estimate of\n",
    ".9965571. It makes sense, then, that as we increase the variance, and therefore the two become closer to being\n",
    "what we would consider as independent from one another, it approaches the value when they are assumed to be independent\n",
    "explicitly. Considering them to have a small variance (.25) will lead to the probability p < q to be smaller than any other\n",
    "method, including the chisquare and Fischer Exact test. When we have a high variance (even at sigma sq = 4), we obtain a higher\n",
    "probability that the two probabilities are different. The conclusion then is that the two groups are different from one another.\n",
    "\n",
    "When the variance is small, we are less confident that the two groups are different from one another, both in prior and posterior distribution.\n",
    "\n",
    "\n"
   ]
  }
 ],
 "metadata": {
  "Rmd_header": {
   "author": "Sean Ammirati",
   "date": "July 22, 2018",
   "output": "html_document",
   "title": "Approaches To Contingency Tables"
  },
  "kernelspec": {
   "display_name": "R",
   "language": "R",
   "name": "ir"
  },
  "language_info": {
   "codemirror_mode": "r",
   "file_extension": ".r",
   "mimetype": "text/x-r-source",
   "name": "R",
   "pygments_lexer": "r",
   "version": "3.4.3"
  },
  "latex_envs": {
   "LaTeX_envs_menu_present": true,
   "autoclose": false,
   "autocomplete": true,
   "bibliofile": "biblio.bib",
   "cite_by": "apalike",
   "current_citInitial": 1,
   "eqLabelWithNumbers": true,
   "eqNumInitial": 1,
   "hotkeys": {
    "equation": "Ctrl-E",
    "itemize": "Ctrl-I"
   },
   "labels_anchors": false,
   "latex_user_defs": false,
   "report_style_numbering": false,
   "user_envs_cfg": false
  },
  "toc": {
   "base_numbering": 1,
   "nav_menu": {},
   "number_sections": true,
   "sideBar": true,
   "skip_h1_title": false,
   "title_cell": "Table of Contents",
   "title_sidebar": "Contents",
   "toc_cell": false,
   "toc_position": {},
   "toc_section_display": true,
   "toc_window_display": false
  },
  "varInspector": {
   "cols": {
    "lenName": 16,
    "lenType": 16,
    "lenVar": 40
   },
   "kernels_config": {
    "python": {
     "delete_cmd_postfix": "",
     "delete_cmd_prefix": "del ",
     "library": "var_list.py",
     "varRefreshCmd": "print(var_dic_list())"
    },
    "r": {
     "delete_cmd_postfix": ") ",
     "delete_cmd_prefix": "rm(",
     "library": "var_list.r",
     "varRefreshCmd": "cat(var_dic_list()) "
    }
   },
   "types_to_exclude": [
    "module",
    "function",
    "builtin_function_or_method",
    "instance",
    "_Feature"
   ],
   "window_display": false
  }
 },
 "nbformat": 4,
 "nbformat_minor": 1
}
