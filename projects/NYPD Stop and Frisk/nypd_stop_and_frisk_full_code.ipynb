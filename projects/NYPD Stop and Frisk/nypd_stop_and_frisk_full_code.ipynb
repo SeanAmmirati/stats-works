{
 "cells": [
  {
   "cell_type": "markdown",
   "metadata": {},
   "source": [
    "\n",
    "## The Results of Stop and Frisk: What Contributes Most to Arrests?\n",
    "\n",
    "*Note: All of the code associated with this project, as well as the data used, is accessible at my GitHub repository [here](https://github.com/SeanAmmirati/stats-works/tree/master/projects/NYPD%20Stop%20and%20Frisk).*\n",
    "\n",
    "*This contains all of the code used in [this project](NYPD_stop_and_frisk.html), unannotated.*\n",
    "# Introduction\n",
    "In this project I will be looking at a dataset available from the city of New York about the results of the Stop, Question and Frisk policy.\n",
    "\n",
    "Which factors lead to the highest likelihood of arrest?\n",
    "\n",
    "The data is a collection of 22,564 cases of Stop, Question and Frisk in the City of New York in 2015. There are 112 variables which were measured. A majority of the variables in the dataset are categorical variables relating to the incident itself, while a few represent the age, race, height, weight, and sex of the person who was on the receiving end of the policy.\n",
    "\n",
    "Stop and Frisk has been a controversial policy in New York City for quite some time. Many feel that it is a violation of privacy, that it is unconstitutional, or that the policy is inherently racist - that it disproportionately affects minorities and people of color. Meanwhile, there are others who support the policy, believing stop and frisk to keep people safe from terrorists and other wrongdoers.\n",
    "\n",
    "As a result of this and other recent controversies involving police across the country, the NYPD has been getting a lot of negative press over the way it addresses these racial problems. What I aim to discover by analyzing this dataset are the main contributing factors to whether a person is arrested or not in a stop and frisk incident.\n",
    "\n",
    "I will be using a few different methods of analysis to determine the best model to use in predicting whether a person will be arrested or not. Because the response variable, arstmade, is a qualitative, binary variable, I will be using categorical methods. These include logistic regression,  K-Nearest Neighbors analysis and tree methods (like bagging, random forests, boosting).\n",
    "\n",
    "\n"
   ]
  },
  {
   "cell_type": "code",
   "execution_count": 3,
   "metadata": {
    "ExecuteTime": {
     "end_time": "2018-09-23T05:43:57.364172Z",
     "start_time": "2018-09-23T05:42:59.578Z"
    },
    "Rmd_chunk_options": "include=FALSE",
    "autoscroll": false,
    "hide_input": false
   },
   "outputs": [
    {
     "name": "stderr",
     "output_type": "stream",
     "text": [
      "Installing package into 'C:/Users/ginge/Anaconda3/Lib/R/library'\n",
      "(as 'lib' is unspecified)\n"
     ]
    },
    {
     "name": "stdout",
     "output_type": "stream",
     "text": [
      "package 'tree' successfully unpacked and MD5 sums checked\n",
      "\n",
      "The downloaded binary packages are in\n",
      "\tC:\\Users\\ginge\\AppData\\Local\\Temp\\RtmpMrc3nQ\\downloaded_packages\n"
     ]
    },
    {
     "name": "stderr",
     "output_type": "stream",
     "text": [
      "Loading required package: ggplot2\n",
      "Loading required package: tree\n",
      "Loading required package: class\n",
      "Loading required package: randomForest\n",
      "randomForest 4.6-12\n",
      "Type rfNews() to see new features/changes/bug fixes.\n",
      "\n",
      "Attaching package: 'randomForest'\n",
      "\n",
      "The following object is masked from 'package:ggplot2':\n",
      "\n",
      "    margin\n",
      "\n"
     ]
    },
    {
     "data": {
      "text/html": [
       "173895"
      ],
      "text/latex": [
       "173895"
      ],
      "text/markdown": [
       "173895"
      ],
      "text/plain": [
       "[1] 173895"
      ]
     },
     "metadata": {},
     "output_type": "display_data"
    },
    {
     "data": {
      "text/html": [
       "2527056"
      ],
      "text/latex": [
       "2527056"
      ],
      "text/markdown": [
       "2527056"
      ],
      "text/plain": [
       "[1] 2527056"
      ]
     },
     "metadata": {},
     "output_type": "display_data"
    },
    {
     "data": {
      "text/html": [
       "<ol class=list-inline>\n",
       "\t<li>'year'</li>\n",
       "\t<li>'pct'</li>\n",
       "\t<li>'ser_num'</li>\n",
       "\t<li>'datestop'</li>\n",
       "\t<li>'timestop'</li>\n",
       "\t<li>'recstat'</li>\n",
       "\t<li>'inout'</li>\n",
       "\t<li>'trhsloc'</li>\n",
       "\t<li>'perobs'</li>\n",
       "\t<li>'crimsusp'</li>\n",
       "\t<li>'perstop'</li>\n",
       "\t<li>'typeofid'</li>\n",
       "\t<li>'explnstp'</li>\n",
       "\t<li>'othpers'</li>\n",
       "\t<li>'arstmade'</li>\n",
       "\t<li>'arstoffn'</li>\n",
       "\t<li>'sumissue'</li>\n",
       "\t<li>'sumoffen'</li>\n",
       "\t<li>'compyear'</li>\n",
       "\t<li>'comppct'</li>\n",
       "\t<li>'offunif'</li>\n",
       "\t<li>'officrid'</li>\n",
       "\t<li>'frisked'</li>\n",
       "\t<li>'searched'</li>\n",
       "\t<li>'contrabn'</li>\n",
       "\t<li>'adtlrept'</li>\n",
       "\t<li>'pistol'</li>\n",
       "\t<li>'riflshot'</li>\n",
       "\t<li>'asltweap'</li>\n",
       "\t<li>'knifcuti'</li>\n",
       "\t<li>'machgun'</li>\n",
       "\t<li>'othrweap'</li>\n",
       "\t<li>'pf_hands'</li>\n",
       "\t<li>'pf_wall'</li>\n",
       "\t<li>'pf_grnd'</li>\n",
       "\t<li>'pf_drwep'</li>\n",
       "\t<li>'pf_ptwep'</li>\n",
       "\t<li>'pf_baton'</li>\n",
       "\t<li>'pf_hcuff'</li>\n",
       "\t<li>'pf_pepsp'</li>\n",
       "\t<li>'pf_other'</li>\n",
       "\t<li>'radio'</li>\n",
       "\t<li>'ac_rept'</li>\n",
       "\t<li>'ac_inves'</li>\n",
       "\t<li>'rf_vcrim'</li>\n",
       "\t<li>'rf_othsw'</li>\n",
       "\t<li>'ac_proxm'</li>\n",
       "\t<li>'rf_attir'</li>\n",
       "\t<li>'cs_objcs'</li>\n",
       "\t<li>'cs_descr'</li>\n",
       "\t<li>'cs_casng'</li>\n",
       "\t<li>'cs_lkout'</li>\n",
       "\t<li>'rf_vcact'</li>\n",
       "\t<li>'cs_cloth'</li>\n",
       "\t<li>'cs_drgtr'</li>\n",
       "\t<li>'ac_evasv'</li>\n",
       "\t<li>'ac_assoc'</li>\n",
       "\t<li>'cs_furtv'</li>\n",
       "\t<li>'rf_rfcmp'</li>\n",
       "\t<li>'ac_cgdir'</li>\n",
       "\t<li>'rf_verbl'</li>\n",
       "\t<li>'cs_vcrim'</li>\n",
       "\t<li>'cs_bulge'</li>\n",
       "\t<li>'cs_other'</li>\n",
       "\t<li>'ac_incid'</li>\n",
       "\t<li>'ac_time'</li>\n",
       "\t<li>'rf_knowl'</li>\n",
       "\t<li>'ac_stsnd'</li>\n",
       "\t<li>'ac_other'</li>\n",
       "\t<li>'sb_hdobj'</li>\n",
       "\t<li>'sb_outln'</li>\n",
       "\t<li>'sb_admis'</li>\n",
       "\t<li>'sb_other'</li>\n",
       "\t<li>'repcmd'</li>\n",
       "\t<li>'revcmd'</li>\n",
       "\t<li>'rf_furt'</li>\n",
       "\t<li>'rf_bulg'</li>\n",
       "\t<li>'offverb'</li>\n",
       "\t<li>'offshld'</li>\n",
       "\t<li>'forceuse'</li>\n",
       "\t<li>'sex'</li>\n",
       "\t<li>'race'</li>\n",
       "\t<li>'dob'</li>\n",
       "\t<li>'age'</li>\n",
       "\t<li>'ht_feet'</li>\n",
       "\t<li>'ht_inch'</li>\n",
       "\t<li>'weight'</li>\n",
       "\t<li>'haircolr'</li>\n",
       "\t<li>'eyecolor'</li>\n",
       "\t<li>'build'</li>\n",
       "\t<li>'othfeatr'</li>\n",
       "\t<li>'addrtyp'</li>\n",
       "\t<li>'rescode'</li>\n",
       "\t<li>'premtype'</li>\n",
       "\t<li>'premname'</li>\n",
       "\t<li>'addrnum'</li>\n",
       "\t<li>'stname'</li>\n",
       "\t<li>'stinter'</li>\n",
       "\t<li>'crossst'</li>\n",
       "\t<li>'aptnum'</li>\n",
       "\t<li>'city'</li>\n",
       "\t<li>'state'</li>\n",
       "\t<li>'zip'</li>\n",
       "\t<li>'addrpct'</li>\n",
       "\t<li>'sector'</li>\n",
       "\t<li>'beat'</li>\n",
       "\t<li>'post'</li>\n",
       "\t<li>'xcoord'</li>\n",
       "\t<li>'ycoord'</li>\n",
       "\t<li>'dettypCM'</li>\n",
       "\t<li>'lineCM'</li>\n",
       "\t<li>'detailCM'</li>\n",
       "</ol>\n"
      ],
      "text/latex": [
       "\\begin{enumerate*}\n",
       "\\item 'year'\n",
       "\\item 'pct'\n",
       "\\item 'ser\\_num'\n",
       "\\item 'datestop'\n",
       "\\item 'timestop'\n",
       "\\item 'recstat'\n",
       "\\item 'inout'\n",
       "\\item 'trhsloc'\n",
       "\\item 'perobs'\n",
       "\\item 'crimsusp'\n",
       "\\item 'perstop'\n",
       "\\item 'typeofid'\n",
       "\\item 'explnstp'\n",
       "\\item 'othpers'\n",
       "\\item 'arstmade'\n",
       "\\item 'arstoffn'\n",
       "\\item 'sumissue'\n",
       "\\item 'sumoffen'\n",
       "\\item 'compyear'\n",
       "\\item 'comppct'\n",
       "\\item 'offunif'\n",
       "\\item 'officrid'\n",
       "\\item 'frisked'\n",
       "\\item 'searched'\n",
       "\\item 'contrabn'\n",
       "\\item 'adtlrept'\n",
       "\\item 'pistol'\n",
       "\\item 'riflshot'\n",
       "\\item 'asltweap'\n",
       "\\item 'knifcuti'\n",
       "\\item 'machgun'\n",
       "\\item 'othrweap'\n",
       "\\item 'pf\\_hands'\n",
       "\\item 'pf\\_wall'\n",
       "\\item 'pf\\_grnd'\n",
       "\\item 'pf\\_drwep'\n",
       "\\item 'pf\\_ptwep'\n",
       "\\item 'pf\\_baton'\n",
       "\\item 'pf\\_hcuff'\n",
       "\\item 'pf\\_pepsp'\n",
       "\\item 'pf\\_other'\n",
       "\\item 'radio'\n",
       "\\item 'ac\\_rept'\n",
       "\\item 'ac\\_inves'\n",
       "\\item 'rf\\_vcrim'\n",
       "\\item 'rf\\_othsw'\n",
       "\\item 'ac\\_proxm'\n",
       "\\item 'rf\\_attir'\n",
       "\\item 'cs\\_objcs'\n",
       "\\item 'cs\\_descr'\n",
       "\\item 'cs\\_casng'\n",
       "\\item 'cs\\_lkout'\n",
       "\\item 'rf\\_vcact'\n",
       "\\item 'cs\\_cloth'\n",
       "\\item 'cs\\_drgtr'\n",
       "\\item 'ac\\_evasv'\n",
       "\\item 'ac\\_assoc'\n",
       "\\item 'cs\\_furtv'\n",
       "\\item 'rf\\_rfcmp'\n",
       "\\item 'ac\\_cgdir'\n",
       "\\item 'rf\\_verbl'\n",
       "\\item 'cs\\_vcrim'\n",
       "\\item 'cs\\_bulge'\n",
       "\\item 'cs\\_other'\n",
       "\\item 'ac\\_incid'\n",
       "\\item 'ac\\_time'\n",
       "\\item 'rf\\_knowl'\n",
       "\\item 'ac\\_stsnd'\n",
       "\\item 'ac\\_other'\n",
       "\\item 'sb\\_hdobj'\n",
       "\\item 'sb\\_outln'\n",
       "\\item 'sb\\_admis'\n",
       "\\item 'sb\\_other'\n",
       "\\item 'repcmd'\n",
       "\\item 'revcmd'\n",
       "\\item 'rf\\_furt'\n",
       "\\item 'rf\\_bulg'\n",
       "\\item 'offverb'\n",
       "\\item 'offshld'\n",
       "\\item 'forceuse'\n",
       "\\item 'sex'\n",
       "\\item 'race'\n",
       "\\item 'dob'\n",
       "\\item 'age'\n",
       "\\item 'ht\\_feet'\n",
       "\\item 'ht\\_inch'\n",
       "\\item 'weight'\n",
       "\\item 'haircolr'\n",
       "\\item 'eyecolor'\n",
       "\\item 'build'\n",
       "\\item 'othfeatr'\n",
       "\\item 'addrtyp'\n",
       "\\item 'rescode'\n",
       "\\item 'premtype'\n",
       "\\item 'premname'\n",
       "\\item 'addrnum'\n",
       "\\item 'stname'\n",
       "\\item 'stinter'\n",
       "\\item 'crossst'\n",
       "\\item 'aptnum'\n",
       "\\item 'city'\n",
       "\\item 'state'\n",
       "\\item 'zip'\n",
       "\\item 'addrpct'\n",
       "\\item 'sector'\n",
       "\\item 'beat'\n",
       "\\item 'post'\n",
       "\\item 'xcoord'\n",
       "\\item 'ycoord'\n",
       "\\item 'dettypCM'\n",
       "\\item 'lineCM'\n",
       "\\item 'detailCM'\n",
       "\\end{enumerate*}\n"
      ],
      "text/markdown": [
       "1. 'year'\n",
       "2. 'pct'\n",
       "3. 'ser_num'\n",
       "4. 'datestop'\n",
       "5. 'timestop'\n",
       "6. 'recstat'\n",
       "7. 'inout'\n",
       "8. 'trhsloc'\n",
       "9. 'perobs'\n",
       "10. 'crimsusp'\n",
       "11. 'perstop'\n",
       "12. 'typeofid'\n",
       "13. 'explnstp'\n",
       "14. 'othpers'\n",
       "15. 'arstmade'\n",
       "16. 'arstoffn'\n",
       "17. 'sumissue'\n",
       "18. 'sumoffen'\n",
       "19. 'compyear'\n",
       "20. 'comppct'\n",
       "21. 'offunif'\n",
       "22. 'officrid'\n",
       "23. 'frisked'\n",
       "24. 'searched'\n",
       "25. 'contrabn'\n",
       "26. 'adtlrept'\n",
       "27. 'pistol'\n",
       "28. 'riflshot'\n",
       "29. 'asltweap'\n",
       "30. 'knifcuti'\n",
       "31. 'machgun'\n",
       "32. 'othrweap'\n",
       "33. 'pf_hands'\n",
       "34. 'pf_wall'\n",
       "35. 'pf_grnd'\n",
       "36. 'pf_drwep'\n",
       "37. 'pf_ptwep'\n",
       "38. 'pf_baton'\n",
       "39. 'pf_hcuff'\n",
       "40. 'pf_pepsp'\n",
       "41. 'pf_other'\n",
       "42. 'radio'\n",
       "43. 'ac_rept'\n",
       "44. 'ac_inves'\n",
       "45. 'rf_vcrim'\n",
       "46. 'rf_othsw'\n",
       "47. 'ac_proxm'\n",
       "48. 'rf_attir'\n",
       "49. 'cs_objcs'\n",
       "50. 'cs_descr'\n",
       "51. 'cs_casng'\n",
       "52. 'cs_lkout'\n",
       "53. 'rf_vcact'\n",
       "54. 'cs_cloth'\n",
       "55. 'cs_drgtr'\n",
       "56. 'ac_evasv'\n",
       "57. 'ac_assoc'\n",
       "58. 'cs_furtv'\n",
       "59. 'rf_rfcmp'\n",
       "60. 'ac_cgdir'\n",
       "61. 'rf_verbl'\n",
       "62. 'cs_vcrim'\n",
       "63. 'cs_bulge'\n",
       "64. 'cs_other'\n",
       "65. 'ac_incid'\n",
       "66. 'ac_time'\n",
       "67. 'rf_knowl'\n",
       "68. 'ac_stsnd'\n",
       "69. 'ac_other'\n",
       "70. 'sb_hdobj'\n",
       "71. 'sb_outln'\n",
       "72. 'sb_admis'\n",
       "73. 'sb_other'\n",
       "74. 'repcmd'\n",
       "75. 'revcmd'\n",
       "76. 'rf_furt'\n",
       "77. 'rf_bulg'\n",
       "78. 'offverb'\n",
       "79. 'offshld'\n",
       "80. 'forceuse'\n",
       "81. 'sex'\n",
       "82. 'race'\n",
       "83. 'dob'\n",
       "84. 'age'\n",
       "85. 'ht_feet'\n",
       "86. 'ht_inch'\n",
       "87. 'weight'\n",
       "88. 'haircolr'\n",
       "89. 'eyecolor'\n",
       "90. 'build'\n",
       "91. 'othfeatr'\n",
       "92. 'addrtyp'\n",
       "93. 'rescode'\n",
       "94. 'premtype'\n",
       "95. 'premname'\n",
       "96. 'addrnum'\n",
       "97. 'stname'\n",
       "98. 'stinter'\n",
       "99. 'crossst'\n",
       "100. 'aptnum'\n",
       "101. 'city'\n",
       "102. 'state'\n",
       "103. 'zip'\n",
       "104. 'addrpct'\n",
       "105. 'sector'\n",
       "106. 'beat'\n",
       "107. 'post'\n",
       "108. 'xcoord'\n",
       "109. 'ycoord'\n",
       "110. 'dettypCM'\n",
       "111. 'lineCM'\n",
       "112. 'detailCM'\n",
       "\n",
       "\n"
      ],
      "text/plain": [
       "  [1] \"year\"     \"pct\"      \"ser_num\"  \"datestop\" \"timestop\" \"recstat\" \n",
       "  [7] \"inout\"    \"trhsloc\"  \"perobs\"   \"crimsusp\" \"perstop\"  \"typeofid\"\n",
       " [13] \"explnstp\" \"othpers\"  \"arstmade\" \"arstoffn\" \"sumissue\" \"sumoffen\"\n",
       " [19] \"compyear\" \"comppct\"  \"offunif\"  \"officrid\" \"frisked\"  \"searched\"\n",
       " [25] \"contrabn\" \"adtlrept\" \"pistol\"   \"riflshot\" \"asltweap\" \"knifcuti\"\n",
       " [31] \"machgun\"  \"othrweap\" \"pf_hands\" \"pf_wall\"  \"pf_grnd\"  \"pf_drwep\"\n",
       " [37] \"pf_ptwep\" \"pf_baton\" \"pf_hcuff\" \"pf_pepsp\" \"pf_other\" \"radio\"   \n",
       " [43] \"ac_rept\"  \"ac_inves\" \"rf_vcrim\" \"rf_othsw\" \"ac_proxm\" \"rf_attir\"\n",
       " [49] \"cs_objcs\" \"cs_descr\" \"cs_casng\" \"cs_lkout\" \"rf_vcact\" \"cs_cloth\"\n",
       " [55] \"cs_drgtr\" \"ac_evasv\" \"ac_assoc\" \"cs_furtv\" \"rf_rfcmp\" \"ac_cgdir\"\n",
       " [61] \"rf_verbl\" \"cs_vcrim\" \"cs_bulge\" \"cs_other\" \"ac_incid\" \"ac_time\" \n",
       " [67] \"rf_knowl\" \"ac_stsnd\" \"ac_other\" \"sb_hdobj\" \"sb_outln\" \"sb_admis\"\n",
       " [73] \"sb_other\" \"repcmd\"   \"revcmd\"   \"rf_furt\"  \"rf_bulg\"  \"offverb\" \n",
       " [79] \"offshld\"  \"forceuse\" \"sex\"      \"race\"     \"dob\"      \"age\"     \n",
       " [85] \"ht_feet\"  \"ht_inch\"  \"weight\"   \"haircolr\" \"eyecolor\" \"build\"   \n",
       " [91] \"othfeatr\" \"addrtyp\"  \"rescode\"  \"premtype\" \"premname\" \"addrnum\" \n",
       " [97] \"stname\"   \"stinter\"  \"crossst\"  \"aptnum\"   \"city\"     \"state\"   \n",
       "[103] \"zip\"      \"addrpct\"  \"sector\"   \"beat\"     \"post\"     \"xcoord\"  \n",
       "[109] \"ycoord\"   \"dettypCM\" \"lineCM\"   \"detailCM\""
      ]
     },
     "metadata": {},
     "output_type": "display_data"
    },
    {
     "name": "stderr",
     "output_type": "stream",
     "text": [
      "The following object is masked _by_ .GlobalEnv:\n",
      "\n",
      "    height\n",
      "\n",
      "The following objects are masked from mydata (pos = 3):\n",
      "\n",
      "    ac_assoc, ac_cgdir, ac_evasv, ac_incid, ac_inves, ac_other,\n",
      "    ac_proxm, ac_rept, ac_stsnd, ac_time, age, arstmade, asltweap,\n",
      "    build, city, contrabn, cs_bulge, cs_casng, cs_cloth, cs_descr,\n",
      "    cs_drgtr, cs_furtv, cs_lkout, cs_objcs, cs_other, cs_vcrim,\n",
      "    detailCM, explnstp, forceuse, frisked, inout, knifcuti, offshld,\n",
      "    offunif, offverb, othpers, othrweap, perobs, pf_baton, pf_drwep,\n",
      "    pf_grnd, pf_hands, pf_hcuff, pf_other, pf_pepsp, pf_ptwep, pf_wall,\n",
      "    pistol, race, radio, recstat, repcmd, revcmd, rf_attir, rf_bulg,\n",
      "    rf_furt, rf_knowl, rf_othsw, rf_rfcmp, rf_vcact, rf_vcrim,\n",
      "    rf_verbl, riflshot, sb_admis, sb_hdobj, sb_other, sb_outln,\n",
      "    searched, sex, sumissue, timestop, trhsloc, typeofid, weight\n",
      "\n"
     ]
    },
    {
     "data": {
      "text/html": [
       "0.175984356946049"
      ],
      "text/latex": [
       "0.175984356946049"
      ],
      "text/markdown": [
       "0.175984356946049"
      ],
      "text/plain": [
       "[1] 0.1759844"
      ]
     },
     "metadata": {},
     "output_type": "display_data"
    },
    {
     "data": {
      "text/html": [
       "0.924317838414363"
      ],
      "text/latex": [
       "0.924317838414363"
      ],
      "text/markdown": [
       "0.924317838414363"
      ],
      "text/plain": [
       "[1] 0.9243178"
      ]
     },
     "metadata": {},
     "output_type": "display_data"
    },
    {
     "data": {
      "text/html": [
       "0.274686694516043"
      ],
      "text/latex": [
       "0.274686694516043"
      ],
      "text/markdown": [
       "0.274686694516043"
      ],
      "text/plain": [
       "[1] 0.2746867"
      ]
     },
     "metadata": {},
     "output_type": "display_data"
    },
    {
     "data": {
      "text/html": [
       "0.529419607146031"
      ],
      "text/latex": [
       "0.529419607146031"
      ],
      "text/markdown": [
       "0.529419607146031"
      ],
      "text/plain": [
       "[1] 0.5294196"
      ]
     },
     "metadata": {},
     "output_type": "display_data"
    },
    {
     "data": {
      "text/html": [
       "0.0261310105768376"
      ],
      "text/latex": [
       "0.0261310105768376"
      ],
      "text/markdown": [
       "0.0261310105768376"
      ],
      "text/plain": [
       "[1] 0.02613101"
      ]
     },
     "metadata": {},
     "output_type": "display_data"
    },
    {
     "data": {
      "text/html": [
       "6.73469387755102"
      ],
      "text/latex": [
       "6.73469387755102"
      ],
      "text/markdown": [
       "6.73469387755102"
      ],
      "text/plain": [
       "[1] 6.734694"
      ]
     },
     "metadata": {},
     "output_type": "display_data"
    },
    {
     "data": {
      "text/html": [
       "0.107501555417296"
      ],
      "text/latex": [
       "0.107501555417296"
      ],
      "text/markdown": [
       "0.107501555417296"
      ],
      "text/plain": [
       "[1] 0.1075016"
      ]
     },
     "metadata": {},
     "output_type": "display_data"
    },
    {
     "data": {
      "text/html": [
       "0.577326968973747"
      ],
      "text/latex": [
       "0.577326968973747"
      ],
      "text/markdown": [
       "0.577326968973747"
      ],
      "text/plain": [
       "[1] 0.577327"
      ]
     },
     "metadata": {},
     "output_type": "display_data"
    },
    {
     "data": {
      "text/html": [
       "0.026486534530264"
      ],
      "text/latex": [
       "0.026486534530264"
      ],
      "text/markdown": [
       "0.026486534530264"
      ],
      "text/plain": [
       "[1] 0.02648653"
      ]
     },
     "metadata": {},
     "output_type": "display_data"
    },
    {
     "data": {
      "text/html": [
       "27.6311883388143"
      ],
      "text/latex": [
       "27.6311883388143"
      ],
      "text/markdown": [
       "27.6311883388143"
      ],
      "text/plain": [
       "[1] 27.63119"
      ]
     },
     "metadata": {},
     "output_type": "display_data"
    },
    {
     "data": {
      "text/plain": [
       "    timestop    recstat   inout     trhsloc       perobs       typeofid \n",
       " Min.   :   0    : 2845   I: 4211   H: 3357   Min.   :  0.00   O:  432  \n",
       " 1st Qu.: 507   1:14661   O:18291   P:18245   1st Qu.:  1.00   P:12960  \n",
       " Median :1623   9:   10             T:  900   Median :  1.00   R:  623  \n",
       " Mean   :1377   A: 4986                       Mean   :  2.64   V: 8487  \n",
       " 3rd Qu.:2052                                 3rd Qu.:  2.00            \n",
       " Max.   :2359                                 Max.   :535.00            \n",
       "                                                                        \n",
       " explnstp  othpers   arstmade  sumissue  offunif   frisked   searched \n",
       " N:   28   N:15780   N:18542   N:21914   N: 9965   N: 7289   N:18312  \n",
       " Y:22474   Y: 6722   Y: 3960   Y:  588   Y:12537   Y:15213   Y: 4190  \n",
       "                                                                      \n",
       "                                                                      \n",
       "                                                                      \n",
       "                                                                      \n",
       "                                                                      \n",
       " contrabn  pistol    riflshot  asltweap  knifcuti  othrweap  pf_hands \n",
       " N:21379   N:22337   N:22499   N:22501   N:21813   N:22228   N:18771  \n",
       " Y: 1123   Y:  165   Y:    3   Y:    1   Y:  689   Y:  274   Y: 3731  \n",
       "                                                                      \n",
       "                                                                      \n",
       "                                                                      \n",
       "                                                                      \n",
       "                                                                      \n",
       " pf_wall   pf_grnd   pf_drwep  pf_ptwep  pf_baton  pf_hcuff  pf_pepsp \n",
       " N:21279   N:22191   N:22087   N:22234   N:22497   N:19111   N:22496  \n",
       " Y: 1223   Y:  311   Y:  415   Y:  268   Y:    5   Y: 3391   Y:    6  \n",
       "                                                                      \n",
       "                                                                      \n",
       "                                                                      \n",
       "                                                                      \n",
       "                                                                      \n",
       " pf_other  radio     ac_rept   ac_inves  rf_vcrim  rf_othsw  ac_proxm \n",
       " N:21906   N:13142   N:15906   N:19561   N:17472   N:18858   N:14543  \n",
       " Y:  596   Y: 9360   Y: 6596   Y: 2941   Y: 5030   Y: 3644   Y: 7959  \n",
       "                                                                      \n",
       "                                                                      \n",
       "                                                                      \n",
       "                                                                      \n",
       "                                                                      \n",
       " rf_attir  cs_objcs  cs_descr  cs_casng  cs_lkout  rf_vcact  cs_cloth \n",
       " N:20949   N:21580   N:14248   N:17837   N:20095   N:20834   N:21555  \n",
       " Y: 1553   Y:  922   Y: 8254   Y: 4665   Y: 2407   Y: 1668   Y:  947  \n",
       "                                                                      \n",
       "                                                                      \n",
       "                                                                      \n",
       "                                                                      \n",
       "                                                                      \n",
       " cs_drgtr  ac_evasv  ac_assoc  cs_furtv  rf_rfcmp  ac_cgdir  rf_verbl \n",
       " N:21138   N:18194   N:20724   N:15766   N:19860   N:17541   N:22287  \n",
       " Y: 1364   Y: 4308   Y: 1778   Y: 6736   Y: 2642   Y: 4961   Y:  215  \n",
       "                                                                      \n",
       "                                                                      \n",
       "                                                                      \n",
       "                                                                      \n",
       "                                                                      \n",
       " cs_vcrim  cs_bulge  cs_other  ac_incid  ac_time   rf_knowl  ac_stsnd \n",
       " N:20590   N:20804   N:14637   N:12148   N:15037   N:21242   N:21837  \n",
       " Y: 1912   Y: 1698   Y: 7865   Y:10354   Y: 7465   Y: 1260   Y:  665  \n",
       "                                                                      \n",
       "                                                                      \n",
       "                                                                      \n",
       "                                                                      \n",
       "                                                                      \n",
       " ac_other  sb_hdobj  sb_outln  sb_admis  sb_other      repcmd   \n",
       " N:19947   N:21063   N:22204   N:22229   N:20083   Min.   :  1  \n",
       " Y: 2555   Y: 1439   Y:  298   Y:  273   Y: 2419   1st Qu.: 66  \n",
       "                                                   Median :106  \n",
       "                                                   Mean   :229  \n",
       "                                                   3rd Qu.:186  \n",
       "                                                   Max.   :878  \n",
       "                                                                \n",
       "     revcmd      rf_furt   rf_bulg   offverb   offshld   forceuse   sex      \n",
       " Min.   :  1.0   N:15913   N:20577    :15175    :12749     :16321   F: 1509  \n",
       " 1st Qu.: 66.0   Y: 6589   Y: 1925   V: 7327   S: 9753   DO:   98   M:20799  \n",
       " Median :106.0                                           DS: 2145   Z:  194  \n",
       " Mean   :229.4                                           OR:  284            \n",
       " 3rd Qu.:186.0                                           OT: 1687            \n",
       " Max.   :878.0                                           SF: 1461            \n",
       "                                                         SW:  506            \n",
       "      race            age            weight      build            city     \n",
       " B      :11913   Min.   : 0.00   Min.   :  1.0   H: 2159   BRONX    :4740  \n",
       " Q      : 5082   1st Qu.:19.00   1st Qu.:150.0   M:10958   BROOKLYN :6334  \n",
       " W      : 2505   Median :24.00   Median :170.0   T: 8861   MANHATTAN:3923  \n",
       " P      : 1407   Mean   :27.63   Mean   :171.3   U:  191   QUEENS   :5710  \n",
       " A      : 1100   3rd Qu.:33.00   3rd Qu.:185.0   Z:  333   STATEN IS:1795  \n",
       " Z      :  298   Max.   :99.00   Max.   :999.0                             \n",
       " (Other):  197                                                             \n",
       "    detailCM          height     \n",
       " Min.   :  6.00   Min.   :36.00  \n",
       " 1st Qu.: 20.00   1st Qu.:67.00  \n",
       " Median : 27.00   Median :69.00  \n",
       " Mean   : 37.79   Mean   :68.83  \n",
       " 3rd Qu.: 46.00   3rd Qu.:71.00  \n",
       " Max.   :113.00   Max.   :95.00  \n",
       "                                 "
      ]
     },
     "metadata": {},
     "output_type": "display_data"
    }
   ],
   "source": [
    "set.seed(43)\n",
    "\n",
    "install.packages('tree')\n",
    "require(ggplot2)\n",
    "require(tree)\n",
    "require(class)\n",
    "require(randomForest)\n",
    "\n",
    "download_link <- \"http://www.nyc.gov/html/nypd/downloads/zip/analysis_and_planning/2015_sqf_csv.zip\"\n",
    "tmp <- tempfile()\n",
    "download.file(download_link, tmp)\n",
    "mydata <- read.csv(unz(tmp, \"2015_sqf_csv.csv\"))\n",
    "unlink(tmp)\n",
    "\n",
    "sum(is.na(mydata))\n",
    "nrow(mydata) * ncol(mydata)\n",
    "names(mydata)\n",
    "\n",
    "\n",
    "napercol <- list()\n",
    "for (i in 1:ncol(mydata)) {\n",
    "    napercol[[i]] <- sum(is.na(mydata[, i]))\n",
    "}\n",
    "\n",
    "mydata <- mydata[, napercol == 0]\n",
    "\n",
    "lvllist <- list()\n",
    "for (i in 1:ncol(mydata)) {\n",
    "    lvllist[[i]] <- length(levels(mydata[, i]))\n",
    "}\n",
    "\n",
    "attach(mydata)\n",
    "height <- 12 * ht_feet + ht_inch\n",
    "mydata <- data.frame(mydata, height)\n",
    "mydata <- mydata[, (lvllist < 10) & (lvllist != 1)]\n",
    "mydata <- mydata[, -c(1, 2, 3, 4, 15, 16, 18, 78, 79, 83, 84)]\n",
    "mydata <- na.omit(mydata)\n",
    "mydata <- mydata[mydata$age < 100, ]\n",
    "\n",
    "train <- sample(1:nrow(mydata), 3 * nrow(mydata)/4)\n",
    "mydata.test <- mydata[-train, ]\n",
    "arrest.test <- mydata$arstmade[-train]\n",
    "\n",
    "attach(mydata)\n",
    "\n",
    "\n",
    "# descriptive\n",
    "sum(arstmade == \"Y\")/nrow(mydata)\n",
    "sum(sex == \"M\")/nrow(mydata)\n",
    "sum(forceuse != \" \")/nrow(mydata)\n",
    "sum(race == \"B\")/nrow(mydata)\n",
    "sum(sumissue == \"Y\")/nrow(mydata)\n",
    "sum(arstmade == \"Y\")/sum(sumissue == \"Y\")\n",
    "sum(sb_other == \"Y\")/nrow(mydata)\n",
    "sum(sb_other == \"Y\")/sum(searched == \"Y\")\n",
    "sum(pf_other == \"Y\")/nrow(mydata)\n",
    "\n",
    "mean(mydata$age)\n",
    "black <- as.factor(race == \"B\")\n",
    "white <- as.factor(race == \"W\")\n",
    "nonwhite <- as.factor(race != \"W\")\n",
    "summary(mydata)"
   ]
  },
  {
   "cell_type": "markdown",
   "metadata": {
    "hide_input": false
   },
   "source": [
    "# Data\n",
    "The data comes from the City of New York. It is a collection of 22,564 observations of 112 variables. Some of these variables had to be removed, as they did not contribute any information (for instance, they were the same value for all observations) or they had too many missing values. After removing these variables from the dataset, I had 75 variables to work with, with 22,563 observations.\n",
    "\n",
    "For example, lineCM was a redundant variable, as it had 1's for all observations. I also removed apt number, state and zip, as many of these values were left blank. Overall, none of the variables I was very interested in had any missing values, so removing these variables likely had very little effect on the analysis, if any.\n",
    "\n",
    "There were two variables for height (ht_inch and ht_feet) which I combined into one (height).\n",
    "\n",
    "The response variable I used for all of the following analyses was arstmade, which was a categorical variable that had values of \"Y\" for yes and \"N\" for no. Many of the categorical variables in the dataset followed this pattern. The percentage of arrests in all cases was 0.18, meaning that around 18% of the stops resulted in an arrest.\n",
    "\n",
    "The mean age of people who were stopped and frisked was around 29 years. Most of the people who were stopped were males (92.42%). Force was used in about 27% of the cases.\n",
    "\n",
    "In investigating whether blacks were targeted more frequently and if they were arrested more frequently, I created a categorical variable that was 1 if the person was black and 0 otherwise. Below is a bar graph of the arrests, with the colorings indicating the percentage who were black and non-black.\n",
    "\n",
    "It does not seem from these graphs alone that blacks were more likely to be arrested, since they have roughly half of the bars in both instances. However, it does seem like there are a disproportionate number of blacks who are stopped and frisked in the first place, which is shown in the second graph. With blacks making up roughly 23% of the population, it is surprising that almost double that (53%) of the people who were stopped were black\n"
   ]
  },
  {
   "cell_type": "code",
   "execution_count": 4,
   "metadata": {
    "ExecuteTime": {
     "end_time": "2018-09-23T05:43:59.854175Z",
     "start_time": "2018-09-23T05:42:59.649Z"
    },
    "autoscroll": false,
    "hide_input": false
   },
   "outputs": [
    {
     "data": {},
     "metadata": {},
     "output_type": "display_data"
    },
    {
     "data": {
      "image/png": "[encoded data removed]",
      "text/plain": [
       "plot without title"
      ]
     },
     "metadata": {},
     "output_type": "display_data"
    }
   ],
   "source": [
    "ggplot(mydata, aes(arstmade)) + geom_bar(aes(fill = black)) + ggtitle(\"Bar Graph of Arrests for Blacks vs. Non-Blacks\") + \n",
    "    xlab(\"Was the person arrested?\") + ylab(\"Numer of Incidences\") + scale_fill_discrete(name = \"Race\", \n",
    "    labels = c(\"Non-Blacks\", \"Blacks\"))"
   ]
  },
  {
   "cell_type": "code",
   "execution_count": 5,
   "metadata": {
    "ExecuteTime": {
     "end_time": "2018-09-23T05:44:02.731724Z",
     "start_time": "2018-09-23T05:42:59.654Z"
    },
    "autoscroll": false,
    "hide_input": false,
    "scrolled": false
   },
   "outputs": [
    {
     "data": {},
     "metadata": {},
     "output_type": "display_data"
    },
    {
     "data": {
      "image/png": "[encoded data removed]",
      "text/plain": [
       "plot without title"
      ]
     },
     "metadata": {},
     "output_type": "display_data"
    }
   ],
   "source": [
    "ggplot(mydata, aes(black)) + geom_bar(fill = \"red\") + ggtitle(\"Blacks vs. Non-Blacks Who Were Stopped and Frisked\") + \n",
    "    xlab(\"Was the person black?\") + ylab(\"Number of Incidents\")"
   ]
  },
  {
   "cell_type": "markdown",
   "metadata": {},
   "source": [
    "Some more interesting things found in the descriptive statistics:\n",
    "\n",
    "Around 6.7 times more people were arrested than given summonses. That is, only 2% of the people were given summonses.\n",
    "\n",
    "None of the people who were stopped had a machine gun, so I removed this variable from the data. I removed any variable which had levels that were exactly one, as this indicated that there was no variation between observations.\n",
    "\n",
    "Although the suspected crime variable (crimsusp) was of interest to me in my analysis, I found the data to be inconsistent in how it was recorded. For instance, if it was a felony, the officer had data entered that had both \"FEL\" and \"FELONY\" in two different cases. Of course, R would not be able to recognize the fact that these are the same, and would treat them as separate variables.\n",
    "\n",
    "As such, I decided to remove any variables which had levels larger than 10, as this would indicate that the data was too separated to be meaningful. Since much of this information is contained in the categorical variables (such as the rs variables, which had different values for different reasons for stopping the person), it was relatively inconsequential in my analysis to do so.\n",
    "\n",
    "There were also groupings which could raise doubt as to whether the information recorded was accurate. Of primary concern to me was pf_other (physical force used: other), rs_other (reason for search: other) and ac_other (additional circumstances: other). These are not very informative, and could be raise a speculative point about whether these were truly extraordinary cases or if they were omitted for other reasons. Of course, that is merely speculation, but it is important to note that this is a source of potential inconsistency and unreliability from the dataset.\n",
    "\n",
    "Even worse, some of these variables contributed a lot to the models which I have fit. Below shows a bar graph of the number of arrests conditional on whether the reason for search was classified as \"other.\"\n"
   ]
  },
  {
   "cell_type": "code",
   "execution_count": 6,
   "metadata": {
    "ExecuteTime": {
     "end_time": "2018-09-23T05:44:04.198011Z",
     "start_time": "2018-09-23T05:42:59.738Z"
    },
    "autoscroll": false,
    "hide_input": false
   },
   "outputs": [
    {
     "data": {},
     "metadata": {},
     "output_type": "display_data"
    },
    {
     "data": {
      "image/png": "[encoded data removed]",
      "text/plain": [
       "plot without title"
      ]
     },
     "metadata": {},
     "output_type": "display_data"
    }
   ],
   "source": [
    "ggplot(mydata, aes(sb_other)) + geom_bar(aes(fill = arstmade)) + ggtitle(\"Arrests Conditional on if Reason for Search classified as OTHER\") + \n",
    "    xlab(\"Was the reason for search classifed as other?\") + ylab(\"Number of Incidents\") + \n",
    "    scale_fill_discrete(name = \"Arrest Status\", labels = (c(\"Not Arrested\", \"Arrested\")))"
   ]
  },
  {
   "cell_type": "markdown",
   "metadata": {
    "hide_input": false
   },
   "source": [
    "\n",
    "This confirms the results of the analysis below, as this variable has a large effect on whether the person was arrested or not. If the person was classified as being searched for other reasons not specified, they were arrested quite often. This leads to a limitation of the data and interpretation - we can not determine what the true reasons were. sb_other accounted for around 10.7% of all the cases, and 57.6% of all the people who were searched.\n",
    "\n",
    "## Analysis and Model Fitting\n",
    "\n",
    "# Logistic Regression\n",
    "\n",
    "I separated the data into two sets - test data and training data. The training data was randomly sampled from ¾ of the data.\n",
    "\n",
    "I began my analysis by using a logistic regression model to predict arstmade on all of the other variables. This was because the response variable was categorical, so it was necessary to use a logistic model instead of a linear model with normal errors. I then used stepwise reduction to determine the best fit and to reduce the amount of variables used. Since there were a great deal of variables that came up insignificant in the full model, it reduced the model quite a lot.\n",
    "\n",
    "I used the glm function using the binomial family to model the data.\n",
    "\n",
    "Below is a summary of the results of the models:\n"
   ]
  },
  {
   "cell_type": "code",
   "execution_count": 7,
   "metadata": {
    "ExecuteTime": {
     "end_time": "2018-09-23T05:44:12.382754Z",
     "start_time": "2018-09-23T05:42:59.803Z"
    },
    "Rmd_chunk_options": "include=FALSE",
    "autoscroll": false,
    "hide_input": false
   },
   "outputs": [
    {
     "data": {
      "text/plain": [
       "\n",
       "Call:\n",
       "glm(formula = arstmade ~ ., family = binomial, data = mydata[train, \n",
       "    ])\n",
       "\n",
       "Deviance Residuals: \n",
       "    Min       1Q   Median       3Q      Max  \n",
       "-3.7188  -0.3688  -0.2544  -0.1509   3.8891  \n",
       "\n",
       "Coefficients:\n",
       "                Estimate Std. Error z value Pr(>|z|)    \n",
       "(Intercept)   -3.603e-01  1.098e+00  -0.328 0.742736    \n",
       "timestop      -5.247e-05  3.830e-05  -1.370 0.170732    \n",
       "recstat1       3.513e-01  1.029e-01   3.414 0.000640 ***\n",
       "recstat9      -1.984e+00  2.315e+00  -0.857 0.391350    \n",
       "recstatA      -1.814e-01  1.186e-01  -1.530 0.126081    \n",
       "inoutO        -8.448e-01  8.111e-02 -10.415  < 2e-16 ***\n",
       "trhslocP      -8.829e-01  1.264e-01  -6.987 2.81e-12 ***\n",
       "trhslocT      -1.433e+00  1.497e-01  -9.576  < 2e-16 ***\n",
       "perobs         8.119e-03  3.385e-03   2.398 0.016477 *  \n",
       "typeofidP      4.639e-02  2.062e-01   0.225 0.822032    \n",
       "typeofidR     -1.221e+00  3.381e-01  -3.612 0.000303 ***\n",
       "typeofidV     -1.538e-01  2.087e-01  -0.737 0.461056    \n",
       "explnstpY     -5.317e-01  7.951e-01  -0.669 0.503720    \n",
       "othpersY       8.174e-02  7.156e-02   1.142 0.253323    \n",
       "sumissueY     -2.921e+00  2.354e-01 -12.411  < 2e-16 ***\n",
       "offunifY      -2.842e-01  3.264e-01  -0.871 0.383957    \n",
       "friskedY       1.868e-01  1.029e-01   1.816 0.069326 .  \n",
       "searchedY      1.743e+00  2.208e-01   7.893 2.95e-15 ***\n",
       "contrabnY      3.129e+00  1.397e-01  22.406  < 2e-16 ***\n",
       "pistolY        2.889e+00  3.064e-01   9.428  < 2e-16 ***\n",
       "riflshotY     -9.084e+00  1.970e+02  -0.046 0.963216    \n",
       "asltweapY      9.640e+00  1.970e+02   0.049 0.960966    \n",
       "knifcutiY      2.090e+00  1.459e-01  14.327  < 2e-16 ***\n",
       "othrweapY      1.924e+00  2.089e-01   9.209  < 2e-16 ***\n",
       "pf_handsY      1.730e-01  9.642e-02   1.794 0.072817 .  \n",
       "pf_wallY      -2.660e-01  1.438e-01  -1.850 0.064294 .  \n",
       "pf_grndY       7.378e-01  2.149e-01   3.433 0.000597 ***\n",
       "pf_drwepY     -6.845e-01  2.622e-01  -2.610 0.009050 ** \n",
       "pf_ptwepY     -1.893e-01  2.868e-01  -0.660 0.509344    \n",
       "pf_batonY      2.162e+00  1.520e+00   1.422 0.155040    \n",
       "pf_hcuffY      1.308e+00  9.645e-02  13.564  < 2e-16 ***\n",
       "pf_pepspY      3.710e+00  1.173e+00   3.162 0.001568 ** \n",
       "pf_otherY     -2.753e-01  1.954e-01  -1.409 0.158894    \n",
       "radioY        -4.752e-01  6.943e-02  -6.844 7.70e-12 ***\n",
       "ac_reptY       2.874e-01  7.863e-02   3.655 0.000257 ***\n",
       "ac_invesY      5.950e-02  9.443e-02   0.630 0.528644    \n",
       "rf_vcrimY     -2.614e-01  9.061e-02  -2.885 0.003912 ** \n",
       "rf_othswY     -2.411e-01  9.555e-02  -2.523 0.011633 *  \n",
       "ac_proxmY      1.581e-01  6.608e-02   2.393 0.016729 *  \n",
       "rf_attirY     -3.667e-01  1.361e-01  -2.695 0.007042 ** \n",
       "cs_objcsY      5.588e-01  1.324e-01   4.219 2.45e-05 ***\n",
       "cs_descrY      1.136e-01  8.865e-02   1.281 0.200124    \n",
       "cs_casngY     -1.454e-01  9.321e-02  -1.560 0.118861    \n",
       "cs_lkoutY     -4.338e-01  1.205e-01  -3.599 0.000319 ***\n",
       "rf_vcactY     -8.072e-02  1.335e-01  -0.605 0.545450    \n",
       "cs_clothY     -3.673e-01  1.809e-01  -2.031 0.042294 *  \n",
       "cs_drgtrY      3.498e-01  1.206e-01   2.901 0.003719 ** \n",
       "ac_evasvY      2.235e-01  8.377e-02   2.668 0.007640 ** \n",
       "ac_assocY     -5.466e-01  1.345e-01  -4.063 4.84e-05 ***\n",
       "cs_furtvY     -2.918e-02  8.263e-02  -0.353 0.723996    \n",
       "rf_rfcmpY     -2.335e-01  1.029e-01  -2.270 0.023184 *  \n",
       "ac_cgdirY      1.199e-01  8.096e-02   1.481 0.138624    \n",
       "rf_verblY     -3.992e-01  2.927e-01  -1.364 0.172692    \n",
       "cs_vcrimY     -3.357e-01  1.384e-01  -2.426 0.015256 *  \n",
       "cs_bulgeY     -4.862e-01  1.482e-01  -3.281 0.001033 ** \n",
       "cs_otherY     -1.467e-01  7.321e-02  -2.004 0.045122 *  \n",
       "ac_incidY      4.553e-02  7.148e-02   0.637 0.524196    \n",
       "ac_timeY      -4.144e-02  7.612e-02  -0.544 0.586213    \n",
       "rf_knowlY     -4.205e-01  1.562e-01  -2.692 0.007095 ** \n",
       "ac_stsndY     -2.085e-01  1.926e-01  -1.083 0.278930    \n",
       "ac_otherY     -3.115e-01  9.911e-02  -3.143 0.001673 ** \n",
       "sb_hdobjY     -6.270e-01  2.079e-01  -3.016 0.002558 ** \n",
       "sb_outlnY      2.030e-01  2.446e-01   0.830 0.406604    \n",
       "sb_admisY      1.097e-01  2.662e-01   0.412 0.680126    \n",
       "sb_otherY      1.280e+00  2.151e-01   5.951 2.66e-09 ***\n",
       "repcmd        -3.224e-04  6.206e-04  -0.520 0.603369    \n",
       "revcmd         8.321e-04  6.175e-04   1.348 0.177806    \n",
       "rf_furtY      -1.473e-01  9.015e-02  -1.634 0.102289    \n",
       "rf_bulgY      -3.050e-01  1.374e-01  -2.220 0.026416 *  \n",
       "offverbV      -2.356e-02  1.051e-01  -0.224 0.822675    \n",
       "offshldS      -3.050e-02  3.115e-01  -0.098 0.922004    \n",
       "forceuseDO    -7.150e-01  4.305e-01  -1.661 0.096764 .  \n",
       "forceuseDS    -6.897e-01  1.305e-01  -5.286 1.25e-07 ***\n",
       "forceuseOR    -8.379e-02  2.432e-01  -0.345 0.730402    \n",
       "forceuseOT     3.347e-01  1.257e-01   2.664 0.007725 ** \n",
       "forceuseSF    -5.223e-02  1.308e-01  -0.399 0.689594    \n",
       "forceuseSW    -5.030e-01  2.170e-01  -2.318 0.020476 *  \n",
       "sexM          -2.052e-01  1.171e-01  -1.752 0.079809 .  \n",
       "sexZ          -7.004e-01  4.190e-01  -1.671 0.094626 .  \n",
       "raceB          3.875e-02  1.589e-01   0.244 0.807283    \n",
       "raceI          8.685e-02  5.556e-01   0.156 0.875776    \n",
       "raceP          2.571e-01  1.889e-01   1.361 0.173603    \n",
       "raceQ          3.531e-01  1.623e-01   2.176 0.029566 *  \n",
       "raceU          2.086e-01  4.130e-01   0.505 0.613431    \n",
       "raceW          1.073e-01  1.809e-01   0.593 0.552966    \n",
       "raceZ          5.422e-01  3.251e-01   1.668 0.095401 .  \n",
       "age            8.302e-03  2.664e-03   3.117 0.001830 ** \n",
       "weight        -1.064e-03  1.022e-03  -1.041 0.297954    \n",
       "buildM        -4.270e-02  1.113e-01  -0.384 0.701347    \n",
       "buildT        -1.117e-02  1.210e-01  -0.092 0.926426    \n",
       "buildU        -1.004e-01  3.264e-01  -0.308 0.758299    \n",
       "buildZ        -7.310e-01  2.973e-01  -2.459 0.013934 *  \n",
       "cityBROOKLYN  -8.185e-01  8.534e-02  -9.592  < 2e-16 ***\n",
       "cityMANHATTAN -6.850e-01  9.098e-02  -7.529 5.10e-14 ***\n",
       "cityQUEENS    -5.335e-01  9.414e-02  -5.667 1.45e-08 ***\n",
       "citySTATEN IS -1.102e+00  1.562e-01  -7.053 1.75e-12 ***\n",
       "detailCM       8.680e-03  1.159e-03   7.492 6.78e-14 ***\n",
       "height        -2.539e-03  1.019e-02  -0.249 0.803203    \n",
       "---\n",
       "Signif. codes:  0 '***' 0.001 '**' 0.01 '*' 0.05 '.' 0.1 ' ' 1\n",
       "\n",
       "(Dispersion parameter for binomial family taken to be 1)\n",
       "\n",
       "    Null deviance: 15712.6  on 16875  degrees of freedom\n",
       "Residual deviance:  8277.2  on 16778  degrees of freedom\n",
       "AIC: 8473.2\n",
       "\n",
       "Number of Fisher Scoring iterations: 10\n"
      ]
     },
     "metadata": {},
     "output_type": "display_data"
    },
    {
     "data": {
      "text/plain": [
       "\n",
       "Call:\n",
       "glm(formula = arstmade ~ recstat + inout + trhsloc + perobs + \n",
       "    typeofid + sumissue + offunif + frisked + searched + contrabn + \n",
       "    pistol + knifcuti + othrweap + pf_hands + pf_wall + pf_grnd + \n",
       "    pf_drwep + pf_hcuff + pf_pepsp + pf_other + radio + ac_rept + \n",
       "    rf_vcrim + rf_othsw + ac_proxm + rf_attir + cs_objcs + cs_casng + \n",
       "    cs_lkout + cs_cloth + cs_drgtr + ac_evasv + ac_assoc + rf_rfcmp + \n",
       "    rf_verbl + cs_vcrim + cs_bulge + cs_other + rf_knowl + ac_other + \n",
       "    sb_hdobj + sb_other + revcmd + rf_furt + rf_bulg + forceuse + \n",
       "    sex + race + age + weight + city + detailCM, family = binomial, \n",
       "    data = mydata[train, ])\n",
       "\n",
       "Deviance Residuals: \n",
       "    Min       1Q   Median       3Q      Max  \n",
       "-3.7416  -0.3693  -0.2555  -0.1531   3.8643  \n",
       "\n",
       "Coefficients:\n",
       "                Estimate Std. Error z value Pr(>|z|)    \n",
       "(Intercept)   -1.1394455  0.3563078  -3.198 0.001384 ** \n",
       "recstat1       0.3575529  0.1023959   3.492 0.000480 ***\n",
       "recstat9      -2.0037225  2.3393201  -0.857 0.391699    \n",
       "recstatA      -0.1811463  0.1180715  -1.534 0.124978    \n",
       "inoutO        -0.8198646  0.0803864 -10.199  < 2e-16 ***\n",
       "trhslocP      -0.8738981  0.1249270  -6.995 2.65e-12 ***\n",
       "trhslocT      -1.4117556  0.1472958  -9.584  < 2e-16 ***\n",
       "perobs         0.0085851  0.0033665   2.550 0.010767 *  \n",
       "typeofidP      0.0553679  0.2048434   0.270 0.786934    \n",
       "typeofidR     -1.2301359  0.3365018  -3.656 0.000257 ***\n",
       "typeofidV     -0.1420737  0.2072662  -0.685 0.493051    \n",
       "sumissueY     -2.9274054  0.2337174 -12.525  < 2e-16 ***\n",
       "offunifY      -0.2300162  0.0709762  -3.241 0.001192 ** \n",
       "friskedY       0.1596321  0.0999233   1.598 0.110144    \n",
       "searchedY      1.8727029  0.1564972  11.966  < 2e-16 ***\n",
       "contrabnY      3.1108031  0.1387840  22.415  < 2e-16 ***\n",
       "pistolY        2.9397144  0.3037615   9.678  < 2e-16 ***\n",
       "knifcutiY      2.0781429  0.1408105  14.758  < 2e-16 ***\n",
       "othrweapY      1.9085458  0.2061663   9.257  < 2e-16 ***\n",
       "pf_handsY      0.1829775  0.0958719   1.909 0.056318 .  \n",
       "pf_wallY      -0.2684473  0.1426597  -1.882 0.059872 .  \n",
       "pf_grndY       0.7069531  0.2111336   3.348 0.000813 ***\n",
       "pf_drwepY     -0.7202203  0.2427153  -2.967 0.003004 ** \n",
       "pf_hcuffY      1.3038209  0.0958149  13.608  < 2e-16 ***\n",
       "pf_pepspY      3.6381377  1.1662366   3.120 0.001811 ** \n",
       "pf_otherY     -0.2736084  0.1936878  -1.413 0.157766    \n",
       "radioY        -0.4540335  0.0686508  -6.614 3.75e-11 ***\n",
       "ac_reptY       0.3203196  0.0716227   4.472 7.74e-06 ***\n",
       "rf_vcrimY     -0.2302783  0.0885105  -2.602 0.009276 ** \n",
       "rf_othswY     -0.2195720  0.0938505  -2.340 0.019305 *  \n",
       "ac_proxmY      0.1764237  0.0639188   2.760 0.005778 ** \n",
       "rf_attirY     -0.3508092  0.1347952  -2.603 0.009254 ** \n",
       "cs_objcsY      0.5277556  0.1306460   4.040 5.35e-05 ***\n",
       "cs_casngY     -0.1567943  0.0897938  -1.746 0.080783 .  \n",
       "cs_lkoutY     -0.4306545  0.1190220  -3.618 0.000297 ***\n",
       "cs_clothY     -0.3454175  0.1787932  -1.932 0.053367 .  \n",
       "cs_drgtrY      0.3362326  0.1183804   2.840 0.004507 ** \n",
       "ac_evasvY      0.2346666  0.0809086   2.900 0.003727 ** \n",
       "ac_assocY     -0.5555065  0.1340808  -4.143 3.43e-05 ***\n",
       "rf_rfcmpY     -0.2040480  0.1014848  -2.011 0.044365 *  \n",
       "rf_verblY     -0.4083410  0.2922657  -1.397 0.162366    \n",
       "cs_vcrimY     -0.3965895  0.1264841  -3.135 0.001716 ** \n",
       "cs_bulgeY     -0.4881904  0.1440797  -3.388 0.000703 ***\n",
       "cs_otherY     -0.1770344  0.0673632  -2.628 0.008587 ** \n",
       "rf_knowlY     -0.4071034  0.1555024  -2.618 0.008845 ** \n",
       "ac_otherY     -0.3129862  0.0982278  -3.186 0.001441 ** \n",
       "sb_hdobjY     -0.7305307  0.1589738  -4.595 4.32e-06 ***\n",
       "sb_otherY      1.1601221  0.1583057   7.328 2.33e-13 ***\n",
       "revcmd         0.0004988  0.0001588   3.142 0.001681 ** \n",
       "rf_furtY      -0.1420974  0.0805927  -1.763 0.077874 .  \n",
       "rf_bulgY      -0.2908946  0.1356321  -2.145 0.031974 *  \n",
       "forceuseDO    -0.7594367  0.4329658  -1.754 0.079425 .  \n",
       "forceuseDS    -0.6950447  0.1298365  -5.353 8.64e-08 ***\n",
       "forceuseOR    -0.0864302  0.2400623  -0.360 0.718823    \n",
       "forceuseOT     0.3274358  0.1251247   2.617 0.008874 ** \n",
       "forceuseSF    -0.0552919  0.1300915  -0.425 0.670820    \n",
       "forceuseSW    -0.4997659  0.2145224  -2.330 0.019824 *  \n",
       "sexM          -0.2124173  0.1120586  -1.896 0.058014 .  \n",
       "sexZ          -0.6879402  0.4163837  -1.652 0.098498 .  \n",
       "raceB          0.0408446  0.1577469   0.259 0.795693    \n",
       "raceI          0.0878653  0.5519119   0.159 0.873510    \n",
       "raceP          0.2519675  0.1881200   1.339 0.180441    \n",
       "raceQ          0.3582209  0.1613654   2.220 0.026423 *  \n",
       "raceU          0.2148683  0.4095903   0.525 0.599866    \n",
       "raceW          0.1083503  0.1798309   0.603 0.546833    \n",
       "raceZ          0.5206662  0.3238037   1.608 0.107842    \n",
       "age            0.0073152  0.0026085   2.804 0.005042 ** \n",
       "weight        -0.0012546  0.0008145  -1.540 0.123469    \n",
       "cityBROOKLYN  -0.8072589  0.0847163  -9.529  < 2e-16 ***\n",
       "cityMANHATTAN -0.6764624  0.0904685  -7.477 7.58e-14 ***\n",
       "cityQUEENS    -0.5136538  0.0932366  -5.509 3.61e-08 ***\n",
       "citySTATEN IS -1.0791310  0.1548114  -6.971 3.16e-12 ***\n",
       "detailCM       0.0090240  0.0011467   7.870 3.56e-15 ***\n",
       "---\n",
       "Signif. codes:  0 '***' 0.001 '**' 0.01 '*' 0.05 '.' 0.1 ' ' 1\n",
       "\n",
       "(Dispersion parameter for binomial family taken to be 1)\n",
       "\n",
       "    Null deviance: 15712.6  on 16875  degrees of freedom\n",
       "Residual deviance:  8297.6  on 16803  degrees of freedom\n",
       "AIC: 8443.6\n",
       "\n",
       "Number of Fisher Scoring iterations: 6\n"
      ]
     },
     "metadata": {},
     "output_type": "display_data"
    }
   ],
   "source": [
    "logistfullmodel <- glm(arstmade ~ ., data = mydata[train, ], family = binomial)\n",
    "summary(logistfullmodel)\n",
    "\n",
    "# step(logistfullmodel)\n",
    "\n",
    "stepwiselogmodel <- glm(formula = arstmade ~ recstat + inout + trhsloc + perobs + \n",
    "    typeofid + sumissue + offunif + frisked + searched + contrabn + pistol + knifcuti + \n",
    "    othrweap + pf_hands + pf_wall + pf_grnd + pf_drwep + pf_hcuff + pf_pepsp + pf_other + \n",
    "    radio + ac_rept + rf_vcrim + rf_othsw + ac_proxm + rf_attir + cs_objcs + cs_casng + \n",
    "    cs_lkout + cs_cloth + cs_drgtr + ac_evasv + ac_assoc + rf_rfcmp + rf_verbl + \n",
    "    cs_vcrim + cs_bulge + cs_other + rf_knowl + ac_other + sb_hdobj + sb_other + \n",
    "    revcmd + rf_furt + rf_bulg + forceuse + sex + race + age + weight + city + detailCM, \n",
    "    family = binomial, data = mydata[train, ])\n",
    "\n",
    "summary(stepwiselogmodel)"
   ]
  },
  {
   "cell_type": "code",
   "execution_count": 8,
   "metadata": {
    "ExecuteTime": {
     "end_time": "2018-09-23T05:44:20.530907Z",
     "start_time": "2018-09-23T05:42:59.811Z"
    },
    "Rmd_chunk_options": "include=FALSE",
    "autoscroll": false,
    "hide_input": false
   },
   "outputs": [
    {
     "data": {
      "image/png": "[encoded data removed]",
      "text/plain": [
       "Plot with title \"\""
      ]
     },
     "metadata": {},
     "output_type": "display_data"
    },
    {
     "data": {
      "image/png": "[encoded data removed]",
      "text/plain": [
       "Plot with title \"\""
      ]
     },
     "metadata": {},
     "output_type": "display_data"
    },
    {
     "data": {
      "image/png": "[encoded data removed]",
      "text/plain": [
       "Plot with title \"\""
      ]
     },
     "metadata": {},
     "output_type": "display_data"
    },
    {
     "data": {
      "image/png": "[encoded data removed]",
      "text/plain": [
       "Plot with title \"\""
      ]
     },
     "metadata": {},
     "output_type": "display_data"
    }
   ],
   "source": [
    "plot(stepwiselogmodel)"
   ]
  },
  {
   "cell_type": "code",
   "execution_count": 9,
   "metadata": {
    "ExecuteTime": {
     "end_time": "2018-09-23T05:44:20.931491Z",
     "start_time": "2018-09-23T05:42:59.817Z"
    },
    "Rmd_chunk_options": "include=FALSE",
    "autoscroll": false,
    "hide_input": false
   },
   "outputs": [
    {
     "data": {
      "text/html": [
       "0.127266263775329"
      ],
      "text/latex": [
       "0.127266263775329"
      ],
      "text/markdown": [
       "0.127266263775329"
      ],
      "text/plain": [
       "[1] 0.1272663"
      ]
     },
     "metadata": {},
     "output_type": "display_data"
    },
    {
     "data": {
      "text/html": [
       "0.093"
      ],
      "text/latex": [
       "0.093"
      ],
      "text/markdown": [
       "0.093"
      ],
      "text/plain": [
       "[1] 0.093"
      ]
     },
     "metadata": {},
     "output_type": "display_data"
    },
    {
     "data": {
      "text/html": [
       "0.127266263775329"
      ],
      "text/latex": [
       "0.127266263775329"
      ],
      "text/markdown": [
       "0.127266263775329"
      ],
      "text/plain": [
       "[1] 0.1272663"
      ]
     },
     "metadata": {},
     "output_type": "display_data"
    },
    {
     "data": {
      "text/html": [
       "0.127444009953786"
      ],
      "text/latex": [
       "0.127444009953786"
      ],
      "text/markdown": [
       "0.127444009953786"
      ],
      "text/plain": [
       "[1] 0.127444"
      ]
     },
     "metadata": {},
     "output_type": "display_data"
    },
    {
     "data": {
      "text/html": [
       "0.095"
      ],
      "text/latex": [
       "0.095"
      ],
      "text/markdown": [
       "0.095"
      ],
      "text/plain": [
       "[1] 0.095"
      ]
     },
     "metadata": {},
     "output_type": "display_data"
    }
   ],
   "source": [
    "fit1 <- predict(stepwiselogmodel, newdata = mydata.test, type = \"response\")\n",
    "fit1 <- ifelse(fit1 > 0.5, 1, 0)\n",
    "sum(fit1)/nrow(mydata.test)\n",
    "\n",
    "table1 <- table(fit1, arrest.test)\n",
    "misclasserrorstepwise <- 1 - sum(diag(table1))/nrow(mydata.test)\n",
    "round(misclasserrorstepwise, 3)\n",
    "\n",
    "fitted3 <- ifelse(fit1 > 0.17, 1, 0)\n",
    "sum(fitted3)/nrow(mydata.test)\n",
    "\n",
    "\n",
    "fit2 <- predict(logistfullmodel, newdata = mydata.test, type = \"response\")\n",
    "fitted2 <- ifelse(fit2 > 0.5, 1, 0)\n",
    "sum(fitted2)/nrow(mydata.test)\n",
    "\n",
    "table2 <- table(fitted2, arrest.test)\n",
    "misclasserrorsfull <- 1 - sum(diag(table2))/nrow(mydata.test)\n",
    "round(misclasserrorsfull, 3)"
   ]
  },
  {
   "cell_type": "code",
   "execution_count": 11,
   "metadata": {
    "ExecuteTime": {
     "end_time": "2018-09-23T05:44:21.088384Z",
     "start_time": "2018-09-23T05:42:59.826Z"
    },
    "autoscroll": false,
    "hide_input": true
   },
   "outputs": [
    {
     "data": {
      "text/plain": [
       "    arrest.test\n",
       "fit1    N    Y\n",
       "   0 4513  397\n",
       "   1  126  590"
      ]
     },
     "metadata": {},
     "output_type": "display_data"
    }
   ],
   "source": [
    "table1"
   ]
  },
  {
   "cell_type": "code",
   "execution_count": 12,
   "metadata": {
    "ExecuteTime": {
     "end_time": "2018-09-23T05:44:21.176445Z",
     "start_time": "2018-09-23T05:42:59.832Z"
    },
    "autoscroll": false,
    "hide_input": true
   },
   "outputs": [
    {
     "data": {
      "text/html": [
       "0.0945609669392108"
      ],
      "text/latex": [
       "0.0945609669392108"
      ],
      "text/markdown": [
       "0.0945609669392108"
      ],
      "text/plain": [
       "[1] 0.09456097"
      ]
     },
     "metadata": {},
     "output_type": "display_data"
    },
    {
     "data": {
      "text/plain": [
       "       arrest.test\n",
       "fitted2    N    Y\n",
       "      0 4508  401\n",
       "      1  131  586"
      ]
     },
     "metadata": {},
     "output_type": "display_data"
    },
    {
     "data": {
      "text/html": [
       "0.0929612513330963"
      ],
      "text/latex": [
       "0.0929612513330963"
      ],
      "text/markdown": [
       "0.0929612513330963"
      ],
      "text/plain": [
       "[1] 0.09296125"
      ]
     },
     "metadata": {},
     "output_type": "display_data"
    }
   ],
   "source": [
    "misclasserrorsfull\n",
    "table2\n",
    "misclasserrorstepwise"
   ]
  },
  {
   "cell_type": "markdown",
   "metadata": {},
   "source": [
    "\n",
    "Using the stepwise regression model determined by the AIC produced a marginally better misclassification error, from .095 to .093 (or 9.5 % to 9.3%). This isn't a very big improvement, though.\n",
    "\n",
    "Surprisingly, the model does not find any of the race factors to be significant in determining whether an arrest was made or not besides Q, which stands for the White-Hispanics. That is, all of the levels of the \"race\" variable other than \"White-Hispanic\" came up insignificant. All of these coefficients are positive besides \"U\", which stood for \"unknown\", which essentially means that if the person's race was known, the odds of arrest are higher. The full summary of the stepwise regression is included in the appendix(1).\n",
    "\n",
    "When the stepwise regression was performed, we could see that contraband and knife/cutting instrument variables were highly significant in determining whether a person would get arrested or not. These variables are both very significant in the reduced logistic model.\n",
    "\n",
    "The variables that represent the different boroughs were all found to be significant, all with negative values. This suggests that the variable that was not included in the factors (the Bronx) had a higher likelihood of being arrested than any of the other four boroughs. Since the largest coefficient is that of Staten Island it means that, all else equal, a person from Staten Island who was stopped and frisked was less likely to be arrested than a person from Manhattan.\n",
    "\n",
    "The model also indicates that people who had a weapon were more likely to be arrested during a stop and frisk. This is logical, as if the police had found a weapon, it is quite likely that the person would be arrested. If the officer was in uniform, interestingly, a person would be less likely to be arrested, according to the model. If the police officer stopped the person because they knew them (indicated by rf_knowlY), the person was less likely to be arrested.\n",
    "\n",
    "If the reason the officer used force was to defend themselves, the person was less likely to be arrested than if the reason for force was that the person was suspected of running away. If the person is searched, they had a higher chance of being arrested than if they were not searched.\n",
    "\n",
    "# KNN\n",
    "\n",
    "The next model I used was the K-Nearest Neighbors approach. K-Nearest Neighbors is a non-parametric method, so it does not make assumptions about the underlying distribution of the variables. K-Nearest Neighbors works by finding the nearest data points to the ones you are testing them against and assigning a classification based on the nearest k points. I have used k=5 and k=10 in this model to see if they can accurately predict the chances of arrest.\n",
    "\n",
    "Below are the tables for predicted vs actual arrest values for the test set, as well as the misclassification error, for the 10-nearest neighbor method (as this was the most successful.)\n",
    "\n"
   ]
  },
  {
   "cell_type": "code",
   "execution_count": 14,
   "metadata": {
    "ExecuteTime": {
     "end_time": "2018-09-23T05:45:50.799728Z",
     "start_time": "2018-09-23T05:42:59.905Z"
    },
    "Rmd_chunk_options": "include=FALSE",
    "autoscroll": false,
    "hide_input": false
   },
   "outputs": [
    {
     "data": {
      "text/html": [
       "0.162"
      ],
      "text/latex": [
       "0.162"
      ],
      "text/markdown": [
       "0.162"
      ],
      "text/plain": [
       "[1] 0.162"
      ]
     },
     "metadata": {},
     "output_type": "display_data"
    },
    {
     "data": {
      "text/html": [
       "0.12"
      ],
      "text/latex": [
       "0.12"
      ],
      "text/markdown": [
       "0.12"
      ],
      "text/plain": [
       "[1] 0.12"
      ]
     },
     "metadata": {},
     "output_type": "display_data"
    }
   ],
   "source": [
    "train1 <- model.matrix(arstmade ~ ., data = mydata[train, ])\n",
    "test1 <- model.matrix(arstmade ~ ., data = mydata.test)\n",
    "knn.predict <- knn(train1, test1, arstmade[train], k = 10)\n",
    "\n",
    "table3 <- table(knn.predict, arrest.test)\n",
    "KNNMisclass <- 1 - sum(diag(table3))/nrow(mydata.test)\n",
    "round(KNNMisclass, 3)\n",
    "\n",
    "train2 <- model.matrix(arstmade ~ ., data = mydata[train, ])[, 7:60]\n",
    "test2 <- model.matrix(arstmade ~ ., data = mydata.test)[, 7:60]\n",
    "knn.predict2 <- knn(train2, test2, arstmade[train], k = 5)\n",
    "\n",
    "table4 <- table(knn.predict2, arrest.test)\n",
    "KNNMisclass2 <- 1 - sum(diag(table4))/nrow(mydata.test)\n",
    "round(KNNMisclass2, 3)"
   ]
  },
  {
   "cell_type": "code",
   "execution_count": 15,
   "metadata": {
    "ExecuteTime": {
     "end_time": "2018-09-23T05:45:50.861005Z",
     "start_time": "2018-09-23T05:42:59.909Z"
    },
    "autoscroll": false,
    "hide_input": false
   },
   "outputs": [
    {
     "data": {
      "text/plain": [
       "           arrest.test\n",
       "knn.predict    N    Y\n",
       "          N 4479  749\n",
       "          Y  160  238"
      ]
     },
     "metadata": {},
     "output_type": "display_data"
    },
    {
     "data": {
      "text/html": [
       "0.162"
      ],
      "text/latex": [
       "0.162"
      ],
      "text/markdown": [
       "0.162"
      ],
      "text/plain": [
       "[1] 0.162"
      ]
     },
     "metadata": {},
     "output_type": "display_data"
    }
   ],
   "source": [
    "table3\n",
    "round(KNNMisclass, 3)"
   ]
  },
  {
   "cell_type": "markdown",
   "metadata": {},
   "source": [
    "The 10-Nearest Neighbor model was the most successful of the different k's I used (I tried 1, 5, 10, and 20). Still, it doesn't produce very good outcomes compared to the logistic model. In fact, if I were to guess that none of the people would get arrested, I would have an error of about 18%, so this model is only marginally better than the trivial method.\n",
    "The failure of this method is due to the fact that the variables cannot exactly be scaled, and the distances are affected by this. As there are many categorical variables and few continuous ones, high numbers of the continuous variables may have influenced the predictions, since the KNN function in R uses Euclidian distances to predict the outcomes.\n",
    "\n",
    "To rectify this, I perform the K-NN method using only the categorical variables. The predictions are slightly better in this model, as shown by the confusion matrix and misclassification rate below.\n"
   ]
  },
  {
   "cell_type": "code",
   "execution_count": 16,
   "metadata": {
    "ExecuteTime": {
     "end_time": "2018-09-23T05:45:50.942804Z",
     "start_time": "2018-09-23T05:42:59.976Z"
    },
    "autoscroll": false,
    "hide_input": false
   },
   "outputs": [
    {
     "data": {
      "text/plain": [
       "            arrest.test\n",
       "knn.predict2    N    Y\n",
       "           N 4547  582\n",
       "           Y   92  405"
      ]
     },
     "metadata": {},
     "output_type": "display_data"
    },
    {
     "data": {
      "text/html": [
       "0.12"
      ],
      "text/latex": [
       "0.12"
      ],
      "text/markdown": [
       "0.12"
      ],
      "text/plain": [
       "[1] 0.12"
      ]
     },
     "metadata": {},
     "output_type": "display_data"
    }
   ],
   "source": [
    "table4\n",
    "round(KNNMisclass2, 3)"
   ]
  },
  {
   "cell_type": "markdown",
   "metadata": {},
   "source": [
    "Interestingly, while the error is still larger than the logistic models, or in fact any of the models I used in the analysis, it is more accurate at predicting an arrest when an arrest was made than any of the earlier models, suggested by the second row of the confusion matrix above. That is, while it produces more overall error than any of the models I've used, it also produces the smallest type I error out of any of the models (the false positives).\n",
    "\n",
    "# Tree-Based Methods\n",
    "\n",
    "I will now use tree-based methods (a single tree, Random Forest, Bagging and Boosting) in order to predict whether a person will be arrested or not.\n",
    "\n",
    "The first model I use will be an unpruned tree using all the variables. The tree selects groupings of the variables which produces the least errors in predictions, and lists decision trees based on the conditional results of each tree. It determines these factors by a popular vote in the case of classification trees, so that the most common outcome is the one which is predicted by the\n",
    "tree. The tree is posted below.\n",
    "\n"
   ]
  },
  {
   "cell_type": "code",
   "execution_count": 17,
   "metadata": {
    "ExecuteTime": {
     "end_time": "2018-09-23T05:45:51.689047Z",
     "start_time": "2018-09-23T05:43:00.045Z"
    },
    "Rmd_chunk_options": "include=FALSE",
    "autoscroll": false,
    "hide_input": true
   },
   "outputs": [],
   "source": [
    "tree.arrest <- tree(arstmade ~ ., mydata[train, ])"
   ]
  },
  {
   "cell_type": "code",
   "execution_count": 18,
   "metadata": {
    "ExecuteTime": {
     "end_time": "2018-09-23T05:45:51.906486Z",
     "start_time": "2018-09-23T05:43:00.048Z"
    },
    "autoscroll": false,
    "hide_input": false
   },
   "outputs": [
    {
     "data": {
      "image/png": "[encoded data removed]",
      "text/plain": [
       "plot without title"
      ]
     },
     "metadata": {},
     "output_type": "display_data"
    }
   ],
   "source": [
    "plot(tree.arrest, main = \"Unpruned Tree\")\n",
    "text(tree.arrest, cex = 0.9)"
   ]
  },
  {
   "cell_type": "markdown",
   "metadata": {},
   "source": [
    "This tree has six nodes, so it is relatively simple. If the statement is true, you go to the right, and if it is false you go to the left. The top node is whether the person was searched or not. This makes sense, as if a person is searched, the police are more likely to find a reason to arrest the person (because of illegal goods, etc).\n",
    "\n",
    "It is already evident that this tree can be pruned. For the trhsloc and pf_hcuff variables, either decision results in the same response. This means that the variable is redundant, and can be removed from the tree. The values that are included are: searched, repcmd (reporting officers command, which takes values from 1 to 999), contrabn (contraband), sb_hdobj (basis of search being a hard object), trhsloc P,T (whether the location was a transit location or housing location), and pf_hcuff(force used was handcuffing).\n",
    "\n",
    "Some of these are quite interesting: the fact that the officers command has an influence on whether the person was arrested or not, and also the fact that regardless of whether the person was handcuffed or not, they were not reported as arrested if they reach the bottom left node. This defies our common sense - as we often expect someone who is handcuffed to be arrested. Based on the prior conditional factors, the tree says that if someone is handcuffed given they don't have contraband, they weren't searched, and the reporting officers command was less than 805, they would be classified as not being arrested.\n",
    "\n",
    "Since we already have seen that we should prune this tree, I will find the correct number of nodes to prune to by plotting the cross-validation errors.\n"
   ]
  },
  {
   "cell_type": "code",
   "execution_count": 19,
   "metadata": {
    "ExecuteTime": {
     "end_time": "2018-09-23T05:45:58.778443Z",
     "start_time": "2018-09-23T05:43:00.125Z"
    },
    "Rmd_chunk_options": "include=FALSE",
    "autoscroll": false,
    "hide_input": true
   },
   "outputs": [],
   "source": [
    "cv.arrest <- cv.tree(tree.arrest, FUN = prune.misclass)"
   ]
  },
  {
   "cell_type": "code",
   "execution_count": 20,
   "metadata": {
    "ExecuteTime": {
     "end_time": "2018-09-23T05:45:59.056556Z",
     "start_time": "2018-09-23T05:43:00.129Z"
    },
    "autoscroll": false,
    "hide_input": false
   },
   "outputs": [
    {
     "data": {
      "image/png": "[encoded data removed]",
      "text/plain": [
       "Plot with title \"Determining Best Reduction of Trees by Deviance\""
      ]
     },
     "metadata": {},
     "output_type": "display_data"
    }
   ],
   "source": [
    "plot(cv.arrest$size, cv.arrest$dev, type = \"b\", xlab = \"Number of Nodes\", ylab = \"Deviance\", \n",
    "    main = \"Determining Best Reduction of Trees by Deviance\")\n",
    "points(3, cv.arrest$dev[3], col = \"red\")"
   ]
  },
  {
   "cell_type": "markdown",
   "metadata": {},
   "source": [
    "There is a clear leveling off at 3, marked with a red point, so we will prune the next tree to three nodes.\n"
   ]
  },
  {
   "cell_type": "code",
   "execution_count": 21,
   "metadata": {
    "ExecuteTime": {
     "end_time": "2018-09-23T05:45:59.168001Z",
     "start_time": "2018-09-23T05:43:00.192Z"
    },
    "Rmd_chunk_options": "include=FALSE",
    "autoscroll": false,
    "hide_input": true
   },
   "outputs": [],
   "source": [
    "prune.arrest <- prune.misclass(tree.arrest, best = 3)"
   ]
  },
  {
   "cell_type": "code",
   "execution_count": 22,
   "metadata": {
    "ExecuteTime": {
     "end_time": "2018-09-23T05:45:59.732255Z",
     "start_time": "2018-09-23T05:43:00.196Z"
    },
    "autoscroll": false,
    "hide_input": false
   },
   "outputs": [
    {
     "data": {
      "image/png": "[encoded data removed]",
      "text/plain": [
       "plot without title"
      ]
     },
     "metadata": {},
     "output_type": "display_data"
    }
   ],
   "source": [
    "plot(prune.arrest)\n",
    "text(prune.arrest)"
   ]
  },
  {
   "cell_type": "markdown",
   "metadata": {},
   "source": [
    "This tree is extremely small, and only considers two variables - whether a person was searched and whether the reason for the search was that they had a hard object.\n",
    "\n",
    "Below, I post the tables for the pruned and unpruned trees, along with their misclassification errors.\n"
   ]
  },
  {
   "cell_type": "code",
   "execution_count": 23,
   "metadata": {
    "ExecuteTime": {
     "end_time": "2018-09-23T05:46:00.611026Z",
     "start_time": "2018-09-23T05:43:00.262Z"
    },
    "Rmd_chunk_options": "include=FALSE",
    "autoscroll": false,
    "hide_input": true
   },
   "outputs": [],
   "source": [
    "tree.pred <- predict(tree.arrest, newdata = mydata.test, type = \"class\")\n",
    "table5 <- table(tree.pred, arrest.test)\n",
    "\n",
    "misclassificationunprune <- 1 - sum(diag(table5))/nrow(mydata.test)\n",
    "\n",
    "pruned.pred <- predict(prune.arrest, newdata = mydata.test, type = \"class\")\n",
    "table6 <- table(pruned.pred, arrest.test)\n",
    "misclassificationprune <- 1 - sum(diag(table6))/nrow(mydata.test)"
   ]
  },
  {
   "cell_type": "code",
   "execution_count": 24,
   "metadata": {
    "ExecuteTime": {
     "end_time": "2018-09-23T05:46:00.698452Z",
     "start_time": "2018-09-23T05:43:00.266Z"
    },
    "autoscroll": false,
    "hide_input": false
   },
   "outputs": [
    {
     "data": {
      "text/plain": [
       "         arrest.test\n",
       "tree.pred    N    Y\n",
       "        N 4426  447\n",
       "        Y  213  540"
      ]
     },
     "metadata": {},
     "output_type": "display_data"
    },
    {
     "data": {
      "text/html": [
       "0.117"
      ],
      "text/latex": [
       "0.117"
      ],
      "text/markdown": [
       "0.117"
      ],
      "text/plain": [
       "[1] 0.117"
      ]
     },
     "metadata": {},
     "output_type": "display_data"
    },
    {
     "data": {
      "text/plain": [
       "           arrest.test\n",
       "pruned.pred    N    Y\n",
       "          N 4466  486\n",
       "          Y  173  501"
      ]
     },
     "metadata": {},
     "output_type": "display_data"
    },
    {
     "data": {
      "text/html": [
       "0.117"
      ],
      "text/latex": [
       "0.117"
      ],
      "text/markdown": [
       "0.117"
      ],
      "text/plain": [
       "[1] 0.117"
      ]
     },
     "metadata": {},
     "output_type": "display_data"
    }
   ],
   "source": [
    "table5\n",
    "round(misclassificationunprune, 3)\n",
    "table6\n",
    "round(misclassificationprune, 3)"
   ]
  },
  {
   "cell_type": "markdown",
   "metadata": {},
   "source": [
    "The misclassification errors are quite high for the single trees, which is expected since one tree will rarely be sufficient in predicting the outcome. They perform roughly the same on the data, which indicates that the pruning was effective - we were able to reduce the nodes without significantly effecting the accuracy of the models. It is notable that the pruned tree reduced Type I error, which is more desirable in this case. Still, both trees performed better on the overall error than the KNN approach.\n",
    "\n",
    "Next, I will use the bagging method. The bagging method, or bootstrap aggregation, uses bootstrap samples repeatedly to create many trees, and then averages these trees to make predictions. In the case of a classification problem such as this one, bagging will predict by the majority vote.\n",
    "\n",
    "Performing bagging with 300 trees reports the following confusion matrix and misclassification error:\n",
    "\n"
   ]
  },
  {
   "cell_type": "code",
   "execution_count": 25,
   "metadata": {
    "ExecuteTime": {
     "end_time": "2018-09-23T05:50:52.216788Z",
     "start_time": "2018-09-23T05:43:00.326Z"
    },
    "Rmd_chunk_options": "include=FALSE",
    "autoscroll": false,
    "hide_input": true
   },
   "outputs": [],
   "source": [
    "bag.arrest <- randomForest(arstmade ~ ., data = mydata[train, ], mtry = (ncol(mydata) - \n",
    "    1), importance = TRUE, ntree = 300)\n",
    "bag.pred <- predict(bag.arrest, newdata = mydata.test, type = \"class\")\n",
    "table7 <- table(bag.pred, arrest.test)\n",
    "\n",
    "misclassificationbagging <- 1 - sum(diag(table7))/nrow(mydata.test)"
   ]
  },
  {
   "cell_type": "code",
   "execution_count": 26,
   "metadata": {
    "ExecuteTime": {
     "end_time": "2018-09-23T05:50:52.336639Z",
     "start_time": "2018-09-23T05:43:00.330Z"
    },
    "autoscroll": false,
    "hide_input": false
   },
   "outputs": [
    {
     "data": {
      "text/plain": [
       "        arrest.test\n",
       "bag.pred    N    Y\n",
       "       N 4505  285\n",
       "       Y  134  702"
      ]
     },
     "metadata": {},
     "output_type": "display_data"
    },
    {
     "data": {
      "text/html": [
       "0.074"
      ],
      "text/latex": [
       "0.074"
      ],
      "text/markdown": [
       "0.074"
      ],
      "text/plain": [
       "[1] 0.074"
      ]
     },
     "metadata": {},
     "output_type": "display_data"
    }
   ],
   "source": [
    "table7\n",
    "round(misclassificationbagging, 3)"
   ]
  },
  {
   "cell_type": "markdown",
   "metadata": {},
   "source": [
    "This is a large improvement over any of the previous methods we have used. In order to make the results more easily interpretable and prevent overfitting, I will reduce the number of trees used. Looking at the plot below can help us determine the correct number of trees to use :\n",
    "\n"
   ]
  },
  {
   "cell_type": "code",
   "execution_count": 27,
   "metadata": {
    "ExecuteTime": {
     "end_time": "2018-09-23T05:50:52.498699Z",
     "start_time": "2018-09-23T05:43:00.434Z"
    },
    "autoscroll": false,
    "hide_input": false
   },
   "outputs": [
    {
     "data": {
      "image/png": "[encoded data removed]",
      "text/plain": [
       "Plot with title \"Trees vs Errors\""
      ]
     },
     "metadata": {},
     "output_type": "display_data"
    }
   ],
   "source": [
    "plot(bag.arrest, main = \"Trees vs Errors\")"
   ]
  },
  {
   "cell_type": "markdown",
   "metadata": {},
   "source": [
    "This plot determines the errors produced by each amount of trees. Using this, we can see visually where the line appears to stabilize and use this information to minimize the loss in accuracy from removing the trees. The green line shows the errors for the affirmative case (which is more likely), the red line for the negative case, and the black line for the overall error (the same as the misclassification error above).\n",
    "\n",
    "The plot appears to level off at around n=25. When I recreated the model using only 25 trees, I found the misclassification error to be 0.076. The error and confusion matrix will be included in the appendix. Although this is slightly higher than the model using 300 trees, it it a very small reduction in accuracy for a rather large increase in the interpretability and utility of the model.\n",
    "Now that we have determined a good amount of trees, we can look at an importance plot to see which variables create the most variations in the errors. Since this is a categorical variable, it will be most useful to use the right graph, which uses the Gini index.\n",
    "\n"
   ]
  },
  {
   "cell_type": "code",
   "execution_count": 28,
   "metadata": {
    "ExecuteTime": {
     "end_time": "2018-09-23T05:51:16.478563Z",
     "start_time": "2018-09-23T05:43:00.497Z"
    },
    "Rmd_chunk_options": "include=FALSE",
    "autoscroll": false,
    "hide_input": false
   },
   "outputs": [
    {
     "data": {
      "image/png": "[encoded data removed]",
      "text/plain": [
       "plot without title"
      ]
     },
     "metadata": {},
     "output_type": "display_data"
    }
   ],
   "source": [
    "bag.arrest2 <- randomForest(arstmade ~ ., data = mydata[train, ], mtry = (ncol(mydata) - \n",
    "    1), importance = TRUE, ntree = 25)\n",
    "bag.pred2 <- predict(bag.arrest2, newdata = mydata.test, type = \"class\")\n",
    "table8 <- table(bag.pred2, arrest.test)\n",
    "\n",
    "misclassificationbagging2 <- 1 - sum(diag(table8))/nrow(mydata.test)\n",
    "varImpPlot(bag.arrest2)"
   ]
  },
  {
   "cell_type": "markdown",
   "metadata": {},
   "source": [
    "The variable with the most importance is sb_other, which is reason for search:other. This is a troubling thing, as described in the data section, because this is not a very informative variable. We can see that race now does have some importance in determining the arrests, as well as some other variables that were ommited from the logistic regression model. Interestingly, age, weight and height are included\n",
    "quite highly as well. Once again, whether the person was searched, had contraband, or was handcuffed is determined as important, which is consistent with our findings from the logistic regression.\n",
    "\n",
    "By using a sample of the variables in each tree and performing the bagging method on a different subset for each iteration, we can implement a Random Forest method. This method is useful since it allows some variation in the trees, since they will not only be dominated by the most important variables. Using two numbers for the number of variables used, I produced two random forest models. Below are their confusion matrices and misclassification errors.\n"
   ]
  },
  {
   "cell_type": "code",
   "execution_count": 29,
   "metadata": {
    "ExecuteTime": {
     "end_time": "2018-09-23T05:51:16.570922Z",
     "start_time": "2018-09-23T05:43:00.566Z"
    },
    "autoscroll": false,
    "hide_input": false
   },
   "outputs": [
    {
     "data": {
      "text/plain": [
       "        arrest.test\n",
       "bag.pred    N    Y\n",
       "       N 4505  285\n",
       "       Y  134  702"
      ]
     },
     "metadata": {},
     "output_type": "display_data"
    },
    {
     "data": {
      "text/html": [
       "0.0744756487735514"
      ],
      "text/latex": [
       "0.0744756487735514"
      ],
      "text/markdown": [
       "0.0744756487735514"
      ],
      "text/plain": [
       "[1] 0.07447565"
      ]
     },
     "metadata": {},
     "output_type": "display_data"
    },
    {
     "data": {
      "text/plain": [
       "         arrest.test\n",
       "bag.pred2    N    Y\n",
       "        N 4490  277\n",
       "        Y  149  710"
      ]
     },
     "metadata": {},
     "output_type": "display_data"
    },
    {
     "data": {
      "text/html": [
       "0.0757198720227515"
      ],
      "text/latex": [
       "0.0757198720227515"
      ],
      "text/markdown": [
       "0.0757198720227515"
      ],
      "text/plain": [
       "[1] 0.07571987"
      ]
     },
     "metadata": {},
     "output_type": "display_data"
    }
   ],
   "source": [
    "table7\n",
    "misclassificationbagging\n",
    "table8\n",
    "misclassificationbagging2"
   ]
  },
  {
   "cell_type": "markdown",
   "metadata": {},
   "source": [
    "\n",
    "The misclassification errors for the two are nearly identical. They perform very similarly to the bagging method. I would prefer the second model, as it predicts better in the case that the prediction and observed value are both yes than they are both no.\n",
    "\n",
    "By using a similar method to the bagging method earlier, we determine a good reduction in the amount of trees is to 40. Using 40 trees, we get the following confusion matrix and misclassification error.\n",
    "\n"
   ]
  },
  {
   "cell_type": "code",
   "execution_count": 30,
   "metadata": {
    "ExecuteTime": {
     "end_time": "2018-09-23T05:58:25.252527Z",
     "start_time": "2018-09-23T05:43:00.635Z"
    },
    "Rmd_chunk_options": "include=FALSE",
    "autoscroll": false,
    "hide_input": false
   },
   "outputs": [
    {
     "data": {
      "image/png": "[encoded data removed]",
      "text/plain": [
       "plot without title"
      ]
     },
     "metadata": {},
     "output_type": "display_data"
    },
    {
     "data": {
      "image/png": "[encoded data removed]",
      "text/plain": [
       "plot without title"
      ]
     },
     "metadata": {},
     "output_type": "display_data"
    },
    {
     "data": {
      "image/png": "[encoded data removed]",
      "text/plain": [
       "Plot with title \"RF2.arrest\""
      ]
     },
     "metadata": {},
     "output_type": "display_data"
    }
   ],
   "source": [
    "RF.arrest <- randomForest(arstmade ~ ., data = mydata[train, ], mtry = 9, importance = TRUE, \n",
    "    ntree = 300)\n",
    "RF.pred <- predict(RF.arrest, newdata = mydata.test, type = \"class\")\n",
    "table9 <- table(RF.pred, arrest.test)\n",
    "misclassRF <- 1 - sum(diag(table9))/nrow(mydata.test)\n",
    "varImpPlot(RF.arrest, main = \"Imporance of Variables\")\n",
    "\n",
    "\n",
    "RF2.arrest <- randomForest(arstmade ~ ., data = mydata[train, ], mtry = (ncol(mydata) - \n",
    "    1)/2, importance = TRUE, ntree = 300)\n",
    "RF2.pred <- predict(RF2.arrest, newdata = mydata.test, type = \"class\")\n",
    "table10 <- table(RF2.pred, arrest.test)\n",
    "misclassRF2 <- 1 - sum(diag(table10))/nrow(mydata.test)\n",
    "varImpPlot(RF2.arrest)\n",
    "\n",
    "plot(RF2.arrest)\n",
    "\n",
    "RF3.arrest <- randomForest(arstmade ~ ., data = mydata[train, ], mtry = (ncol(mydata) - \n",
    "    1)/2, importance = TRUE, ntree = 40)\n",
    "RF3.pred <- predict(RF3.arrest, newdata = mydata.test, type = \"class\")\n",
    "table11 <- table(RF3.pred, arrest.test)\n",
    "misclassRF3 <- 1 - sum(diag(table11))/nrow(mydata.test)"
   ]
  },
  {
   "cell_type": "code",
   "execution_count": 31,
   "metadata": {
    "ExecuteTime": {
     "end_time": "2018-09-23T05:58:25.316638Z",
     "start_time": "2018-09-23T05:43:00.638Z"
    },
    "autoscroll": false,
    "hide_input": false
   },
   "outputs": [
    {
     "data": {
      "text/plain": [
       "        arrest.test\n",
       "RF3.pred    N    Y\n",
       "       N 4515  293\n",
       "       Y  124  694"
      ]
     },
     "metadata": {},
     "output_type": "display_data"
    },
    {
     "data": {
      "text/html": [
       "0.0741201564166371"
      ],
      "text/latex": [
       "0.0741201564166371"
      ],
      "text/markdown": [
       "0.0741201564166371"
      ],
      "text/plain": [
       "[1] 0.07412016"
      ]
     },
     "metadata": {},
     "output_type": "display_data"
    }
   ],
   "source": [
    "table11\n",
    "misclassRF3"
   ]
  },
  {
   "cell_type": "markdown",
   "metadata": {},
   "source": [
    "In this case, the error actually was reduced. This can be accounted for by the fact that it simplified the model, which resulted in the random forest model with 40 trees actually predicting better than the more complex model. This suggests that the increase in bias by using a simpler model with 40 trees was less than the decrease in variance of the model on the testing data. This model performs the best of all the models I have used, and is the most successful at predicting whether a person is arrested or not when they are stopped and frisked, with about a 7.2% misclassification rate.\n",
    "\n",
    "# Conclusions\n",
    "Below is a table summarizing all of the models that I've used, and their misclassifcation errors on the test data.\n",
    "\n"
   ]
  },
  {
   "cell_type": "code",
   "execution_count": 32,
   "metadata": {
    "ExecuteTime": {
     "end_time": "2018-09-23T05:58:25.859119Z",
     "start_time": "2018-09-23T05:43:00.703Z"
    },
    "Rmd_chunk_options": "include=FALSE",
    "autoscroll": false,
    "hide_input": false
   },
   "outputs": [
    {
     "data": {
      "text/html": [
       "<table>\n",
       "<thead><tr><th scope=col>Method</th><th scope=col>TestError</th></tr></thead>\n",
       "<tbody>\n",
       "\t<tr><td>Full Logistic Model     </td><td>0.095                   </td></tr>\n",
       "\t<tr><td>Reduced Logistic Model  </td><td>0.093                   </td></tr>\n",
       "\t<tr><td>10-NN Full Model        </td><td>0.162                   </td></tr>\n",
       "\t<tr><td>5-NN Reduced Model      </td><td>0.120                   </td></tr>\n",
       "\t<tr><td>Pruned Tree             </td><td>0.117                   </td></tr>\n",
       "\t<tr><td>Unpruned Tree           </td><td>0.117                   </td></tr>\n",
       "\t<tr><td>Bagging (n=300)         </td><td>0.074                   </td></tr>\n",
       "\t<tr><td>Bagging (n=25)          </td><td>0.076                   </td></tr>\n",
       "\t<tr><td>Random Forest I (n=300) </td><td>0.074                   </td></tr>\n",
       "\t<tr><td>Random Forest II (n=300)</td><td>0.073                   </td></tr>\n",
       "\t<tr><td>Random Forest III (n=40)</td><td>0.074                   </td></tr>\n",
       "</tbody>\n",
       "</table>\n"
      ],
      "text/latex": [
       "\\begin{tabular}{r|ll}\n",
       " Method & TestError\\\\\n",
       "\\hline\n",
       "\t Full Logistic Model      & 0.095                   \\\\\n",
       "\t Reduced Logistic Model   & 0.093                   \\\\\n",
       "\t 10-NN Full Model         & 0.162                   \\\\\n",
       "\t 5-NN Reduced Model       & 0.120                   \\\\\n",
       "\t Pruned Tree              & 0.117                   \\\\\n",
       "\t Unpruned Tree            & 0.117                   \\\\\n",
       "\t Bagging (n=300)          & 0.074                   \\\\\n",
       "\t Bagging (n=25)           & 0.076                   \\\\\n",
       "\t Random Forest I (n=300)  & 0.074                   \\\\\n",
       "\t Random Forest II (n=300) & 0.073                   \\\\\n",
       "\t Random Forest III (n=40) & 0.074                   \\\\\n",
       "\\end{tabular}\n"
      ],
      "text/markdown": [
       "\n",
       "Method | TestError | \n",
       "|---|---|---|---|---|---|---|---|---|---|---|\n",
       "| Full Logistic Model      | 0.095                    | \n",
       "| Reduced Logistic Model   | 0.093                    | \n",
       "| 10-NN Full Model         | 0.162                    | \n",
       "| 5-NN Reduced Model       | 0.120                    | \n",
       "| Pruned Tree              | 0.117                    | \n",
       "| Unpruned Tree            | 0.117                    | \n",
       "| Bagging (n=300)          | 0.074                    | \n",
       "| Bagging (n=25)           | 0.076                    | \n",
       "| Random Forest I (n=300)  | 0.074                    | \n",
       "| Random Forest II (n=300) | 0.073                    | \n",
       "| Random Forest III (n=40) | 0.074                    | \n",
       "\n",
       "\n"
      ],
      "text/plain": [
       "   Method                   TestError\n",
       "1  Full Logistic Model      0.095    \n",
       "2  Reduced Logistic Model   0.093    \n",
       "3  10-NN Full Model         0.162    \n",
       "4  5-NN Reduced Model       0.120    \n",
       "5  Pruned Tree              0.117    \n",
       "6  Unpruned Tree            0.117    \n",
       "7  Bagging (n=300)          0.074    \n",
       "8  Bagging (n=25)           0.076    \n",
       "9  Random Forest I (n=300)  0.074    \n",
       "10 Random Forest II (n=300) 0.073    \n",
       "11 Random Forest III (n=40) 0.074    "
      ]
     },
     "metadata": {},
     "output_type": "display_data"
    }
   ],
   "source": [
    "Method <- c(\"Full Logistic Model\", \"Reduced Logistic Model\", \"10-NN Full Model\", \n",
    "    \"5-NN Reduced Model\", \"Pruned Tree\", \"Unpruned Tree\", \"Bagging (n=300)\", \"Bagging (n=25)\", \n",
    "    \"Random Forest I (n=300)\", \"Random Forest II (n=300)\", \"Random Forest III (n=40)\")\n",
    "\n",
    "TestError <- c(misclasserrorsfull, misclasserrorstepwise, KNNMisclass, KNNMisclass2, \n",
    "    misclassificationprune, misclassificationunprune, misclassificationbagging, misclassificationbagging2, \n",
    "    misclassRF, misclassRF2, misclassRF3)\n",
    "\n",
    "\n",
    "TestError <- round(TestError, 3)\n",
    "\n",
    "data.frame(Method, TestError)\n",
    "\n",
    "\n",
    "# error: Yes when No\n",
    "Er1 <- table1[2, 1]/sum(table1[2, ])\n",
    "Er2 <- table2[2, 1]/sum(table2[2, ])\n",
    "Er3 <- table3[2, 1]/sum(table3[2, ])\n",
    "Er4 <- table4[2, 1]/sum(table4[2, ])\n",
    "Er5 <- table5[2, 1]/sum(table5[2, ])\n",
    "Er6 <- table6[2, 1]/sum(table6[2, ])\n",
    "Er7 <- table7[2, 1]/sum(table7[2, ])\n",
    "Er8 <- table8[2, 1]/sum(table8[2, ])\n",
    "Er9 <- table9[2, 1]/sum(table9[2, ])\n",
    "Er10 <- table10[2, 1]/sum(table10[2, ])\n",
    "Er11 <- table11[2, 1]/sum(table11[2, ])\n",
    "\n",
    "# error: No when Yes\n",
    "Er21 <- table1[1, 2]/sum(table1[1, ])\n",
    "Er22 <- table2[1, 2]/sum(table2[1, ])\n",
    "Er23 <- table3[1, 2]/sum(table3[1, ])\n",
    "Er24 <- table4[1, 2]/sum(table4[1, ])\n",
    "Er25 <- table5[1, 2]/sum(table5[1, ])\n",
    "Er26 <- table6[1, 2]/sum(table6[1, ])\n",
    "Er27 <- table7[1, 2]/sum(table7[1, ])\n",
    "Er28 <- table8[1, 2]/sum(table8[1, ])\n",
    "Er29 <- table9[1, 2]/sum(table9[1, ])\n",
    "Er210 <- table10[1, 2]/sum(table10[1, ])\n",
    "Er211 <- table11[1, 2]/sum(table11[1, ])\n",
    "\n",
    "FalsePositive <- round(c(Er1, Er2, Er3, Er4, Er5, Er6, Er7, Er8, Er9, Er10, Er11), \n",
    "    3)\n",
    "FalseNegative <- round(c(Er21, Er22, Er23, Er24, Er25, Er26, Er27, Er28, Er29, Er210, \n",
    "    Er211), 3)"
   ]
  },
  {
   "cell_type": "code",
   "execution_count": 33,
   "metadata": {
    "ExecuteTime": {
     "end_time": "2018-09-23T05:58:25.942898Z",
     "start_time": "2018-09-23T05:43:00.707Z"
    },
    "autoscroll": false,
    "hide_input": false
   },
   "outputs": [
    {
     "data": {
      "text/html": [
       "<table>\n",
       "<thead><tr><th scope=col>Method</th><th scope=col>TestError</th><th scope=col>FalsePositive</th><th scope=col>FalseNegative</th></tr></thead>\n",
       "<tbody>\n",
       "\t<tr><td>Full Logistic Model     </td><td>0.095                   </td><td>0.176                   </td><td>0.081                   </td></tr>\n",
       "\t<tr><td>Reduced Logistic Model  </td><td>0.093                   </td><td>0.183                   </td><td>0.082                   </td></tr>\n",
       "\t<tr><td>10-NN Full Model        </td><td>0.162                   </td><td>0.402                   </td><td>0.143                   </td></tr>\n",
       "\t<tr><td>5-NN Reduced Model      </td><td>0.120                   </td><td>0.185                   </td><td>0.113                   </td></tr>\n",
       "\t<tr><td>Pruned Tree             </td><td>0.117                   </td><td>0.283                   </td><td>0.092                   </td></tr>\n",
       "\t<tr><td>Unpruned Tree           </td><td>0.117                   </td><td>0.257                   </td><td>0.098                   </td></tr>\n",
       "\t<tr><td>Bagging (n=300)         </td><td>0.074                   </td><td>0.160                   </td><td>0.059                   </td></tr>\n",
       "\t<tr><td>Bagging (n=25)          </td><td>0.076                   </td><td>0.173                   </td><td>0.058                   </td></tr>\n",
       "\t<tr><td>Random Forest I (n=300) </td><td>0.074                   </td><td>0.137                   </td><td>0.064                   </td></tr>\n",
       "\t<tr><td>Random Forest II (n=300)</td><td>0.073                   </td><td>0.146                   </td><td>0.060                   </td></tr>\n",
       "\t<tr><td>Random Forest III (n=40)</td><td>0.074                   </td><td>0.152                   </td><td>0.061                   </td></tr>\n",
       "</tbody>\n",
       "</table>\n"
      ],
      "text/latex": [
       "\\begin{tabular}{r|llll}\n",
       " Method & TestError & FalsePositive & FalseNegative\\\\\n",
       "\\hline\n",
       "\t Full Logistic Model      & 0.095                    & 0.176                    & 0.081                   \\\\\n",
       "\t Reduced Logistic Model   & 0.093                    & 0.183                    & 0.082                   \\\\\n",
       "\t 10-NN Full Model         & 0.162                    & 0.402                    & 0.143                   \\\\\n",
       "\t 5-NN Reduced Model       & 0.120                    & 0.185                    & 0.113                   \\\\\n",
       "\t Pruned Tree              & 0.117                    & 0.283                    & 0.092                   \\\\\n",
       "\t Unpruned Tree            & 0.117                    & 0.257                    & 0.098                   \\\\\n",
       "\t Bagging (n=300)          & 0.074                    & 0.160                    & 0.059                   \\\\\n",
       "\t Bagging (n=25)           & 0.076                    & 0.173                    & 0.058                   \\\\\n",
       "\t Random Forest I (n=300)  & 0.074                    & 0.137                    & 0.064                   \\\\\n",
       "\t Random Forest II (n=300) & 0.073                    & 0.146                    & 0.060                   \\\\\n",
       "\t Random Forest III (n=40) & 0.074                    & 0.152                    & 0.061                   \\\\\n",
       "\\end{tabular}\n"
      ],
      "text/markdown": [
       "\n",
       "Method | TestError | FalsePositive | FalseNegative | \n",
       "|---|---|---|---|---|---|---|---|---|---|---|\n",
       "| Full Logistic Model      | 0.095                    | 0.176                    | 0.081                    | \n",
       "| Reduced Logistic Model   | 0.093                    | 0.183                    | 0.082                    | \n",
       "| 10-NN Full Model         | 0.162                    | 0.402                    | 0.143                    | \n",
       "| 5-NN Reduced Model       | 0.120                    | 0.185                    | 0.113                    | \n",
       "| Pruned Tree              | 0.117                    | 0.283                    | 0.092                    | \n",
       "| Unpruned Tree            | 0.117                    | 0.257                    | 0.098                    | \n",
       "| Bagging (n=300)          | 0.074                    | 0.160                    | 0.059                    | \n",
       "| Bagging (n=25)           | 0.076                    | 0.173                    | 0.058                    | \n",
       "| Random Forest I (n=300)  | 0.074                    | 0.137                    | 0.064                    | \n",
       "| Random Forest II (n=300) | 0.073                    | 0.146                    | 0.060                    | \n",
       "| Random Forest III (n=40) | 0.074                    | 0.152                    | 0.061                    | \n",
       "\n",
       "\n"
      ],
      "text/plain": [
       "   Method                   TestError FalsePositive FalseNegative\n",
       "1  Full Logistic Model      0.095     0.176         0.081        \n",
       "2  Reduced Logistic Model   0.093     0.183         0.082        \n",
       "3  10-NN Full Model         0.162     0.402         0.143        \n",
       "4  5-NN Reduced Model       0.120     0.185         0.113        \n",
       "5  Pruned Tree              0.117     0.283         0.092        \n",
       "6  Unpruned Tree            0.117     0.257         0.098        \n",
       "7  Bagging (n=300)          0.074     0.160         0.059        \n",
       "8  Bagging (n=25)           0.076     0.173         0.058        \n",
       "9  Random Forest I (n=300)  0.074     0.137         0.064        \n",
       "10 Random Forest II (n=300) 0.073     0.146         0.060        \n",
       "11 Random Forest III (n=40) 0.074     0.152         0.061        "
      ]
     },
     "metadata": {},
     "output_type": "display_data"
    }
   ],
   "source": [
    "data.frame(Method, TestError, FalsePositive, FalseNegative)"
   ]
  },
  {
   "cell_type": "markdown",
   "metadata": {},
   "source": [
    "I have also included the false positive and false negative results, as these can help to determine which models fit the best.\n",
    "\n",
    "The Random Forest model which used 40 trees and 39 variables performed the best out of all the methods used. It is clear that the bagging and random forest methods were superior to the logistic and KNN methods. Of the simpler methods, the reduced Logistic Model using stepwise reduction with the AIC performed the best.\n",
    "\n",
    "Despite my original inclinations, we can see from the importance plots on the bagging model and the summaries of the logistic model that race was not a very significant factor in determining whether a person would be arrested or not. However, as we saw before from the bar graphs, there was a significantly larger portion of blacks who were stopped and frisked than the general population. This suggests that a black person is more likely to be stopped, but not significantly more or less likely than other races to be arrested after they are stopped. Which raises the question: why stop more black people if they are no more likely to be arrested after the frisk than other races?\n",
    "\n",
    "Another variable of interest was sb_other. This variable indicates that there was an \"other reason for stopping the subject.\" As such, this variable is difficult to interpret. However, the variable was quite significant with a high coefficient in the logistic model, and was rated as the most important variable by a large margin in the bagging models. This is a point of difficulty in the interpretations. This may indicate that there needs to be more disclosure about the reason a person was searched, since the sb variables in their current state fail to capture much of the reasons for arrest.\n",
    "In both the logisitic and bagging methods, the variables for contraband and knife/cutting object came up as significant, and had a significant effect on whether the person was arrested or not. This is logical: if the officer found a weapon on contraband on the person, they were much more likely to be arrested. This was far more significant than other factors about the person, in particular the cs variables, which list the reasons why the person was stopped, or the age, weight, gender and race variables, which are the physical attributes of the person. This suggests that the physical attributes of a person are not nearly as important as criminal possession in predicting an arrest, which is in support of the stop and frisk's usage.\n",
    "\n",
    "For instance, being stopped due to the clothing you wear (cs_cloth) or being perceived as a lookout (cs_lkout) were not nearly as significant as carrying a suspicious object (cs_object) or if they were searched (searched), and actually had negative coefficients.  So it appears that, most of the time, the probability of being arrested was largely reliant on whether the person was searched or not, or found to have an object. This matches up with the significance and postive coefficient of cs_drgtr, which was the variable representing the cause of search being for a suspected drug transaction. One would conclude that if a person was being suspected for a drug transaction, they would also be more likely to have contraband or perhaps a weapon than if they were not.\n",
    "\n",
    "Interestingly, the frisked variable was not found to be significant in the logistic regression model, suggesting that frisking, as compared to searching, was not very significant in arrest, and therefore not too effective a measure to stop criminal activity. In both models, searching had a stronger effect than frisking in determining whether a person was arrested or not.\n",
    "\n",
    "The success of the random forest/bagging methods as compared to the simpler methods suggests that the relationship between whether a person is arrested or not and the various variables in the dataset is quite complex, and that it cannot be estimated as well using the simpler techniques.\n",
    "\n"
   ]
  }
 ],
 "metadata": {
  "Rmd_header": {
   "author": "Sean Ammirati",
   "date": "September 22, 2018",
   "output": "markdowntemplates::to_jupyter",
   "title": "NYPD Stop and Frisk"
  },
  "kernelspec": {
   "display_name": "R",
   "language": "R",
   "name": "ir"
  },
  "language_info": {
   "codemirror_mode": "r",
   "file_extension": ".r",
   "mimetype": "text/x-r-source",
   "name": "R",
   "pygments_lexer": "r",
   "version": "3.4.3"
  },
  "latex_envs": {
   "LaTeX_envs_menu_present": true,
   "autoclose": false,
   "autocomplete": true,
   "bibliofile": "biblio.bib",
   "cite_by": "apalike",
   "current_citInitial": 1,
   "eqLabelWithNumbers": true,
   "eqNumInitial": 1,
   "hotkeys": {
    "equation": "Ctrl-E",
    "itemize": "Ctrl-I"
   },
   "labels_anchors": false,
   "latex_user_defs": false,
   "report_style_numbering": false,
   "user_envs_cfg": false
  },
  "notify_time": "5",
  "toc": {
   "base_numbering": 1,
   "nav_menu": {},
   "number_sections": true,
   "sideBar": true,
   "skip_h1_title": false,
   "title_cell": "Table of Contents",
   "title_sidebar": "Contents",
   "toc_cell": false,
   "toc_position": {},
   "toc_section_display": true,
   "toc_window_display": false
  },
  "varInspector": {
   "cols": {
    "lenName": 16,
    "lenType": 16,
    "lenVar": 40
   },
   "kernels_config": {
    "python": {
     "delete_cmd_postfix": "",
     "delete_cmd_prefix": "del ",
     "library": "var_list.py",
     "varRefreshCmd": "print(var_dic_list())"
    },
    "r": {
     "delete_cmd_postfix": ") ",
     "delete_cmd_prefix": "rm(",
     "library": "var_list.r",
     "varRefreshCmd": "cat(var_dic_list()) "
    }
   },
   "position": {
    "height": "719px",
    "left": "1791px",
    "right": "20px",
    "top": "121px",
    "width": "350px"
   },
   "types_to_exclude": [
    "module",
    "function",
    "builtin_function_or_method",
    "instance",
    "_Feature"
   ],
   "window_display": true
  }
 },
 "nbformat": 4,
 "nbformat_minor": 1
}
