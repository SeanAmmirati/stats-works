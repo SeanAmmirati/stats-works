{
 "cells": [
  {
   "cell_type": "code",
   "execution_count": 3,
   "metadata": {
    "Rmd_chunk_options": "include=FALSE",
    "autoscroll": false
   },
   "outputs": [
    {
     "ename": "ERROR",
     "evalue": "Error in library(forecast): there is no package called 'forecast'\n",
     "output_type": "error",
     "traceback": [
      "Error in library(forecast): there is no package called 'forecast'\nTraceback:\n",
      "1. library(forecast)",
      "2. stop(txt, domain = NA)"
     ]
    }
   ],
   "source": [
    "source('./tsa_functions.R')\n",
    "\n",
    "packages_not_in_conda <- c('rdatamarket','prophet','TSA','lubridate')\n",
    "\n",
    "for (package in packages_not_in_conda) {\n",
    "  if (!require(package, character.only = TRUE)) {\n",
    "    install.packages(package)\n",
    "    require(package)\n",
    "  }\n",
    "}\n",
    "\n",
    "library(rdatamarket)\n",
    "library(forecast)\n",
    "library(prophet)\n",
    "library(tidyr)\n",
    "library(TSA)\n",
    "library(lubridate)"
   ]
  },
  {
   "cell_type": "markdown",
   "metadata": {},
   "source": [
    "The dataset I have chosen is a monthly recording of water levels in Lake Erie from the period between 1921 and 1970. The dataset is available at the following link: https://datamarket.com/data/set/22pw/monthly-lake-erie-levels-1921-1970#!ds=22pw&display=line&numberformat=n1.  Below is a plot of the time series over time:\n",
    "\n",
    "# Importing the data\n"
   ]
  },
  {
   "cell_type": "code",
   "execution_count": null,
   "metadata": {
    "Rmd_chunk_options": "include=FALSE",
    "autoscroll": false
   },
   "outputs": [],
   "source": [
    "lkerie<-dmseries(\"https://datamarket.com/data/set/22pw/monthly-lake-erie-levels-1921-1970#!ds=22pw&display=line\")\n",
    "lkerie <- as.ts(lkerie,frequency=12)"
   ]
  },
  {
   "cell_type": "code",
   "execution_count": null,
   "metadata": {
    "autoscroll": false
   },
   "outputs": [],
   "source": [
    "plot(lkerie)"
   ]
  },
  {
   "cell_type": "markdown",
   "metadata": {},
   "source": [
    "We can see that the water levels seem to jump somewhat cyclically over time. This is typical of physical processes, and thus it is an interesting dataset to analyze. We see that over time the water levels decreased initially, and then began to increase again somewhat steadily from the 1940s onwards. While there is clearly a seasonal component at work here, it is not so clear how this seasonal component operates initially from the plot above.\n",
    "\n",
    "I first begin by fitting a seasonal means with linear trend model to summarize and get an idea of the seasonal component of the data. I then built four models – the Holt Winters model, an SARIMA model, a model decomposing the seasonal component with spectral analysis, and a model from the prophet package. I then compare the models using the sum squared errors and plotting them against the true data values.\n",
    "\n",
    "I have separated the time series into two sets, as shown below. These are the training and test sets I will be using to evaluate how effective each of the models I fit are at estimating the true time series. The following code initializes the dataset as a time series, and creates a training and test dataset to perform analysis on. The test set is the last 12 observations, or one year, of the time series.\n",
    "\n",
    "\n"
   ]
  },
  {
   "cell_type": "code",
   "execution_count": null,
   "metadata": {
    "autoscroll": false
   },
   "outputs": [],
   "source": [
    "length(lkerie)\n",
    "\n",
    "lkerietrain<-ts(lkerie[1:(length(lkerie)-12)], frequency=12)\n",
    "lkerietest<-lkerie[(length(lkerie)-11):length(lkerie)]\n",
    "tail(lkerietrain)\n"
   ]
  },
  {
   "cell_type": "markdown",
   "metadata": {},
   "source": [
    "After this initialization, the dataset is in good condition and doesn’t need to be cleaned any further. The first 6 values of the time series are shown below:\n",
    "\n",
    "# Seasonal Means Model\n",
    "The first model I fit was a seasonal means model, to get a sense of the seasonality of the dataset. Although this is a simplistic model that will not be used to model the data itself, it provides good insight into the seasonal nature of the time series. Below is a plot of the time series with the months added to the plot:\n",
    "\n"
   ]
  },
  {
   "cell_type": "code",
   "execution_count": null,
   "metadata": {
    "autoscroll": false
   },
   "outputs": [],
   "source": [
    "season.<-season(lkerie)\n",
    "time.<-time(lkerie)"
   ]
  },
  {
   "cell_type": "markdown",
   "metadata": {},
   "source": [
    "We can see that the time series tends to peak around the summer time, and has troughs in the colder months. The seasonal means model gives us more insight into how this is occurring:\n"
   ]
  },
  {
   "cell_type": "code",
   "execution_count": null,
   "metadata": {
    "autoscroll": false
   },
   "outputs": [],
   "source": [
    "seasonmean<-lm(lkerie~season.+time.)\n",
    "\n",
    "summary(seasonmean)\n",
    "\n",
    "plot(lkerie)\n",
    "points(y=lkerie,x=time(lkerie),pch=as.vector(season(lkerie)))"
   ]
  },
  {
   "cell_type": "markdown",
   "metadata": {},
   "source": [
    "Indeed, we can see that the seasonal means model has quite a bit of significant components, suggesting that there is a good amount of seasonality in the data. However, this is not consistent, with some months having insignificant values. In general, we can see that the summer months have positive coefficients, while the colder months (which are not nearly as significant) sit somewhere close to zero. This agrees with the earlier findings from the time series plot.\n",
    "\n",
    "Next, I perform a decomposition of the time series, to see how this package can break up the time series into seasonal, trend and random components.\n",
    "\n"
   ]
  },
  {
   "cell_type": "code",
   "execution_count": null,
   "metadata": {
    "autoscroll": false
   },
   "outputs": [],
   "source": [
    "madecomp<-decompose(lkerie)\n",
    "plot(madecomp)\n",
    "madecomp$seasonal[1:12]"
   ]
  },
  {
   "cell_type": "markdown",
   "metadata": {},
   "source": [
    ")\n",
    "We can see again that there is clearly a seasonal component to the time series. We can also see the general trend of decreasing and increasing. When these components are removed, we see a relatively stationary random process. This cyclical nature of the seasonality lead me to consider spectral analysis. However, first we will look at two other models which can deal with seasonality – the Holt Winters’ Model and a seasonal ARIMA model.\n",
    "\n",
    "#Holt Winters' Model\n",
    "I use two Holt-Winters’ Models (an additive and multiplicative model) to model the data. Below, I fit the two models, and plot the resulting fits. The Holt-Winters models both consider seasonal components, although the multiplicative model and additive model come up with different quantities for the coefficients (see the appendix for the summaries). However, the smoothing parameters are relatively the same in character, with alpha=0.8973698 beta=0.003048736 and gamma: 1. This indicates that the level and seasonality are smoothing based on observations in the distant past (with gamma = 1 meaning it is considering only the previous observations), while a small beta indicates that it is using the trend of only the nearest values. I have plotted one of the models below, but the other is very similar in nature. However, as we will see later, the prediction error is quite high – (and the prediction error for the multiplicative model is, predictably, much higher).\n"
   ]
  },
  {
   "cell_type": "code",
   "execution_count": null,
   "metadata": {
    "autoscroll": false
   },
   "outputs": [],
   "source": [
    "hw1<-HoltWinters(lkerietrain)\n",
    "hw1\n",
    "plot(hw1)"
   ]
  },
  {
   "cell_type": "code",
   "execution_count": null,
   "metadata": {
    "Rmd_chunk_options": "include=FALSE",
    "autoscroll": false
   },
   "outputs": [],
   "source": [
    "\n",
    "hw2<-HoltWinters(lkerietrain,beta=NULL,seasonal=\"multiplicative\")\n",
    "hw2\n",
    "plot(hw2)\n",
    "\n",
    "hw1pred<-predict(hw1,n.ahead=12,prediction.interval=TRUE)\n",
    "hw2pred<-predict(hw2,n.ahead=12,prediction.interval=TRUE)\n",
    "\n",
    "plot(forecast(hw1,12))\n",
    "plot(forecast(hw2,12))\n",
    "\n",
    "ssehw1<-sse(hw1pred[,1], lkerietest)\n",
    "ssehw2<-sse(hw2pred[,1], lkerietest)"
   ]
  },
  {
   "cell_type": "markdown",
   "metadata": {},
   "source": [
    "\n",
    "# SARIMA Modeling\n",
    "\n",
    "Next, we will turn to using an ARIMA (or in this case, a seasonal ARIMA model) to model and predict the data. The above time series is not stationary, so we must transform it. The transformation which creates an optimal situation for ARIMA modeling is one that is roughly stationary. After looking through various transformations (including logarithmic, differencing and BoxCox transformations), I settled upon a differencing of logs. By differencing the logarithms of the model, we get a result that is very close to stationary. The resulting plot is plotted below.\n"
   ]
  },
  {
   "cell_type": "code",
   "execution_count": null,
   "metadata": {
    "Rmd_chunk_options": "include=FALSE",
    "autoscroll": false
   },
   "outputs": [],
   "source": [
    "ts.plot(lkerie)\n",
    "ts.plot(log(lkerie))\n",
    "ts.plot(diff(lkerie))\n",
    "ts.plot(diff(log(lkerie)))\n",
    "\n",
    "\n",
    "BxCx<-BoxCox.ar(lkerie)\n",
    "root<-BxCx$mle\n",
    "ts.plot(diff(lkerie^(root)))\n"
   ]
  },
  {
   "cell_type": "code",
   "execution_count": null,
   "metadata": {
    "autoscroll": false
   },
   "outputs": [],
   "source": [
    "lkerietrain.trans<-diff(log(lkerie))\n",
    "plot(lkerietrain.trans)"
   ]
  },
  {
   "cell_type": "markdown",
   "metadata": {},
   "source": [
    "Except for the one outlier just before 1940, we can see that this time series is now stationary, and we can proceed to fit ARIMA models to it.\n",
    "\n",
    "Using the ACF, PACF and EACF plots, we can see that it will be difficult to find a fitting ARMA (without a seasonal component) model that fits the data well. Since we believe there is a good degree of seasonality to this data, this is not surprising. In the plots below of the ACF and PACF, we see some sine and cosine patterns in the autocorrelations. This indicates a seasonal model may be more appropriate than an ordinary ARMA or ARIMA model.\n",
    "\n"
   ]
  },
  {
   "cell_type": "code",
   "execution_count": null,
   "metadata": {
    "Rmd_chunk_options": "include=FALSE",
    "autoscroll": false
   },
   "outputs": [],
   "source": [
    "mean(lkerie)\n",
    "mean(diff(lkerie))\n",
    "mean(diff(log(lkerie)),lag=12)\n",
    "mean(diff(lkerie^root))"
   ]
  },
  {
   "cell_type": "code",
   "execution_count": null,
   "metadata": {
    "autoscroll": false
   },
   "outputs": [],
   "source": [
    "acf(lkerietrain.trans)\n",
    "pacf(lkerietrain.trans)"
   ]
  },
  {
   "cell_type": "markdown",
   "metadata": {},
   "source": [
    "Using the arima.subsets function gives us a good idea of the seasonality and we can better infer the best models to use based on this.\n"
   ]
  },
  {
   "cell_type": "code",
   "execution_count": null,
   "metadata": {
    "autoscroll": false
   },
   "outputs": [],
   "source": [
    "a <- armasubsets(lkerietrain.trans,nar=12,nma=12)\n",
    "plot(a)"
   ]
  },
  {
   "cell_type": "markdown",
   "metadata": {},
   "source": [
    "We can see the most significant lags are those at times 1, 11, and 12 for the AR component, and lag 12 for the MA component. Using the auto.arima and get.best.arima functions, we can get the optimal model based on the AIC.\n"
   ]
  },
  {
   "cell_type": "code",
   "execution_count": null,
   "metadata": {
    "autoscroll": false
   },
   "outputs": [],
   "source": [
    "auto.arima(lkerietrain.trans)\n",
    "get.best.arima(lkerietrain.trans,maxord=c(2,2,2,2,2,2))"
   ]
  },
  {
   "cell_type": "markdown",
   "metadata": {},
   "source": [
    "The get.best.arima’s model produces the minimal AIC, and therefore is the optimal model. We can see it is very similar to the models determined by the subsets, and adds an MA component to the seasonal part of the ARIMA model. I consider both models found (that is, SARIMA[1,0,0]x[2,0,2] and SARIMA[0,0,1]x[2,0,2]). In both models, all of the terms are significant, so there is no need to remove any.\n",
    "\n",
    "Looking at the residuals of these ARIMA models, we can see that they are roughly normally distributed, with the outliers skewing it somewhat. This is encouraging. Unfortunately, the residuals (and squared residuals) do seem to still exhibit autocorrelation.  However, the ACF and PACF squared do not appear to have drastically more correlated values in the squared case. I have included the Q-Q plot and the ACF of the residuals below. For brevity,\n",
    "\n",
    "I have omitted the PACF, but it exhibits similar results.\n",
    "Regardless, this result is disappointing. This led me to use spectral analysis to interpret the seasonality, as I believed there was some underlying seasonal pattern that could not be found using these standard SARIMA processes.\n",
    "\n"
   ]
  },
  {
   "cell_type": "code",
   "execution_count": null,
   "metadata": {
    "Rmd_chunk_options": "include=FALSE",
    "autoscroll": false
   },
   "outputs": [],
   "source": [
    "eacf(lkerietrain.trans)\n",
    "\n",
    "sarima1<-arima(log(lkerietrain), order = c(0, 1, 1), seasonal = list(order = c(2, 0, 2), frequency(lkerietrain)),\n",
    "               method = \"CSS\")\n",
    "sarima2<-arima(log(lkerietrain), order = c(1, 0, 1), seasonal = list(order = c(0, 1, 1), frequency(lkerietrain)),\n",
    "               method = \"CSS\")\n",
    "\n",
    "sarima1pred<-predict(sarima1,n.ahead=12)\n",
    "sarima2pred<-predict(sarima2,n.ahead=12)\n",
    "\n",
    "predarima1<-exp(sarima1pred$pred)\n",
    "predarima2<-exp(sarima2pred$pred)\n",
    "\n",
    "searima1<-exp(sarima1pred$se)\n",
    "searima2<-exp(sarima2pred$se)\n",
    "\n",
    "ts.plot(lkerietrain,predarima1,col=\"red\",main=\"SARIMA 1\",xlab=\"Time\",ylab=\"Water Level\")\n",
    "lines(x=c(time(lkerie)),c(lkerietrain,(predarima1+1.96*searima1)),col=\"red\",lty=\"dashed\")\n",
    "lines(x=c(time(lkerie)),c(lkerietrain,(predarima1-1.96*searima1)),col=\"red\",lty=\"dashed\")\n",
    "lines(lkerietrain)\n",
    "\n",
    "ts.plot(lkerietrain,predarima2,col=\"blue\",main=\"SARIMA 2\",xlab=\"Time\",ylab=\"Water Level\")\n",
    "lines(x=c(time(lkerie)),c(lkerietrain,(predarima2+1.96*searima2)),col=\"blue\",lty=\"dashed\")\n",
    "lines(x=c(time(lkerie)),c(lkerietrain,(predarima2-1.96*searima2)),col=\"blue\",lty=\"dashed\")\n",
    "lines(lkerietrain)\n",
    "\n",
    "ssesarima1<-sse(predarima1, lkerietest)\n",
    "ssesarima2<-sse(predarima2, lkerietest)\n",
    "\n",
    "plot(residuals(sarima1))\n",
    "plot(residuals(sarima2))"
   ]
  },
  {
   "cell_type": "code",
   "execution_count": null,
   "metadata": {
    "autoscroll": false
   },
   "outputs": [],
   "source": [
    "qqnorm(y=residuals(sarima1))\n",
    "acf(residuals(sarima1))\n",
    "acf(residuals(sarima1)^2)"
   ]
  },
  {
   "cell_type": "code",
   "execution_count": null,
   "metadata": {
    "Rmd_chunk_options": "include=FALSE",
    "autoscroll": false
   },
   "outputs": [],
   "source": [
    "pacf(residuals(sarima1))\n",
    "pacf(residuals(sarima1)^2)\n",
    "\n",
    "acf(residuals(sarima2))\n",
    "acf(residuals(sarima2)^2)\n",
    "pacf(residuals(sarima2))\n",
    "pacf(residuals(sarima2)^2)"
   ]
  },
  {
   "cell_type": "markdown",
   "metadata": {},
   "source": [
    "\n",
    "# Spectral Analysis + ARIMA\n",
    "\n",
    "The cyclical component of the time series led me to believe that using spectral analysis to analyze the seasonality of the data may be fruitful. The method I used here was to find the highest frequencies on the periodogram, and use these to model the seasonal components.\n",
    "\n",
    "Using the ten frequencies with this highest spectrum on the log of the time series, I created twenty variables with a sin/cosine function pertaining to each. I then performed linear regression on the transformed time series with these ten values to create a harmonic model.\n",
    "\n"
   ]
  },
  {
   "cell_type": "code",
   "execution_count": null,
   "metadata": {
    "autoscroll": false
   },
   "outputs": [],
   "source": [
    "spec.per<-spec(log(lkerietrain))\n",
    "frequencies<-spec.per$freq[order(spec.per$spec,decreasing=TRUE)]\n",
    "t<-1:length((log(lkerietrain)))\n",
    "length(t)\n",
    "cc1<-as.numeric(cos(2*pi*frequencies[1]*t))\n",
    "d1<-sin(2*pi*frequencies[1]*t)\n",
    "c2<-cos(2*pi*frequencies[2]*t)\n",
    "d2<-sin(2*pi*frequencies[2]*t)\n",
    "c3<-cos(2*pi*frequencies[3]*t)\n",
    "d3<-sin(2*pi*frequencies[3]*t)\n",
    "c4<-cos(2*pi*frequencies[4]*t)\n",
    "d4<-sin(2*pi*frequencies[4]*t)\n",
    "c5<-cos(2*pi*frequencies[5]*t)\n",
    "d5<-sin(2*pi*frequencies[5]*t)\n",
    "c6<-cos(2*pi*frequencies[6]*t)\n",
    "d6<-sin(2*pi*frequencies[6]*t)\n",
    "c7<-cos(2*pi*frequencies[7]*t)\n",
    "d7<-sin(2*pi*frequencies[7]*t)\n",
    "c8<-cos(2*pi*frequencies[8]*t)\n",
    "d8<-sin(2*pi*frequencies[8]*t)\n",
    "c9<-cos(2*pi*frequencies[9]*t)\n",
    "d9<-sin(2*pi*frequencies[9]*t)\n",
    "c10<-cos(2*pi*frequencies[10]*t)\n",
    "d10<-sin(2*pi*frequencies[10]*t)\n",
    "\n",
    "\n",
    "\n",
    "\n",
    "spec.m1<-lm(log(lkerietrain)~cc1+c2+c3+c4+c5+c6+c7+c8+c9+c10+d1+d2+d3+d4+d5+d6+d7+d8+d9+d10+t)\n",
    "summary(spec.m1)"
   ]
  },
  {
   "cell_type": "markdown",
   "metadata": {},
   "source": [
    "\n",
    "The results here are very significant, with a very high R-squared (.8804). We can see that the plot below produced a moderately good fit, considering it is just a sum of sine and cosine waves. However, the danger of overfitting is present. To mitigate this issue, I used the training data and a ARIMA (1,0,1) to find the sum squared errors related to different amounts of frequencies. We can see that the error plateaus at 2 frequencies. I used frequencies of 2 and 4 to create these fits. I then used these frequencies as a prediction of the seasonal components.\n",
    "\n"
   ]
  },
  {
   "cell_type": "code",
   "execution_count": null,
   "metadata": {
    "autoscroll": false
   },
   "outputs": [],
   "source": [
    "plot(exp(fitted(spec.m1)),type=\"l\",col=\"blue\")\n",
    "lines(t,lkerietrain)"
   ]
  },
  {
   "cell_type": "code",
   "execution_count": null,
   "metadata": {
    "Rmd_chunk_options": "include=FALSE",
    "autoscroll": false
   },
   "outputs": [],
   "source": [
    "test<-cbind(c(589:600),cos(2*pi*frequencies[1]*(589:600)),\n",
    "            sin(2*pi*frequencies[1]*(589:600)),\n",
    "            cos(2*pi*frequencies[2]*(589:600)),\n",
    "            sin(2*pi*frequencies[2]*(589:600)),\n",
    "            cos(2*pi*frequencies[3]*(589:600)),\n",
    "            sin(2*pi*frequencies[3]*(589:600)),\n",
    "            cos(2*pi*frequencies[4]*(589:600)),\n",
    "            sin(2*pi*frequencies[4]*(589:600)),\n",
    "            cos(2*pi*frequencies[5]*(589:600)),\n",
    "            sin(2*pi*frequencies[5]*(589:600)),\n",
    "            cos(2*pi*frequencies[6]*(589:600)),\n",
    "            sin(2*pi*frequencies[6]*(589:600)),\n",
    "            cos(2*pi*frequencies[7]*(589:600)),\n",
    "            sin(2*pi*frequencies[7]*(589:600)),\n",
    "            cos(2*pi*frequencies[8]*(589:600)),\n",
    "            sin(2*pi*frequencies[8]*(589:600)),\n",
    "            cos(2*pi*frequencies[9]*(589:600)),\n",
    "            sin(2*pi*frequencies[9]*(589:600)),\n",
    "            cos(2*pi*frequencies[10]*(589:600)),\n",
    "            sin(2*pi*frequencies[10]*(589:600)))\n",
    "\n",
    "colnames(test)=c(\"t\",\"cc1\",\"d1\",\"c2\",\"d2\",\"c3\",\"d3\",\"c4\",\"d4\",\"c5\",\"d5\",\"c6\",\"d6\",\"c7\",\"d7\",\"c8\",\"d8\",\"c9\",\"d9\",\"c10\",\"d10\")\n",
    "\n",
    "plot(lkerietrain)\n",
    "models<-list()"
   ]
  },
  {
   "cell_type": "code",
   "execution_count": null,
   "metadata": {
    "autoscroll": false
   },
   "outputs": [],
   "source": [
    "for(i in 1:10){\n",
    "  beg<-\"cc1+d1\"\n",
    "  if(i>1){\n",
    "    for(s in 2:i){\n",
    "      beg<-paste(beg,paste(\"c\",s,sep=\"\"),paste(\"d\",s,sep=\"\"),sep=\"+\")\n",
    "    }\n",
    "  }\n",
    "  end<-paste(beg,\"t\",sep=\"+\")\n",
    "  models[[i]]<-lm(formula(paste(\"log(lkerietrain)\",\"~\",end,sep=\"\")))\n",
    "  pre<-exp(fitted(models[[i]]))\n",
    "  sub<-lkerietrain-exp(fitted(models[[i]]))\n",
    "  arimasub<-Arima(sub, order=c(1,0,1))\n",
    "  print(i)\n",
    "  print(sum(((arimasub$fitted+pre)-lkerietrain)^2))\n",
    "}"
   ]
  },
  {
   "cell_type": "code",
   "execution_count": null,
   "metadata": {
    "Rmd_chunk_options": "include=FALSE",
    "autoscroll": false
   },
   "outputs": [],
   "source": [
    "summary(models[[2]])\n",
    "summary(models[[4]])##c4 is insignificant, remove it\n",
    "models[[4]]<-lm(log(lkerietrain)~cc1+c2+c3+d1+d2+d3+d4+t)"
   ]
  },
  {
   "cell_type": "markdown",
   "metadata": {},
   "source": [
    "Using the models with 2 and 4 frequencies, I subtracted these fitted spectral models from the original time series. As the plots are very similar in nature, I will only produce one of them here:\n"
   ]
  },
  {
   "cell_type": "code",
   "execution_count": null,
   "metadata": {
    "autoscroll": false
   },
   "outputs": [],
   "source": [
    "sub1<-lkerietrain-exp(fitted(models[[2]]))\n",
    "sub2<-lkerietrain-exp(fitted(models[[4]]))\n",
    "plot(sub1)\n",
    "plot(sub2)"
   ]
  },
  {
   "cell_type": "markdown",
   "metadata": {},
   "source": [
    "This produced two time series that are very reminiscent of random noise, which is what is expected, as this was to remove the seasonal component from the data. After a similar analysis to this data to the above SARIMA models, I arrived at two models to fit this ‘white noise’ like data, SARIMA[1,0,1]x[0,1,1] for the first and SARIMA[2,1,1]x[1,0,1] for the second (the code is included in the appendix, but this result had the smallest AIC from the get.best.arima() function.)\n"
   ]
  },
  {
   "cell_type": "code",
   "execution_count": null,
   "metadata": {
    "Rmd_chunk_options": "include=FALSE",
    "autoscroll": false
   },
   "outputs": [],
   "source": [
    "acf(sub1)\n",
    "pacf(sub1)\n",
    "acf(sub2)\n",
    "pacf(sub2)\n",
    "\n",
    "eacf(sub1)\n",
    "eacf(sub2)\n",
    "\n",
    "plot(armasubsets(sub1,nar=10,nma=10))\n",
    "plot(armasubsets(sub2,nar=10,nma=10))\n",
    "\n",
    "auto.arima(sub1)\n",
    "auto.arima(sub2)\n",
    "\n",
    "get.best.arima(sub1,c(2,2,2,2,2,2))\n",
    "get.best.arima(sub2,c(2,2,2,2,2,2))\n",
    "\n",
    "a1spec1<-Arima(sub1,c(1,0,1))\n",
    "a2spec1<-auto.arima(sub1)\n",
    "\n",
    "a1spec2<-Arima(sub2,c(1,0,1))\n",
    "a2spec2<-auto.arima(sub2)\n",
    "```{r}\n",
    "a3spec1<-Arima(y = sub1, order = c(1, 0, 1), seasonal = c(0, 1, 1),\n",
    "               method = \"CSS\")\n",
    "a3spec2<-Arima(y = sub2, order = c(2, 1, 1), seasonal = c(1, 0, 1),\n",
    "               method = \"CSS\")"
   ]
  },
  {
   "cell_type": "markdown",
   "metadata": {},
   "source": [
    "The plots below show that the residuals for the first model are relatively normal and that they do not exhibit very high auto-correlation or partial auto-correlation in the squared cases, which suggests that a these ARIMA models are sufficient, and a GARCH model is unneccessary.\n"
   ]
  },
  {
   "cell_type": "code",
   "execution_count": null,
   "metadata": {
    "Rmd_chunk_options": "include=FALSE",
    "autoscroll": false
   },
   "outputs": [],
   "source": [
    "resid1<-residuals(a3spec1)\n",
    "resid2<-residuals(a3spec2)"
   ]
  },
  {
   "cell_type": "code",
   "execution_count": null,
   "metadata": {
    "autoscroll": false
   },
   "outputs": [],
   "source": [
    "plot(resid1)\n",
    "acf(resid1)\n",
    "acf(resid1^2)"
   ]
  },
  {
   "cell_type": "code",
   "execution_count": null,
   "metadata": {
    "Rmd_chunk_options": "include=FALSE",
    "autoscroll": false
   },
   "outputs": [],
   "source": [
    "plot(resid2)\n",
    "pacf(resid2)\n",
    "pacf(resid2^2)"
   ]
  },
  {
   "cell_type": "code",
   "execution_count": null,
   "metadata": {
    "Rmd_chunk_options": "include=FALSE",
    "autoscroll": false
   },
   "outputs": [],
   "source": [
    "\n",
    "# Predictions\n",
    "specpred1<-exp(predict(models[[2]],newdata=as.data.frame(test)))\n",
    "specpred2<-exp(predict(models[[4]],newdata=as.data.frame(test)))\n",
    "\n",
    "arimapred1<-predict(a3spec1,n.ahead=12)$pred\n",
    "arimapred2<-predict(a3spec2,n.ahead=12)$pred\n",
    "\n",
    "arimase1<-predict(a3spec1,n.ahead=12)$se\n",
    "arimase2<-predict(a3spec2,n.ahead=12)$se\n",
    "\n",
    "finalpred1<-specpred1+arimapred1\n",
    "finalpred2<-specpred2+arimapred2\n",
    "\n",
    "ssesp1<-sse(finalpred1, lkerietest)\n",
    "ssesp2<-sse(finalpred2, lkerietest)\n",
    "\n",
    "ssesp1/12\n",
    "ssesp2/12"
   ]
  },
  {
   "cell_type": "markdown",
   "metadata": {},
   "source": [
    "# Prophet\n",
    "The final model that I considered was one produced by Facebook’s prophet package for R. All that is needed is to initialize the data and set it up appropriately. Although the prophet package is somewhat of a “black box” – and it is most effective on daily data – I thought it would be interesting to include it and see how it performs as compared with the other models.\n"
   ]
  },
  {
   "cell_type": "code",
   "execution_count": null,
   "metadata": {
    "autoscroll": false
   },
   "outputs": [],
   "source": [
    "ds <- as.Date.ts(lkerietrain)\n",
    "y<-as.numeric((log(lkerietrain)))\n",
    "df<-data.frame(ds,y)\n",
    "prop<-prophet(df,weekly.seasonality=TRUE)\n",
    "\n",
    "future <- make_future_dataframe(prop, period = 12,freq=\"m\")\n",
    "forecast <- prophet:::predict.prophet(prop, future)\n",
    "fitproph<-exp((forecast$yhat)[1:(length(forecast$yhat)-12)])\n",
    "predproph<-exp((forecast$yhat)[(length(forecast$yhat)-11):length(forecast$yhat)])\n",
    "confintup<-exp((forecast$yhat_upper)[(length(forecast$yhat)-11):length(forecast$yhat)])\n",
    "confintlow<-confintup<-exp((forecast$yhat_lower)[(length(forecast$yhat)-11):length(forecast$yhat)])\n",
    "\n",
    "sseproph<-sse(predproph, lkerietest)"
   ]
  },
  {
   "cell_type": "markdown",
   "metadata": {},
   "source": [
    "# Results\n",
    "Below is a table representing the sum squared errors of each of the models when forecasting for the next 12 months. These are the errors of each model in comparison to the test data.\n",
    "\n",
    "\n",
    "\n"
   ]
  },
  {
   "cell_type": "code",
   "execution_count": null,
   "metadata": {
    "autoscroll": false
   },
   "outputs": [],
   "source": [
    "results<-data.frame(c(ssehw1,ssehw2,ssesarima1,ssesarima2,ssesp1,ssesp2,sseproph))\n",
    "colnames(results)<-\"SSE\"\n",
    "rownames(results)<-(c(\"HW 1\",\"HW 2\",\"SARIMA 1\",\"SARIMA 2\",\"Spec 1\",\"Spec 2\",\"Prophet\"))\n",
    "results"
   ]
  },
  {
   "cell_type": "markdown",
   "metadata": {},
   "source": [
    "We can see that the models which use the frequencies from spectral analysis to remove the seasonal components are the best at predicting the data. This makes sense, as many geophysical processes can be modeled well using the sin and cosine waves in spectral analysis. Besides these two models, the SARIMA 2 model predicted with the least error. Below, I produce a plot which shows all the models’ predictions as well as the true values for the time series.\n"
   ]
  },
  {
   "cell_type": "code",
   "execution_count": null,
   "metadata": {
    "autoscroll": false
   },
   "outputs": [],
   "source": [
    "length(lkerie)\n",
    "range<-560:600\n",
    "plot(time(lkerie)[range],lkerie[range],ty=\"l\",xlab=\"Time\",ylab=\"Water Level\",main=\"Overview of Models Used\")\n",
    "addplot(finalpred1,range,colors2[1])\n",
    "addplot(finalpred2,range,colors2[2])\n",
    "addplot(predarima1,range,colors2[3])\n",
    "addplot(predarima2,range,colors2[4])\n",
    "addplot(hw1pred,range,colors2[5])\n",
    "addplot(hw2pred,range,colors2[6])\n",
    "addplot(predproph,range,colors2[7])\n",
    "lines(lkerie[range])\n",
    "\n",
    "legend('topleft', c(\"True\",\"Spec 1\",\"Spec 2\",\"SARIMA 1\",\"SARIMA 2\",\"HW 1\",\"HW 2\",\"Prophet\"),col=c(\"black\",colors2),\n",
    "       lty=\"dashed\", bty='n', cex=.75)"
   ]
  },
  {
   "cell_type": "markdown",
   "metadata": {},
   "source": [
    "\n",
    "Finally, I produce graphs with confidence intervals for the most effective models of each type.\n",
    "\n"
   ]
  },
  {
   "cell_type": "code",
   "execution_count": null,
   "metadata": {
    "autoscroll": false
   },
   "outputs": [],
   "source": [
    "plot(forecast(hw1,12))\n",
    "\n",
    "plot(x=time(lkerie),c(lkerietrain,finalpred1),ty=\"l\",main=\"Forecast of Spec 1\",xlab=\"Time\",ylab=\"Water Level\")\n",
    "lines(x=c(time(lkerie)),c(lkerietrain,finalpred1+1.96*arimase1),lty=\"dashed\",col=\"blue\")\n",
    "lines(x=c(time(lkerie)),c(lkerietrain,finalpred1-1.96*arimase1),lty=\"dashed\",col=\"blue\")\n",
    "lines(lkerietrain,col=\"black\")\n",
    "\n",
    "ts.plot(lkerietrain,predarima2,col=\"blue\",main=\"SARIMA 2\",xlab=\"Time\",ylab=\"Water Level\")\n",
    "lines(x=c(time(lkerie)),c(lkerietrain,(predarima2+1.96*searima2)),col=\"blue\",lty=\"dashed\")\n",
    "lines(x=c(time(lkerie)),c(lkerietrain,(predarima2-1.96*searima2)),col=\"blue\",lty=\"dashed\")\n",
    "lines(lkerietrain)"
   ]
  },
  {
   "cell_type": "markdown",
   "metadata": {},
   "source": [
    "\n"
   ]
  }
 ],
 "metadata": {
  "Rmd_header": {
   "author": "Sean Ammirati",
   "date": "October 22, 2016",
   "output": "html_document",
   "title": "Time Series: Lake Erie"
  },
  "kernelspec": {
   "display_name": "R",
   "language": "R",
   "name": "ir"
  }
 },
 "nbformat": 4,
 "nbformat_minor": 1
}
