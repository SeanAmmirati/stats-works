{
 "cells": [
  {
   "cell_type": "code",
   "execution_count": 1,
   "metadata": {},
   "outputs": [
    {
     "name": "stderr",
     "output_type": "stream",
     "text": [
      "C:\\Users\\ginge\\Anaconda3\\envs\\webdev\\lib\\site-packages\\rpy2-2.9.1-py3.5-win-amd64.egg\\rpy2\\ipython\\rmagic.py:80: UserWarning: The Python package 'pandas' is strongly recommended when using `rpy2.ipython`. Unfortunately it could not be loaded, as we did not manage to load 'numpy' first.\n",
      "  \"first.\")))\n"
     ]
    }
   ],
   "source": [
    "%load_ext rpy2.ipython"
   ]
  }
 ],
 "metadata": {},
 "nbformat": 4,
 "nbformat_minor": 2
}
